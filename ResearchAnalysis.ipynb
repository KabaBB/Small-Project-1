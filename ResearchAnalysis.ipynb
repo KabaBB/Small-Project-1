{
 "cells": [
  {
   "cell_type": "markdown",
   "metadata": {},
   "source": [
    "- [x]  открыт файл\n",
    "- [x]  файлы изучены (выведены первые строки, метод `info()`, гистограммы и т.д.)\n",
    "- [x]  определены пропущенные значения\n",
    "- [x]  заполнены пропущенные значения там, где это возможно\n",
    "- [x]  есть пояснение, какие пропущенные значения обнаружены\n",
    "- [x]  изменены типы данных\n",
    "- [x]  есть пояснение, в каких столбцах изменены типы и почему\n",
    "- [x]  устранены неявные дубликаты в названиях населённых пунктов\n",
    "- [x]  устранены редкие и выбивающиеся значения (аномалии) во всех столбцах\n",
    "- [x]  посчитано и добавлено в таблицу: цена одного квадратного метра\n",
    "- [x]  посчитано и добавлено в таблицу: день публикации объявления (0 - понедельник, 1 - вторник и т.д.)\n",
    "- [x]  посчитано и добавлено в таблицу: месяц публикации объявления\n",
    "- [x]  посчитано и добавлено в таблицу: год публикации объявления\n",
    "- [x]  посчитано и добавлено в таблицу: тип этажа квартиры (значения — «первый», «последний», «другой»)\n",
    "- [x]  посчитано и добавлено в таблицу: расстояние в км до центра города\n",
    "- [x]  изучены и описаны следующие параметры:\n",
    "        - общая площадь;\n",
    "        - жилая площадь;\n",
    "        - площадь кухни;\n",
    "        - цена объекта;\n",
    "        - количество комнат;\n",
    "        - высота потолков;\n",
    "        - этаж квартиры;\n",
    "        - тип этажа квартиры («первый», «последний», «другой»);\n",
    "        - общее количество этажей в доме;\n",
    "        - расстояние до центра города в метрах;\n",
    "        - расстояние до ближайшего аэропорта;\n",
    "        - расстояние до ближайшего парка;\n",
    "        - день и месяц публикации объявления\n",
    "- [x]  построены гистограммы для каждого параметра\n",
    "- [x]  выполнено задание: \"Изучите, как быстро продавались квартиры (столбец days_exposition). Этот параметр показывает, сколько дней «висело» каждое объявление.\n",
    "    - Постройте гистограмму.\n",
    "    - Посчитайте среднее и медиану.\n",
    "    - В ячейке типа markdown опишите, сколько обычно занимает продажа. Какие продажи можно считать быстрыми, а какие — необычно долгими?\"\n",
    "- [x]  выполнено задание: \"Какие факторы больше всего влияют на общую (полную) стоимость объекта? Постройте графики, которые покажут зависимость цены от указанных ниже параметров. Для подготовки данных перед визуализацией вы можете использовать сводные таблицы.\"\n",
    "        - общей площади;\n",
    "        - жилой площади;\n",
    "        - площади кухни;\n",
    "        - количество комнат;\n",
    "        - типа этажа, на котором расположена квартира (первый, последний, другой);\n",
    "        - даты размещения (день недели, месяц, год);\n",
    "- [x]  выполнено задание: \"Посчитайте среднюю цену одного квадратного метра в 10 населённых пунктах с наибольшим числом объявлений. Выделите населённые пункты с самой высокой и низкой стоимостью квадратного метра. Эти данные можно найти по имени в столбце `locality_name`.\"\n",
    "- [x]  выполнено задание: \"Ранее вы посчитали расстояние до центра в километрах. Теперь выделите квартиры в Санкт-Петербурге с помощью столбца `locality_name` и вычислите среднюю цену каждого километра. Опишите, как стоимость объектов зависит от расстояния до центра города.\"\n",
    "- [x]  в каждом этапе есть промежуточные выводы\n",
    "- [x]  есть общий вывод"
   ]
  },
  {
   "cell_type": "markdown",
   "metadata": {},
   "source": [
    "# Исследование объявлений о продаже квартир\n",
    "\n",
    "В нашем распоряжении данные сервиса Яндекс.Недвижимость — архив объявлений о продаже квартир в Санкт-Петербурге и соседних населённых пунктов за несколько лет. Нужно научиться определять рыночную стоимость объектов недвижимости. Ваша задача — установить параметры. Это позволит построить автоматизированную систему: она отследит аномалии и мошенническую деятельность. \n",
    "\n",
    "По каждой квартире на продажу доступны два вида данных. Первые вписаны пользователем, вторые — получены автоматически на основе картографических данных. Например, расстояние до центра, аэропорта, ближайшего парка и водоёма. "
   ]
  },
  {
   "cell_type": "markdown",
   "metadata": {},
   "source": [
    "### Откройте файл с данными и изучите общую информацию. "
   ]
  },
  {
   "cell_type": "markdown",
   "metadata": {},
   "source": [
    "#### Импорт библиотек, первичный вывод таблицы"
   ]
  },
  {
   "cell_type": "code",
   "execution_count": 1,
   "metadata": {},
   "outputs": [
    {
     "data": {
      "text/html": [
       "<div>\n",
       "<style scoped>\n",
       "    .dataframe tbody tr th:only-of-type {\n",
       "        vertical-align: middle;\n",
       "    }\n",
       "\n",
       "    .dataframe tbody tr th {\n",
       "        vertical-align: top;\n",
       "    }\n",
       "\n",
       "    .dataframe thead th {\n",
       "        text-align: right;\n",
       "    }\n",
       "</style>\n",
       "<table border=\"1\" class=\"dataframe\">\n",
       "  <thead>\n",
       "    <tr style=\"text-align: right;\">\n",
       "      <th></th>\n",
       "      <th>total_images</th>\n",
       "      <th>last_price</th>\n",
       "      <th>total_area</th>\n",
       "      <th>first_day_exposition</th>\n",
       "      <th>rooms</th>\n",
       "      <th>ceiling_height</th>\n",
       "      <th>floors_total</th>\n",
       "      <th>living_area</th>\n",
       "      <th>floor</th>\n",
       "      <th>is_apartment</th>\n",
       "      <th>studio</th>\n",
       "      <th>open_plan</th>\n",
       "      <th>kitchen_area</th>\n",
       "      <th>balcony</th>\n",
       "      <th>locality_name</th>\n",
       "      <th>airports_nearest</th>\n",
       "      <th>cityCenters_nearest</th>\n",
       "      <th>parks_around3000</th>\n",
       "      <th>parks_nearest</th>\n",
       "      <th>ponds_around3000</th>\n",
       "      <th>ponds_nearest</th>\n",
       "      <th>days_exposition</th>\n",
       "    </tr>\n",
       "  </thead>\n",
       "  <tbody>\n",
       "    <tr>\n",
       "      <th>0</th>\n",
       "      <td>20</td>\n",
       "      <td>13000000.0</td>\n",
       "      <td>108.00</td>\n",
       "      <td>2019-03-07T00:00:00</td>\n",
       "      <td>3</td>\n",
       "      <td>2.70</td>\n",
       "      <td>16.0</td>\n",
       "      <td>51.00</td>\n",
       "      <td>8</td>\n",
       "      <td>NaN</td>\n",
       "      <td>False</td>\n",
       "      <td>False</td>\n",
       "      <td>25.00</td>\n",
       "      <td>NaN</td>\n",
       "      <td>Санкт-Петербург</td>\n",
       "      <td>18863.0</td>\n",
       "      <td>16028.0</td>\n",
       "      <td>1.0</td>\n",
       "      <td>482.0</td>\n",
       "      <td>2.0</td>\n",
       "      <td>755.0</td>\n",
       "      <td>NaN</td>\n",
       "    </tr>\n",
       "    <tr>\n",
       "      <th>1</th>\n",
       "      <td>7</td>\n",
       "      <td>3350000.0</td>\n",
       "      <td>40.40</td>\n",
       "      <td>2018-12-04T00:00:00</td>\n",
       "      <td>1</td>\n",
       "      <td>NaN</td>\n",
       "      <td>11.0</td>\n",
       "      <td>18.60</td>\n",
       "      <td>1</td>\n",
       "      <td>NaN</td>\n",
       "      <td>False</td>\n",
       "      <td>False</td>\n",
       "      <td>11.00</td>\n",
       "      <td>2.0</td>\n",
       "      <td>посёлок Шушары</td>\n",
       "      <td>12817.0</td>\n",
       "      <td>18603.0</td>\n",
       "      <td>0.0</td>\n",
       "      <td>NaN</td>\n",
       "      <td>0.0</td>\n",
       "      <td>NaN</td>\n",
       "      <td>81.0</td>\n",
       "    </tr>\n",
       "    <tr>\n",
       "      <th>2</th>\n",
       "      <td>10</td>\n",
       "      <td>5196000.0</td>\n",
       "      <td>56.00</td>\n",
       "      <td>2015-08-20T00:00:00</td>\n",
       "      <td>2</td>\n",
       "      <td>NaN</td>\n",
       "      <td>5.0</td>\n",
       "      <td>34.30</td>\n",
       "      <td>4</td>\n",
       "      <td>NaN</td>\n",
       "      <td>False</td>\n",
       "      <td>False</td>\n",
       "      <td>8.30</td>\n",
       "      <td>0.0</td>\n",
       "      <td>Санкт-Петербург</td>\n",
       "      <td>21741.0</td>\n",
       "      <td>13933.0</td>\n",
       "      <td>1.0</td>\n",
       "      <td>90.0</td>\n",
       "      <td>2.0</td>\n",
       "      <td>574.0</td>\n",
       "      <td>558.0</td>\n",
       "    </tr>\n",
       "    <tr>\n",
       "      <th>3</th>\n",
       "      <td>0</td>\n",
       "      <td>64900000.0</td>\n",
       "      <td>159.00</td>\n",
       "      <td>2015-07-24T00:00:00</td>\n",
       "      <td>3</td>\n",
       "      <td>NaN</td>\n",
       "      <td>14.0</td>\n",
       "      <td>NaN</td>\n",
       "      <td>9</td>\n",
       "      <td>NaN</td>\n",
       "      <td>False</td>\n",
       "      <td>False</td>\n",
       "      <td>NaN</td>\n",
       "      <td>0.0</td>\n",
       "      <td>Санкт-Петербург</td>\n",
       "      <td>28098.0</td>\n",
       "      <td>6800.0</td>\n",
       "      <td>2.0</td>\n",
       "      <td>84.0</td>\n",
       "      <td>3.0</td>\n",
       "      <td>234.0</td>\n",
       "      <td>424.0</td>\n",
       "    </tr>\n",
       "    <tr>\n",
       "      <th>4</th>\n",
       "      <td>2</td>\n",
       "      <td>10000000.0</td>\n",
       "      <td>100.00</td>\n",
       "      <td>2018-06-19T00:00:00</td>\n",
       "      <td>2</td>\n",
       "      <td>3.03</td>\n",
       "      <td>14.0</td>\n",
       "      <td>32.00</td>\n",
       "      <td>13</td>\n",
       "      <td>NaN</td>\n",
       "      <td>False</td>\n",
       "      <td>False</td>\n",
       "      <td>41.00</td>\n",
       "      <td>NaN</td>\n",
       "      <td>Санкт-Петербург</td>\n",
       "      <td>31856.0</td>\n",
       "      <td>8098.0</td>\n",
       "      <td>2.0</td>\n",
       "      <td>112.0</td>\n",
       "      <td>1.0</td>\n",
       "      <td>48.0</td>\n",
       "      <td>121.0</td>\n",
       "    </tr>\n",
       "    <tr>\n",
       "      <th>5</th>\n",
       "      <td>10</td>\n",
       "      <td>2890000.0</td>\n",
       "      <td>30.40</td>\n",
       "      <td>2018-09-10T00:00:00</td>\n",
       "      <td>1</td>\n",
       "      <td>NaN</td>\n",
       "      <td>12.0</td>\n",
       "      <td>14.40</td>\n",
       "      <td>5</td>\n",
       "      <td>NaN</td>\n",
       "      <td>False</td>\n",
       "      <td>False</td>\n",
       "      <td>9.10</td>\n",
       "      <td>NaN</td>\n",
       "      <td>городской посёлок Янино-1</td>\n",
       "      <td>NaN</td>\n",
       "      <td>NaN</td>\n",
       "      <td>NaN</td>\n",
       "      <td>NaN</td>\n",
       "      <td>NaN</td>\n",
       "      <td>NaN</td>\n",
       "      <td>55.0</td>\n",
       "    </tr>\n",
       "    <tr>\n",
       "      <th>6</th>\n",
       "      <td>6</td>\n",
       "      <td>3700000.0</td>\n",
       "      <td>37.30</td>\n",
       "      <td>2017-11-02T00:00:00</td>\n",
       "      <td>1</td>\n",
       "      <td>NaN</td>\n",
       "      <td>26.0</td>\n",
       "      <td>10.60</td>\n",
       "      <td>6</td>\n",
       "      <td>NaN</td>\n",
       "      <td>False</td>\n",
       "      <td>False</td>\n",
       "      <td>14.40</td>\n",
       "      <td>1.0</td>\n",
       "      <td>посёлок Парголово</td>\n",
       "      <td>52996.0</td>\n",
       "      <td>19143.0</td>\n",
       "      <td>0.0</td>\n",
       "      <td>NaN</td>\n",
       "      <td>0.0</td>\n",
       "      <td>NaN</td>\n",
       "      <td>155.0</td>\n",
       "    </tr>\n",
       "    <tr>\n",
       "      <th>7</th>\n",
       "      <td>5</td>\n",
       "      <td>7915000.0</td>\n",
       "      <td>71.60</td>\n",
       "      <td>2019-04-18T00:00:00</td>\n",
       "      <td>2</td>\n",
       "      <td>NaN</td>\n",
       "      <td>24.0</td>\n",
       "      <td>NaN</td>\n",
       "      <td>22</td>\n",
       "      <td>NaN</td>\n",
       "      <td>False</td>\n",
       "      <td>False</td>\n",
       "      <td>18.90</td>\n",
       "      <td>2.0</td>\n",
       "      <td>Санкт-Петербург</td>\n",
       "      <td>23982.0</td>\n",
       "      <td>11634.0</td>\n",
       "      <td>0.0</td>\n",
       "      <td>NaN</td>\n",
       "      <td>0.0</td>\n",
       "      <td>NaN</td>\n",
       "      <td>NaN</td>\n",
       "    </tr>\n",
       "    <tr>\n",
       "      <th>8</th>\n",
       "      <td>20</td>\n",
       "      <td>2900000.0</td>\n",
       "      <td>33.16</td>\n",
       "      <td>2018-05-23T00:00:00</td>\n",
       "      <td>1</td>\n",
       "      <td>NaN</td>\n",
       "      <td>27.0</td>\n",
       "      <td>15.43</td>\n",
       "      <td>26</td>\n",
       "      <td>NaN</td>\n",
       "      <td>False</td>\n",
       "      <td>False</td>\n",
       "      <td>8.81</td>\n",
       "      <td>NaN</td>\n",
       "      <td>посёлок Мурино</td>\n",
       "      <td>NaN</td>\n",
       "      <td>NaN</td>\n",
       "      <td>NaN</td>\n",
       "      <td>NaN</td>\n",
       "      <td>NaN</td>\n",
       "      <td>NaN</td>\n",
       "      <td>189.0</td>\n",
       "    </tr>\n",
       "    <tr>\n",
       "      <th>9</th>\n",
       "      <td>18</td>\n",
       "      <td>5400000.0</td>\n",
       "      <td>61.00</td>\n",
       "      <td>2017-02-26T00:00:00</td>\n",
       "      <td>3</td>\n",
       "      <td>2.50</td>\n",
       "      <td>9.0</td>\n",
       "      <td>43.60</td>\n",
       "      <td>7</td>\n",
       "      <td>NaN</td>\n",
       "      <td>False</td>\n",
       "      <td>False</td>\n",
       "      <td>6.50</td>\n",
       "      <td>2.0</td>\n",
       "      <td>Санкт-Петербург</td>\n",
       "      <td>50898.0</td>\n",
       "      <td>15008.0</td>\n",
       "      <td>0.0</td>\n",
       "      <td>NaN</td>\n",
       "      <td>0.0</td>\n",
       "      <td>NaN</td>\n",
       "      <td>289.0</td>\n",
       "    </tr>\n",
       "  </tbody>\n",
       "</table>\n",
       "</div>"
      ],
      "text/plain": [
       "   total_images  last_price  total_area first_day_exposition  rooms  \\\n",
       "0            20  13000000.0      108.00  2019-03-07T00:00:00      3   \n",
       "1             7   3350000.0       40.40  2018-12-04T00:00:00      1   \n",
       "2            10   5196000.0       56.00  2015-08-20T00:00:00      2   \n",
       "3             0  64900000.0      159.00  2015-07-24T00:00:00      3   \n",
       "4             2  10000000.0      100.00  2018-06-19T00:00:00      2   \n",
       "5            10   2890000.0       30.40  2018-09-10T00:00:00      1   \n",
       "6             6   3700000.0       37.30  2017-11-02T00:00:00      1   \n",
       "7             5   7915000.0       71.60  2019-04-18T00:00:00      2   \n",
       "8            20   2900000.0       33.16  2018-05-23T00:00:00      1   \n",
       "9            18   5400000.0       61.00  2017-02-26T00:00:00      3   \n",
       "\n",
       "   ceiling_height  floors_total  living_area  floor is_apartment  studio  \\\n",
       "0            2.70          16.0        51.00      8          NaN   False   \n",
       "1             NaN          11.0        18.60      1          NaN   False   \n",
       "2             NaN           5.0        34.30      4          NaN   False   \n",
       "3             NaN          14.0          NaN      9          NaN   False   \n",
       "4            3.03          14.0        32.00     13          NaN   False   \n",
       "5             NaN          12.0        14.40      5          NaN   False   \n",
       "6             NaN          26.0        10.60      6          NaN   False   \n",
       "7             NaN          24.0          NaN     22          NaN   False   \n",
       "8             NaN          27.0        15.43     26          NaN   False   \n",
       "9            2.50           9.0        43.60      7          NaN   False   \n",
       "\n",
       "   open_plan  kitchen_area  balcony              locality_name  \\\n",
       "0      False         25.00      NaN            Санкт-Петербург   \n",
       "1      False         11.00      2.0             посёлок Шушары   \n",
       "2      False          8.30      0.0            Санкт-Петербург   \n",
       "3      False           NaN      0.0            Санкт-Петербург   \n",
       "4      False         41.00      NaN            Санкт-Петербург   \n",
       "5      False          9.10      NaN  городской посёлок Янино-1   \n",
       "6      False         14.40      1.0          посёлок Парголово   \n",
       "7      False         18.90      2.0            Санкт-Петербург   \n",
       "8      False          8.81      NaN             посёлок Мурино   \n",
       "9      False          6.50      2.0            Санкт-Петербург   \n",
       "\n",
       "   airports_nearest  cityCenters_nearest  parks_around3000  parks_nearest  \\\n",
       "0           18863.0              16028.0               1.0          482.0   \n",
       "1           12817.0              18603.0               0.0            NaN   \n",
       "2           21741.0              13933.0               1.0           90.0   \n",
       "3           28098.0               6800.0               2.0           84.0   \n",
       "4           31856.0               8098.0               2.0          112.0   \n",
       "5               NaN                  NaN               NaN            NaN   \n",
       "6           52996.0              19143.0               0.0            NaN   \n",
       "7           23982.0              11634.0               0.0            NaN   \n",
       "8               NaN                  NaN               NaN            NaN   \n",
       "9           50898.0              15008.0               0.0            NaN   \n",
       "\n",
       "   ponds_around3000  ponds_nearest  days_exposition  \n",
       "0               2.0          755.0              NaN  \n",
       "1               0.0            NaN             81.0  \n",
       "2               2.0          574.0            558.0  \n",
       "3               3.0          234.0            424.0  \n",
       "4               1.0           48.0            121.0  \n",
       "5               NaN            NaN             55.0  \n",
       "6               0.0            NaN            155.0  \n",
       "7               0.0            NaN              NaN  \n",
       "8               NaN            NaN            189.0  \n",
       "9               0.0            NaN            289.0  "
      ]
     },
     "execution_count": 1,
     "metadata": {},
     "output_type": "execute_result"
    }
   ],
   "source": [
    "import pandas as pd\n",
    "import matplotlib.pyplot as plt\n",
    "data = pd.read_csv('/datasets/real_estate_data.csv', sep = '\\t')\n",
    "pd.set_option('display.max_columns', None)\n",
    "data.head(10)"
   ]
  },
  {
   "cell_type": "markdown",
   "metadata": {},
   "source": [
    "#### Вывод общей информации для наглядности"
   ]
  },
  {
   "cell_type": "code",
   "execution_count": 2,
   "metadata": {},
   "outputs": [
    {
     "name": "stdout",
     "output_type": "stream",
     "text": [
      "<class 'pandas.core.frame.DataFrame'>\n",
      "RangeIndex: 23699 entries, 0 to 23698\n",
      "Data columns (total 22 columns):\n",
      " #   Column                Non-Null Count  Dtype  \n",
      "---  ------                --------------  -----  \n",
      " 0   total_images          23699 non-null  int64  \n",
      " 1   last_price            23699 non-null  float64\n",
      " 2   total_area            23699 non-null  float64\n",
      " 3   first_day_exposition  23699 non-null  object \n",
      " 4   rooms                 23699 non-null  int64  \n",
      " 5   ceiling_height        14504 non-null  float64\n",
      " 6   floors_total          23613 non-null  float64\n",
      " 7   living_area           21796 non-null  float64\n",
      " 8   floor                 23699 non-null  int64  \n",
      " 9   is_apartment          2775 non-null   object \n",
      " 10  studio                23699 non-null  bool   \n",
      " 11  open_plan             23699 non-null  bool   \n",
      " 12  kitchen_area          21421 non-null  float64\n",
      " 13  balcony               12180 non-null  float64\n",
      " 14  locality_name         23650 non-null  object \n",
      " 15  airports_nearest      18157 non-null  float64\n",
      " 16  cityCenters_nearest   18180 non-null  float64\n",
      " 17  parks_around3000      18181 non-null  float64\n",
      " 18  parks_nearest         8079 non-null   float64\n",
      " 19  ponds_around3000      18181 non-null  float64\n",
      " 20  ponds_nearest         9110 non-null   float64\n",
      " 21  days_exposition       20518 non-null  float64\n",
      "dtypes: bool(2), float64(14), int64(3), object(3)\n",
      "memory usage: 3.7+ MB\n"
     ]
    }
   ],
   "source": [
    "data.info()"
   ]
  },
  {
   "cell_type": "markdown",
   "metadata": {},
   "source": [
    "Видим большое количество пропусков"
   ]
  },
  {
   "cell_type": "code",
   "execution_count": 3,
   "metadata": {},
   "outputs": [
    {
     "data": {
      "image/png": "[encoded data removed]",
      "text/plain": [
       "<Figure size 1080x1440 with 20 Axes>"
      ]
     },
     "metadata": {
      "needs_background": "light"
     },
     "output_type": "display_data"
    }
   ],
   "source": [
    "data.hist(figsize=(15, 20));"
   ]
  },
  {
   "cell_type": "markdown",
   "metadata": {},
   "source": [
    "#### Изучим пропущенные значения"
   ]
  },
  {
   "cell_type": "code",
   "execution_count": 4,
   "metadata": {},
   "outputs": [
    {
     "data": {
      "text/plain": [
       "total_images                0\n",
       "last_price                  0\n",
       "total_area                  0\n",
       "first_day_exposition        0\n",
       "rooms                       0\n",
       "ceiling_height           9195\n",
       "floors_total               86\n",
       "living_area              1903\n",
       "floor                       0\n",
       "is_apartment            20924\n",
       "studio                      0\n",
       "open_plan                   0\n",
       "kitchen_area             2278\n",
       "balcony                 11519\n",
       "locality_name              49\n",
       "airports_nearest         5542\n",
       "cityCenters_nearest      5519\n",
       "parks_around3000         5518\n",
       "parks_nearest           15620\n",
       "ponds_around3000         5518\n",
       "ponds_nearest           14589\n",
       "days_exposition          3181\n",
       "dtype: int64"
      ]
     },
     "execution_count": 4,
     "metadata": {},
     "output_type": "execute_result"
    }
   ],
   "source": [
    "data.isna().sum()"
   ]
  },
  {
   "cell_type": "markdown",
   "metadata": {},
   "source": [
    "##### Как мы можем заметить, самое большое количество пропусков в разделе, обозначающем жилое/нежилое помещение. Их так много ввиду того, что в основном люди продают и покупают именно жилье, а не коммерческие помещения. Так же много пропусков с информацией о наличии балкона, ближайших парках и водоемах. Предлагаю пометить информацию о балконах, парках и водоемах нулями, а жилое/нежилое помещение вместо NaN, False. "
   ]
  },
  {
   "cell_type": "markdown",
   "metadata": {},
   "source": [
    "### Предобработка данных"
   ]
  },
  {
   "cell_type": "markdown",
   "metadata": {},
   "source": [
    "#### Заполним пропущенные значения"
   ]
  },
  {
   "cell_type": "code",
   "execution_count": 5,
   "metadata": {},
   "outputs": [
    {
     "data": {
      "text/plain": [
       "total_images                0\n",
       "last_price                  0\n",
       "total_area                  0\n",
       "first_day_exposition        0\n",
       "rooms                       0\n",
       "ceiling_height           9195\n",
       "floors_total               86\n",
       "living_area              1903\n",
       "floor                       0\n",
       "is_apartment                0\n",
       "studio                      0\n",
       "open_plan                   0\n",
       "kitchen_area             2278\n",
       "balcony                 11519\n",
       "locality_name              49\n",
       "airports_nearest         5542\n",
       "cityCenters_nearest      5519\n",
       "parks_around3000         5518\n",
       "parks_nearest           15620\n",
       "ponds_around3000         5518\n",
       "ponds_nearest           14589\n",
       "days_exposition          3181\n",
       "dtype: int64"
      ]
     },
     "execution_count": 5,
     "metadata": {},
     "output_type": "execute_result"
    }
   ],
   "source": [
    "data['is_apartment'].fillna(False, inplace=True)\n",
    "data.isna().sum()"
   ]
  },
  {
   "cell_type": "code",
   "execution_count": 6,
   "metadata": {},
   "outputs": [
    {
     "data": {
      "text/plain": [
       "total_images                0\n",
       "last_price                  0\n",
       "total_area                  0\n",
       "first_day_exposition        0\n",
       "rooms                       0\n",
       "ceiling_height           9195\n",
       "floors_total               86\n",
       "living_area              1903\n",
       "floor                       0\n",
       "is_apartment                0\n",
       "studio                      0\n",
       "open_plan                   0\n",
       "kitchen_area             2278\n",
       "balcony                     0\n",
       "locality_name              49\n",
       "airports_nearest         5542\n",
       "cityCenters_nearest      5519\n",
       "parks_around3000         5518\n",
       "parks_nearest           15620\n",
       "ponds_around3000         5518\n",
       "ponds_nearest           14589\n",
       "days_exposition          3181\n",
       "dtype: int64"
      ]
     },
     "execution_count": 6,
     "metadata": {},
     "output_type": "execute_result"
    }
   ],
   "source": [
    "data['balcony'].fillna(0, inplace=True)\n",
    "data.isna().sum()"
   ]
  },
  {
   "cell_type": "markdown",
   "metadata": {},
   "source": [
    "Вероятно, если человек не указал количество балконов, их попросту нет в квартире. "
   ]
  },
  {
   "cell_type": "markdown",
   "metadata": {},
   "source": [
    "В этом коде мы создаем новый столбец 'XXX_nearest_median', который содержит медианные значения расстояний до ближайших парков для каждого города. Затем мы объединяем этот столбец с исходным data, используя столбец 'locality_name' как ключ. Пропущенные значения в 'XXX_nearest' заменяются на соответствующие медианные значения, а затем временный столбец 'XXX_nearest_median' удаляется."
   ]
  },
  {
   "cell_type": "markdown",
   "metadata": {},
   "source": [
    "###### Причинами того, почему люди не заполняют пункт связанный с апартаментами заключается в том, что человек, выкладывающий квартиру, когда видит в анкете вопрос с мелькающим словом АПАРТАМЕНТЫ, просто пропускает его, так как считает подсознательно, что его квартира к этому вопросу не относится. Насчет балконов, парков и водоемов, вероятно ничего этого по близости нет. "
   ]
  },
  {
   "cell_type": "markdown",
   "metadata": {},
   "source": [
    "#### Смотрим и сверяем типы данных"
   ]
  },
  {
   "cell_type": "code",
   "execution_count": 7,
   "metadata": {},
   "outputs": [
    {
     "data": {
      "text/plain": [
       "total_images              int64\n",
       "last_price              float64\n",
       "total_area              float64\n",
       "first_day_exposition     object\n",
       "rooms                     int64\n",
       "ceiling_height          float64\n",
       "floors_total            float64\n",
       "living_area             float64\n",
       "floor                     int64\n",
       "is_apartment               bool\n",
       "studio                     bool\n",
       "open_plan                  bool\n",
       "kitchen_area            float64\n",
       "balcony                 float64\n",
       "locality_name            object\n",
       "airports_nearest        float64\n",
       "cityCenters_nearest     float64\n",
       "parks_around3000        float64\n",
       "parks_nearest           float64\n",
       "ponds_around3000        float64\n",
       "ponds_nearest           float64\n",
       "days_exposition         float64\n",
       "dtype: object"
      ]
     },
     "execution_count": 7,
     "metadata": {},
     "output_type": "execute_result"
    }
   ],
   "source": [
    "data.dtypes"
   ]
  },
  {
   "cell_type": "markdown",
   "metadata": {},
   "source": [
    "##### В первую очередь хочется привести дату к типу datetime, а далее идти по порядку"
   ]
  },
  {
   "cell_type": "code",
   "execution_count": 8,
   "metadata": {},
   "outputs": [
    {
     "data": {
      "text/html": [
       "<div>\n",
       "<style scoped>\n",
       "    .dataframe tbody tr th:only-of-type {\n",
       "        vertical-align: middle;\n",
       "    }\n",
       "\n",
       "    .dataframe tbody tr th {\n",
       "        vertical-align: top;\n",
       "    }\n",
       "\n",
       "    .dataframe thead th {\n",
       "        text-align: right;\n",
       "    }\n",
       "</style>\n",
       "<table border=\"1\" class=\"dataframe\">\n",
       "  <thead>\n",
       "    <tr style=\"text-align: right;\">\n",
       "      <th></th>\n",
       "      <th>total_images</th>\n",
       "      <th>last_price</th>\n",
       "      <th>total_area</th>\n",
       "      <th>first_day_exposition</th>\n",
       "      <th>rooms</th>\n",
       "      <th>ceiling_height</th>\n",
       "      <th>floors_total</th>\n",
       "      <th>living_area</th>\n",
       "      <th>floor</th>\n",
       "      <th>is_apartment</th>\n",
       "      <th>studio</th>\n",
       "      <th>open_plan</th>\n",
       "      <th>kitchen_area</th>\n",
       "      <th>balcony</th>\n",
       "      <th>locality_name</th>\n",
       "      <th>airports_nearest</th>\n",
       "      <th>cityCenters_nearest</th>\n",
       "      <th>parks_around3000</th>\n",
       "      <th>parks_nearest</th>\n",
       "      <th>ponds_around3000</th>\n",
       "      <th>ponds_nearest</th>\n",
       "      <th>days_exposition</th>\n",
       "    </tr>\n",
       "  </thead>\n",
       "  <tbody>\n",
       "    <tr>\n",
       "      <th>0</th>\n",
       "      <td>20</td>\n",
       "      <td>13000000.0</td>\n",
       "      <td>108.0</td>\n",
       "      <td>2019-03-07</td>\n",
       "      <td>3</td>\n",
       "      <td>2.70</td>\n",
       "      <td>16.0</td>\n",
       "      <td>51.0</td>\n",
       "      <td>8</td>\n",
       "      <td>False</td>\n",
       "      <td>False</td>\n",
       "      <td>False</td>\n",
       "      <td>25.0</td>\n",
       "      <td>0.0</td>\n",
       "      <td>Санкт-Петербург</td>\n",
       "      <td>18863.0</td>\n",
       "      <td>16028.0</td>\n",
       "      <td>1.0</td>\n",
       "      <td>482.0</td>\n",
       "      <td>2.0</td>\n",
       "      <td>755.0</td>\n",
       "      <td>NaN</td>\n",
       "    </tr>\n",
       "    <tr>\n",
       "      <th>1</th>\n",
       "      <td>7</td>\n",
       "      <td>3350000.0</td>\n",
       "      <td>40.4</td>\n",
       "      <td>2018-12-04</td>\n",
       "      <td>1</td>\n",
       "      <td>NaN</td>\n",
       "      <td>11.0</td>\n",
       "      <td>18.6</td>\n",
       "      <td>1</td>\n",
       "      <td>False</td>\n",
       "      <td>False</td>\n",
       "      <td>False</td>\n",
       "      <td>11.0</td>\n",
       "      <td>2.0</td>\n",
       "      <td>посёлок Шушары</td>\n",
       "      <td>12817.0</td>\n",
       "      <td>18603.0</td>\n",
       "      <td>0.0</td>\n",
       "      <td>NaN</td>\n",
       "      <td>0.0</td>\n",
       "      <td>NaN</td>\n",
       "      <td>81.0</td>\n",
       "    </tr>\n",
       "    <tr>\n",
       "      <th>2</th>\n",
       "      <td>10</td>\n",
       "      <td>5196000.0</td>\n",
       "      <td>56.0</td>\n",
       "      <td>2015-08-20</td>\n",
       "      <td>2</td>\n",
       "      <td>NaN</td>\n",
       "      <td>5.0</td>\n",
       "      <td>34.3</td>\n",
       "      <td>4</td>\n",
       "      <td>False</td>\n",
       "      <td>False</td>\n",
       "      <td>False</td>\n",
       "      <td>8.3</td>\n",
       "      <td>0.0</td>\n",
       "      <td>Санкт-Петербург</td>\n",
       "      <td>21741.0</td>\n",
       "      <td>13933.0</td>\n",
       "      <td>1.0</td>\n",
       "      <td>90.0</td>\n",
       "      <td>2.0</td>\n",
       "      <td>574.0</td>\n",
       "      <td>558.0</td>\n",
       "    </tr>\n",
       "    <tr>\n",
       "      <th>3</th>\n",
       "      <td>0</td>\n",
       "      <td>64900000.0</td>\n",
       "      <td>159.0</td>\n",
       "      <td>2015-07-24</td>\n",
       "      <td>3</td>\n",
       "      <td>NaN</td>\n",
       "      <td>14.0</td>\n",
       "      <td>NaN</td>\n",
       "      <td>9</td>\n",
       "      <td>False</td>\n",
       "      <td>False</td>\n",
       "      <td>False</td>\n",
       "      <td>NaN</td>\n",
       "      <td>0.0</td>\n",
       "      <td>Санкт-Петербург</td>\n",
       "      <td>28098.0</td>\n",
       "      <td>6800.0</td>\n",
       "      <td>2.0</td>\n",
       "      <td>84.0</td>\n",
       "      <td>3.0</td>\n",
       "      <td>234.0</td>\n",
       "      <td>424.0</td>\n",
       "    </tr>\n",
       "    <tr>\n",
       "      <th>4</th>\n",
       "      <td>2</td>\n",
       "      <td>10000000.0</td>\n",
       "      <td>100.0</td>\n",
       "      <td>2018-06-19</td>\n",
       "      <td>2</td>\n",
       "      <td>3.03</td>\n",
       "      <td>14.0</td>\n",
       "      <td>32.0</td>\n",
       "      <td>13</td>\n",
       "      <td>False</td>\n",
       "      <td>False</td>\n",
       "      <td>False</td>\n",
       "      <td>41.0</td>\n",
       "      <td>0.0</td>\n",
       "      <td>Санкт-Петербург</td>\n",
       "      <td>31856.0</td>\n",
       "      <td>8098.0</td>\n",
       "      <td>2.0</td>\n",
       "      <td>112.0</td>\n",
       "      <td>1.0</td>\n",
       "      <td>48.0</td>\n",
       "      <td>121.0</td>\n",
       "    </tr>\n",
       "  </tbody>\n",
       "</table>\n",
       "</div>"
      ],
      "text/plain": [
       "   total_images  last_price  total_area first_day_exposition  rooms  \\\n",
       "0            20  13000000.0       108.0           2019-03-07      3   \n",
       "1             7   3350000.0        40.4           2018-12-04      1   \n",
       "2            10   5196000.0        56.0           2015-08-20      2   \n",
       "3             0  64900000.0       159.0           2015-07-24      3   \n",
       "4             2  10000000.0       100.0           2018-06-19      2   \n",
       "\n",
       "   ceiling_height  floors_total  living_area  floor  is_apartment  studio  \\\n",
       "0            2.70          16.0         51.0      8         False   False   \n",
       "1             NaN          11.0         18.6      1         False   False   \n",
       "2             NaN           5.0         34.3      4         False   False   \n",
       "3             NaN          14.0          NaN      9         False   False   \n",
       "4            3.03          14.0         32.0     13         False   False   \n",
       "\n",
       "   open_plan  kitchen_area  balcony    locality_name  airports_nearest  \\\n",
       "0      False          25.0      0.0  Санкт-Петербург           18863.0   \n",
       "1      False          11.0      2.0   посёлок Шушары           12817.0   \n",
       "2      False           8.3      0.0  Санкт-Петербург           21741.0   \n",
       "3      False           NaN      0.0  Санкт-Петербург           28098.0   \n",
       "4      False          41.0      0.0  Санкт-Петербург           31856.0   \n",
       "\n",
       "   cityCenters_nearest  parks_around3000  parks_nearest  ponds_around3000  \\\n",
       "0              16028.0               1.0          482.0               2.0   \n",
       "1              18603.0               0.0            NaN               0.0   \n",
       "2              13933.0               1.0           90.0               2.0   \n",
       "3               6800.0               2.0           84.0               3.0   \n",
       "4               8098.0               2.0          112.0               1.0   \n",
       "\n",
       "   ponds_nearest  days_exposition  \n",
       "0          755.0              NaN  \n",
       "1            NaN             81.0  \n",
       "2          574.0            558.0  \n",
       "3          234.0            424.0  \n",
       "4           48.0            121.0  "
      ]
     },
     "execution_count": 8,
     "metadata": {},
     "output_type": "execute_result"
    }
   ],
   "source": [
    "data['first_day_exposition'] = pd.to_datetime(data['first_day_exposition'])\n",
    "data.head()"
   ]
  },
  {
   "cell_type": "code",
   "execution_count": 9,
   "metadata": {},
   "outputs": [],
   "source": [
    "data['last_price'].sum() #как мы можем видеть, никто не указывает стоимость дробными числами, значит её можно перевести к int\n",
    "data['last_price'] = data['last_price'].astype('int')"
   ]
  },
  {
   "cell_type": "code",
   "execution_count": 10,
   "metadata": {},
   "outputs": [],
   "source": [
    "data['floors_total'].sum() # аналогично с количеством этажей в доме, но если количество не указано, дом одноэтажный\n",
    "data['floors_total'] = data['floors_total'].fillna('1')\n",
    "data['floors_total'] = data['floors_total'].astype('int')"
   ]
  },
  {
   "cell_type": "code",
   "execution_count": 11,
   "metadata": {},
   "outputs": [],
   "source": [
    "data['balcony'].sum() # балконов также не может быть дробное количество\n",
    "data['balcony'] = data['balcony'].astype('int')"
   ]
  },
  {
   "cell_type": "code",
   "execution_count": 12,
   "metadata": {},
   "outputs": [],
   "source": [
    "# короче мы все, что связано с количеством далее приведем к int\n",
    "data['parks_around3000'] = data['parks_around3000'].fillna('0')\n",
    "data['parks_around3000'] = data['parks_around3000'].astype('int')"
   ]
  },
  {
   "cell_type": "code",
   "execution_count": 13,
   "metadata": {},
   "outputs": [],
   "source": [
    "data['ponds_around3000'] = data['ponds_around3000'].fillna('0')\n",
    "data['ponds_around3000'] = data['ponds_around3000'].astype('int')"
   ]
  },
  {
   "cell_type": "code",
   "execution_count": 14,
   "metadata": {},
   "outputs": [
    {
     "data": {
      "text/plain": [
       "total_images                     int64\n",
       "last_price                       int64\n",
       "total_area                     float64\n",
       "first_day_exposition    datetime64[ns]\n",
       "rooms                            int64\n",
       "ceiling_height                 float64\n",
       "floors_total                     int64\n",
       "living_area                    float64\n",
       "floor                            int64\n",
       "is_apartment                      bool\n",
       "studio                            bool\n",
       "open_plan                         bool\n",
       "kitchen_area                   float64\n",
       "balcony                          int64\n",
       "locality_name                   object\n",
       "airports_nearest               float64\n",
       "cityCenters_nearest            float64\n",
       "parks_around3000                 int64\n",
       "parks_nearest                  float64\n",
       "ponds_around3000                 int64\n",
       "ponds_nearest                  float64\n",
       "days_exposition                float64\n",
       "dtype: object"
      ]
     },
     "execution_count": 14,
     "metadata": {},
     "output_type": "execute_result"
    }
   ],
   "source": [
    "data.dtypes"
   ]
  },
  {
   "cell_type": "markdown",
   "metadata": {},
   "source": [
    "##### Таким образом мы привели все предшествующие типы данных к более логичным. Там, где было логично привести к int (а-ля количествА чего-либо), мы привели. Там, где количество этажей во всем доме не указано, логично предположить, что это либо дом, либо какое-то одноэтажное здание, либо все-таки дом, но это помещение находится на первом этаже и поэтому автор объявления посчитал, что эта информация необязательная. "
   ]
  },
  {
   "cell_type": "markdown",
   "metadata": {},
   "source": [
    "#### Изучим и удалим дубликаты"
   ]
  },
  {
   "cell_type": "code",
   "execution_count": 15,
   "metadata": {},
   "outputs": [
    {
     "data": {
      "text/plain": [
       "0"
      ]
     },
     "execution_count": 15,
     "metadata": {},
     "output_type": "execute_result"
    }
   ],
   "source": [
    "data.duplicated().sum()"
   ]
  },
  {
   "cell_type": "code",
   "execution_count": 16,
   "metadata": {},
   "outputs": [
    {
     "data": {
      "text/plain": [
       "23334"
      ]
     },
     "execution_count": 16,
     "metadata": {},
     "output_type": "execute_result"
    }
   ],
   "source": [
    "data['locality_name'].duplicated().sum()"
   ]
  },
  {
   "cell_type": "code",
   "execution_count": 17,
   "metadata": {},
   "outputs": [
    {
     "data": {
      "text/plain": [
       "364"
      ]
     },
     "execution_count": 17,
     "metadata": {},
     "output_type": "execute_result"
    }
   ],
   "source": [
    "data['locality_name'].nunique()"
   ]
  },
  {
   "cell_type": "code",
   "execution_count": 18,
   "metadata": {},
   "outputs": [
    {
     "data": {
      "text/plain": [
       "array(['Санкт-Петербург', 'посёлок Шушары', 'городской посёлок Янино-1',\n",
       "       'посёлок Парголово', 'посёлок Мурино', 'Ломоносов', 'Сертолово',\n",
       "       'Петергоф', 'Пушкин', 'деревня Кудрово', 'Коммунар', 'Колпино',\n",
       "       'поселок городского типа Красный Бор', 'Гатчина', 'поселок Мурино',\n",
       "       'деревня Фёдоровское', 'Выборг', 'Кронштадт', 'Кировск',\n",
       "       'деревня Новое Девяткино', 'посёлок Металлострой',\n",
       "       'посёлок городского типа Лебяжье',\n",
       "       'посёлок городского типа Сиверский', 'поселок Молодцово',\n",
       "       'поселок городского типа Кузьмоловский',\n",
       "       'садовое товарищество Новая Ропша', 'Павловск',\n",
       "       'деревня Пикколово', 'Всеволожск', 'Волхов', 'Кингисепп',\n",
       "       'Приозерск', 'Сестрорецк', 'деревня Куттузи', 'посёлок Аннино',\n",
       "       'поселок городского типа Ефимовский', 'посёлок Плодовое',\n",
       "       'деревня Заклинье', 'поселок Торковичи', 'поселок Первомайское',\n",
       "       'Красное Село', 'посёлок Понтонный', 'Сясьстрой', 'деревня Старая',\n",
       "       'деревня Лесколово', 'посёлок Новый Свет', 'Сланцы',\n",
       "       'село Путилово', 'Ивангород', 'Мурино', 'Шлиссельбург',\n",
       "       'Никольское', 'Зеленогорск', 'Сосновый Бор', 'поселок Новый Свет',\n",
       "       'деревня Оржицы', 'деревня Кальтино', 'Кудрово',\n",
       "       'поселок Романовка', 'посёлок Бугры', 'поселок Бугры',\n",
       "       'поселок городского типа Рощино', 'Кириши', 'Луга', 'Волосово',\n",
       "       'Отрадное', 'село Павлово', 'поселок Оредеж', 'село Копорье',\n",
       "       'посёлок городского типа Красный Бор', 'посёлок Молодёжное',\n",
       "       'Тихвин', 'посёлок Победа', 'деревня Нурма',\n",
       "       'поселок городского типа Синявино', 'Тосно',\n",
       "       'посёлок городского типа Кузьмоловский', 'посёлок Стрельна',\n",
       "       'Бокситогорск', 'посёлок Александровская', 'деревня Лопухинка',\n",
       "       'Пикалёво', 'поселок Терволово',\n",
       "       'поселок городского типа Советский', 'Подпорожье',\n",
       "       'посёлок Петровское', 'посёлок городского типа Токсово',\n",
       "       'поселок Сельцо', 'посёлок городского типа Вырица',\n",
       "       'деревня Кипень', 'деревня Келози', 'деревня Вартемяги',\n",
       "       'посёлок Тельмана', 'поселок Севастьяново',\n",
       "       'городской поселок Большая Ижора', nan,\n",
       "       'городской посёлок Павлово', 'деревня Агалатово',\n",
       "       'посёлок Новогорелово', 'городской посёлок Лесогорский',\n",
       "       'деревня Лаголово', 'поселок Цвелодубово',\n",
       "       'поселок городского типа Рахья', 'поселок городского типа Вырица',\n",
       "       'деревня Белогорка', 'поселок Заводской',\n",
       "       'городской посёлок Новоселье', 'деревня Большие Колпаны',\n",
       "       'деревня Горбунки', 'деревня Батово', 'деревня Заневка',\n",
       "       'деревня Иссад', 'Приморск', 'городской посёлок Фёдоровское',\n",
       "       'деревня Мистолово', 'Новая Ладога', 'поселок Зимитицы',\n",
       "       'поселок Барышево', 'деревня Разметелево',\n",
       "       'поселок городского типа имени Свердлова', 'деревня Пеники',\n",
       "       'поселок Рябово', 'деревня Пудомяги', 'поселок станции Корнево',\n",
       "       'деревня Низино', 'деревня Бегуницы', 'посёлок Поляны',\n",
       "       'городской посёлок Мга', 'поселок Елизаветино',\n",
       "       'посёлок городского типа Кузнечное', 'деревня Колтуши',\n",
       "       'поселок Запорожское', 'посёлок городского типа Рощино',\n",
       "       'деревня Гостилицы', 'деревня Малое Карлино',\n",
       "       'посёлок Мичуринское', 'посёлок городского типа имени Морозова',\n",
       "       'посёлок Песочный', 'посёлок Сосново', 'деревня Аро',\n",
       "       'поселок Ильичёво', 'посёлок городского типа Тайцы',\n",
       "       'деревня Малое Верево', 'деревня Извара', 'поселок станции Вещево',\n",
       "       'село Паша', 'деревня Калитино',\n",
       "       'посёлок городского типа Ульяновка', 'деревня Чудской Бор',\n",
       "       'поселок городского типа Дубровка', 'деревня Мины',\n",
       "       'поселок Войсковицы', 'посёлок городского типа имени Свердлова',\n",
       "       'деревня Коркино', 'посёлок Ропша',\n",
       "       'поселок городского типа Приладожский', 'посёлок Щеглово',\n",
       "       'посёлок Гаврилово', 'Лодейное Поле', 'деревня Рабитицы',\n",
       "       'поселок городского типа Никольский', 'деревня Кузьмолово',\n",
       "       'деревня Малые Колпаны', 'поселок Тельмана',\n",
       "       'посёлок Петро-Славянка', 'городской посёлок Назия',\n",
       "       'посёлок Репино', 'посёлок Ильичёво', 'поселок Углово',\n",
       "       'поселок Старая Малукса', 'садовое товарищество Рахья',\n",
       "       'поселок Аннино', 'поселок Победа', 'деревня Меньково',\n",
       "       'деревня Старые Бегуницы', 'посёлок Сапёрный', 'поселок Семрино',\n",
       "       'поселок Гаврилово', 'поселок Глажево', 'поселок Кобринское',\n",
       "       'деревня Гарболово', 'деревня Юкки',\n",
       "       'поселок станции Приветнинское', 'деревня Мануйлово',\n",
       "       'деревня Пчева', 'поселок Поляны', 'поселок Цвылёво',\n",
       "       'поселок Мельниково', 'посёлок Пудость', 'посёлок Усть-Луга',\n",
       "       'Светогорск', 'Любань', 'поселок Селезнёво',\n",
       "       'поселок городского типа Рябово', 'Каменногорск', 'деревня Кривко',\n",
       "       'поселок Глебычево', 'деревня Парицы', 'поселок Жилпосёлок',\n",
       "       'посёлок городского типа Мга', 'городской поселок Янино-1',\n",
       "       'посёлок Войскорово', 'село Никольское', 'посёлок Терволово',\n",
       "       'поселок Стеклянный', 'посёлок городского типа Важины',\n",
       "       'посёлок Мыза-Ивановка', 'село Русско-Высоцкое',\n",
       "       'поселок городского типа Лебяжье',\n",
       "       'поселок городского типа Форносово', 'село Старая Ладога',\n",
       "       'поселок Житково', 'городской посёлок Виллози', 'деревня Лампово',\n",
       "       'деревня Шпаньково', 'деревня Лаврики', 'посёлок Сумино',\n",
       "       'посёлок Возрождение', 'деревня Старосиверская',\n",
       "       'посёлок Кикерино', 'поселок Возрождение',\n",
       "       'деревня Старое Хинколово', 'посёлок Пригородный',\n",
       "       'посёлок Торфяное', 'городской посёлок Будогощь',\n",
       "       'поселок Суходолье', 'поселок Красная Долина', 'деревня Хапо-Ое',\n",
       "       'поселок городского типа Дружная Горка', 'поселок Лисий Нос',\n",
       "       'деревня Яльгелево', 'посёлок Стеклянный', 'село Рождествено',\n",
       "       'деревня Старополье', 'посёлок Левашово', 'деревня Сяськелево',\n",
       "       'деревня Камышовка',\n",
       "       'садоводческое некоммерческое товарищество Лесная Поляна',\n",
       "       'деревня Хязельки', 'поселок Жилгородок',\n",
       "       'посёлок городского типа Павлово', 'деревня Ялгино',\n",
       "       'поселок Новый Учхоз', 'городской посёлок Рощино',\n",
       "       'поселок Гончарово', 'поселок Почап', 'посёлок Сапёрное',\n",
       "       'посёлок Платформа 69-й километр', 'поселок Каложицы',\n",
       "       'деревня Фалилеево', 'деревня Пельгора',\n",
       "       'поселок городского типа Лесогорский', 'деревня Торошковичи',\n",
       "       'посёлок Белоостров', 'посёлок Алексеевка', 'поселок Серебрянский',\n",
       "       'поселок Лукаши', 'поселок Петровское', 'деревня Щеглово',\n",
       "       'поселок Мичуринское', 'деревня Тарасово', 'поселок Кингисеппский',\n",
       "       'посёлок при железнодорожной станции Вещево', 'поселок Ушаки',\n",
       "       'деревня Котлы', 'деревня Сижно', 'деревня Торосово',\n",
       "       'посёлок Форт Красная Горка', 'поселок городского типа Токсово',\n",
       "       'деревня Новолисино', 'посёлок станции Громово', 'деревня Глинка',\n",
       "       'посёлок Мельниково', 'поселок городского типа Назия',\n",
       "       'деревня Старая Пустошь', 'поселок Коммунары', 'поселок Починок',\n",
       "       'посёлок городского типа Вознесенье', 'деревня Разбегаево',\n",
       "       'посёлок городского типа Рябово', 'поселок Гладкое',\n",
       "       'посёлок при железнодорожной станции Приветнинское',\n",
       "       'поселок Тёсово-4', 'посёлок Жилгородок', 'деревня Бор',\n",
       "       'посёлок Коробицыно', 'деревня Большая Вруда', 'деревня Курковицы',\n",
       "       'посёлок Лисий Нос', 'городской посёлок Советский',\n",
       "       'посёлок Кобралово', 'деревня Суоранда', 'поселок Кобралово',\n",
       "       'поселок городского типа Кондратьево',\n",
       "       'коттеджный поселок Счастье', 'поселок Любань', 'деревня Реброво',\n",
       "       'деревня Зимитицы', 'деревня Тойворово', 'поселок Семиозерье',\n",
       "       'поселок Лесное', 'поселок Совхозный', 'поселок Усть-Луга',\n",
       "       'посёлок Ленинское', 'посёлок Суйда',\n",
       "       'посёлок городского типа Форносово', 'деревня Нижние Осельки',\n",
       "       'посёлок станции Свирь', 'поселок Перово', 'Высоцк',\n",
       "       'поселок Гарболово', 'село Шум', 'поселок Котельский',\n",
       "       'поселок станции Лужайка', 'деревня Большая Пустомержа',\n",
       "       'поселок Красносельское', 'деревня Вахнова Кара', 'деревня Пижма',\n",
       "       'коттеджный поселок Кивеннапа Север', 'поселок Коробицыно',\n",
       "       'поселок Ромашки', 'посёлок Перово', 'деревня Каськово',\n",
       "       'деревня Куровицы', 'посёлок Плоское', 'поселок Сумино',\n",
       "       'поселок городского типа Большая Ижора', 'поселок Кирпичное',\n",
       "       'деревня Ям-Тесово', 'деревня Раздолье', 'деревня Терпилицы',\n",
       "       'посёлок Шугозеро', 'деревня Ваганово', 'поселок Пушное',\n",
       "       'садовое товарищество Садко', 'посёлок Усть-Ижора',\n",
       "       'деревня Выскатка', 'городской посёлок Свирьстрой',\n",
       "       'поселок Громово', 'деревня Кисельня', 'посёлок Старая Малукса',\n",
       "       'деревня Трубников Бор', 'поселок Калитино',\n",
       "       'посёлок Высокоключевой', 'садовое товарищество Приладожский',\n",
       "       'посёлок Пансионат Зелёный Бор', 'деревня Ненимяки',\n",
       "       'поселок Пансионат Зелёный Бор', 'деревня Снегирёвка',\n",
       "       'деревня Рапполово', 'деревня Пустынка', 'поселок Рабитицы',\n",
       "       'деревня Большой Сабск', 'деревня Русско', 'деревня Лупполово',\n",
       "       'деревня Большое Рейзино', 'деревня Малая Романовка',\n",
       "       'поселок Дружноселье', 'поселок Пчевжа', 'поселок Володарское',\n",
       "       'деревня Нижняя', 'коттеджный посёлок Лесное', 'деревня Тихковицы',\n",
       "       'деревня Борисова Грива', 'посёлок Дзержинского'], dtype=object)"
      ]
     },
     "execution_count": 18,
     "metadata": {},
     "output_type": "execute_result"
    }
   ],
   "source": [
    "data['locality_name'].unique()"
   ]
  },
  {
   "cell_type": "code",
   "execution_count": 19,
   "metadata": {},
   "outputs": [],
   "source": [
    "data['locality_name'] = data['locality_name'].str.replace('посёлок городского типа ', '', regex=True)\n",
    "data['locality_name'] = data['locality_name'].str.replace('городской посёлок ', '', regex=True)\n",
    "data['locality_name'] = data['locality_name'].str.replace('посёлок ', '', regex=True)\n",
    "data['locality_name'] = data['locality_name'].str.replace('поселок городского типа ', '', regex=True)\n",
    "data['locality_name'] = data['locality_name'].str.replace('городской поселок ', '', regex=True)\n",
    "data['locality_name'] = data['locality_name'].str.replace('поселок ', '', regex=True)\n",
    "data['locality_name'] = data['locality_name'].str.replace('коттеджный посёлок ', '', regex=True)\n",
    "data['locality_name'] = data['locality_name'].str.replace('коттеджный поселок ', '', regex=True)\n",
    "data['locality_name'] = data['locality_name'].str.replace('садовое товарищество ', '', regex=True)\n",
    "data['locality_name'] = data['locality_name'].str.replace('посёлок при железнодорожной станции ', '', regex=True)\n",
    "data['locality_name'] = data['locality_name'].str.replace('садоводческое некоммерческое товарищество ', '', regex=True)\n",
    "data['locality_name'] = data['locality_name'].str.replace('село ', '', regex=True) "
   ]
  },
  {
   "cell_type": "code",
   "execution_count": 20,
   "metadata": {},
   "outputs": [
    {
     "data": {
      "text/plain": [
       "316"
      ]
     },
     "execution_count": 20,
     "metadata": {},
     "output_type": "execute_result"
    }
   ],
   "source": [
    "data['locality_name'].nunique()"
   ]
  },
  {
   "cell_type": "markdown",
   "metadata": {},
   "source": [
    "##### Я посчитал нужным не просто поменять ё на е, а скорее даже удалить эти бессмысленные приставленные к названиям города слова. Сделано для того, чтобы остались конкретно только НАЗВАНИЯ населенных пунктов. Так как в одном объявлении могло быть указано коттеджный поселок XXX, а в другом месте просто поселок XXX, хотя по сути это одно и то же по мнению двух авторов. "
   ]
  },
  {
   "cell_type": "markdown",
   "metadata": {},
   "source": [
    "#### Займемся поисков аномальных значений"
   ]
  },
  {
   "cell_type": "code",
   "execution_count": 21,
   "metadata": {},
   "outputs": [
    {
     "name": "stdout",
     "output_type": "stream",
     "text": [
      "<class 'pandas.core.frame.DataFrame'>\n",
      "RangeIndex: 23699 entries, 0 to 23698\n",
      "Data columns (total 22 columns):\n",
      " #   Column                Non-Null Count  Dtype         \n",
      "---  ------                --------------  -----         \n",
      " 0   total_images          23699 non-null  int64         \n",
      " 1   last_price            23699 non-null  int64         \n",
      " 2   total_area            23699 non-null  float64       \n",
      " 3   first_day_exposition  23699 non-null  datetime64[ns]\n",
      " 4   rooms                 23699 non-null  int64         \n",
      " 5   ceiling_height        14504 non-null  float64       \n",
      " 6   floors_total          23699 non-null  int64         \n",
      " 7   living_area           21796 non-null  float64       \n",
      " 8   floor                 23699 non-null  int64         \n",
      " 9   is_apartment          23699 non-null  bool          \n",
      " 10  studio                23699 non-null  bool          \n",
      " 11  open_plan             23699 non-null  bool          \n",
      " 12  kitchen_area          21421 non-null  float64       \n",
      " 13  balcony               23699 non-null  int64         \n",
      " 14  locality_name         23650 non-null  object        \n",
      " 15  airports_nearest      18157 non-null  float64       \n",
      " 16  cityCenters_nearest   18180 non-null  float64       \n",
      " 17  parks_around3000      23699 non-null  int64         \n",
      " 18  parks_nearest         8079 non-null   float64       \n",
      " 19  ponds_around3000      23699 non-null  int64         \n",
      " 20  ponds_nearest         9110 non-null   float64       \n",
      " 21  days_exposition       20518 non-null  float64       \n",
      "dtypes: bool(3), datetime64[ns](1), float64(9), int64(8), object(1)\n",
      "memory usage: 3.5+ MB\n"
     ]
    }
   ],
   "source": [
    "data.info()"
   ]
  },
  {
   "cell_type": "markdown",
   "metadata": {},
   "source": [
    "##### ситуация с ценой очень интересная, так как количество аномальных значений зашкаливает"
   ]
  },
  {
   "cell_type": "markdown",
   "metadata": {},
   "source": [
    "##### Обратим внимание на следующие столбцы: 1. Стоимость квартиры 2. Высота потолков 3. Количество комнат 4. Общая площадь"
   ]
  },
  {
   "cell_type": "markdown",
   "metadata": {},
   "source": [
    "СТОИМОСТЬ"
   ]
  },
  {
   "cell_type": "code",
   "execution_count": 22,
   "metadata": {},
   "outputs": [
    {
     "data": {
      "text/plain": [
       "<AxesSubplot:>"
      ]
     },
     "execution_count": 22,
     "metadata": {},
     "output_type": "execute_result"
    },
    {
     "data": {
      "image/png": "[encoded data removed]",
      "text/plain": [
       "<Figure size 360x1080 with 1 Axes>"
      ]
     },
     "metadata": {
      "needs_background": "light"
     },
     "output_type": "display_data"
    }
   ],
   "source": [
    "data.boxplot(column='last_price', figsize= (5, 15))"
   ]
  },
  {
   "cell_type": "code",
   "execution_count": 23,
   "metadata": {},
   "outputs": [],
   "source": [
    "Q1_price = data['last_price'].quantile(0.25)\n",
    "Q3_price = data['last_price'].quantile(0.75)\n",
    "IQR_price = Q3_price - Q1_price\n",
    "lower_bound_price = Q1_price - 1.5 * IQR_price\n",
    "upper_bound_price = Q3_price + 1.5 * IQR_price\n",
    "data = data[(data['last_price'] >= lower_bound_price) & (data['last_price'] <= upper_bound_price)]"
   ]
  },
  {
   "cell_type": "markdown",
   "metadata": {},
   "source": [
    "ПОТОЛКИ"
   ]
  },
  {
   "cell_type": "code",
   "execution_count": 24,
   "metadata": {},
   "outputs": [
    {
     "data": {
      "text/plain": [
       "<AxesSubplot:>"
      ]
     },
     "execution_count": 24,
     "metadata": {},
     "output_type": "execute_result"
    },
    {
     "data": {
      "image/png": "[encoded data removed]",
      "text/plain": [
       "<Figure size 432x288 with 1 Axes>"
      ]
     },
     "metadata": {
      "needs_background": "light"
     },
     "output_type": "display_data"
    }
   ],
   "source": [
    "data.boxplot(column='ceiling_height')"
   ]
  },
  {
   "cell_type": "code",
   "execution_count": 25,
   "metadata": {},
   "outputs": [],
   "source": [
    "data['ceiling_height'] = data['ceiling_height'].replace({\n",
    "    25.0: 2.5,\n",
    "    27.0: 2.7,\n",
    "    32.0: 3.2,\n",
    "    24.0: 2.4,\n",
    "    26.0: 2.6,\n",
    "    20.0: 2.0,\n",
    "    27.5: 2.75\n",
    "})"
   ]
  },
  {
   "cell_type": "code",
   "execution_count": 26,
   "metadata": {},
   "outputs": [
    {
     "data": {
      "image/png": "[encoded data removed]",
      "text/plain": [
       "<Figure size 432x288 with 1 Axes>"
      ]
     },
     "metadata": {
      "needs_background": "light"
     },
     "output_type": "display_data"
    }
   ],
   "source": [
    "data = data[(data['ceiling_height'].isna()) | ((data['ceiling_height'] >= 2.3) \\\n",
    "                                             & (data['ceiling_height'] <= 5))]\n",
    "data.boxplot('ceiling_height');"
   ]
  },
  {
   "cell_type": "markdown",
   "metadata": {},
   "source": [
    "КОЛИЧЕСТВО КОМНАТ (с ними вроде все гуд)"
   ]
  },
  {
   "cell_type": "code",
   "execution_count": 27,
   "metadata": {},
   "outputs": [
    {
     "data": {
      "text/plain": [
       "<AxesSubplot:>"
      ]
     },
     "execution_count": 27,
     "metadata": {},
     "output_type": "execute_result"
    },
    {
     "data": {
      "image/png": "[encoded data removed]",
      "text/plain": [
       "<Figure size 432x288 with 1 Axes>"
      ]
     },
     "metadata": {
      "needs_background": "light"
     },
     "output_type": "display_data"
    }
   ],
   "source": [
    "data.boxplot(column='rooms')"
   ]
  },
  {
   "cell_type": "markdown",
   "metadata": {},
   "source": [
    "ОБЩАЯ ПЛОЩАДЬ"
   ]
  },
  {
   "cell_type": "code",
   "execution_count": 28,
   "metadata": {},
   "outputs": [
    {
     "data": {
      "text/plain": [
       "<AxesSubplot:>"
      ]
     },
     "execution_count": 28,
     "metadata": {},
     "output_type": "execute_result"
    },
    {
     "data": {
      "image/png": "[encoded data removed]",
      "text/plain": [
       "<Figure size 432x288 with 1 Axes>"
      ]
     },
     "metadata": {
      "needs_background": "light"
     },
     "output_type": "display_data"
    }
   ],
   "source": [
    "data.boxplot(column='total_area')"
   ]
  },
  {
   "cell_type": "code",
   "execution_count": 29,
   "metadata": {},
   "outputs": [],
   "source": [
    "data = data[data['total_area'] < 95]"
   ]
  },
  {
   "cell_type": "code",
   "execution_count": 30,
   "metadata": {},
   "outputs": [
    {
     "data": {
      "text/plain": [
       "<AxesSubplot:>"
      ]
     },
     "execution_count": 30,
     "metadata": {},
     "output_type": "execute_result"
    },
    {
     "data": {
      "image/png": "[encoded data removed]",
      "text/plain": [
       "<Figure size 432x288 with 1 Axes>"
      ]
     },
     "metadata": {
      "needs_background": "light"
     },
     "output_type": "display_data"
    }
   ],
   "source": [
    "data.boxplot(column='total_area')"
   ]
  },
  {
   "cell_type": "markdown",
   "metadata": {},
   "source": [
    "### Посчитайте и добавьте в таблицу новые столбцы"
   ]
  },
  {
   "cell_type": "markdown",
   "metadata": {},
   "source": [
    "#### Цена одного квадратного метра "
   ]
  },
  {
   "cell_type": "code",
   "execution_count": 31,
   "metadata": {},
   "outputs": [],
   "source": [
    "data['price_per_m'] = data['last_price'] / data['total_area']"
   ]
  },
  {
   "cell_type": "markdown",
   "metadata": {},
   "source": [
    "#### День публикации объявления"
   ]
  },
  {
   "cell_type": "code",
   "execution_count": 32,
   "metadata": {},
   "outputs": [],
   "source": [
    "data['day_of_week'] = data['first_day_exposition'].dt.dayofweek + 1"
   ]
  },
  {
   "cell_type": "markdown",
   "metadata": {},
   "source": [
    "#### Месяц публикации объявления"
   ]
  },
  {
   "cell_type": "code",
   "execution_count": 33,
   "metadata": {},
   "outputs": [],
   "source": [
    "data['month'] = data['first_day_exposition'].dt.month"
   ]
  },
  {
   "cell_type": "markdown",
   "metadata": {},
   "source": [
    "#### Год публикации"
   ]
  },
  {
   "cell_type": "code",
   "execution_count": 34,
   "metadata": {},
   "outputs": [],
   "source": [
    "data['year'] = data['first_day_exposition'].dt.year"
   ]
  },
  {
   "cell_type": "markdown",
   "metadata": {},
   "source": [
    "#### Тип этажа квартиры"
   ]
  },
  {
   "cell_type": "code",
   "execution_count": 35,
   "metadata": {},
   "outputs": [],
   "source": [
    "def get_floor_type(row):\n",
    "    if row['floor'] == 1:\n",
    "        return 'первый'\n",
    "    elif row['floor'] == row['floors_total']:\n",
    "        return 'последний'\n",
    "    else:\n",
    "        return 'другой'"
   ]
  },
  {
   "cell_type": "code",
   "execution_count": 36,
   "metadata": {},
   "outputs": [],
   "source": [
    "data['floor_type'] = data.apply(get_floor_type, axis=1)"
   ]
  },
  {
   "cell_type": "markdown",
   "metadata": {},
   "source": [
    "Простенькая функция для классификации этажа"
   ]
  },
  {
   "cell_type": "markdown",
   "metadata": {},
   "source": [
    "#### Расстояние в км до центра города"
   ]
  },
  {
   "cell_type": "code",
   "execution_count": 37,
   "metadata": {},
   "outputs": [],
   "source": [
    "data['km_to_center'] = round((data['cityCenters_nearest'] / 1000), 1)"
   ]
  },
  {
   "cell_type": "markdown",
   "metadata": {},
   "source": [
    "### Проведите исследовательский анализ данных"
   ]
  },
  {
   "cell_type": "markdown",
   "metadata": {},
   "source": [
    "#### Построим гистограммы параметров"
   ]
  },
  {
   "cell_type": "code",
   "execution_count": 38,
   "metadata": {
    "scrolled": false
   },
   "outputs": [
    {
     "data": {
      "image/png": "[encoded data removed]",
      "text/plain": [
       "<Figure size 216x216 with 1 Axes>"
      ]
     },
     "metadata": {
      "needs_background": "light"
     },
     "output_type": "display_data"
    },
    {
     "data": {
      "image/png": "[encoded data removed]",
      "text/plain": [
       "<Figure size 216x216 with 1 Axes>"
      ]
     },
     "metadata": {
      "needs_background": "light"
     },
     "output_type": "display_data"
    },
    {
     "data": {
      "image/png": "[encoded data removed]",
      "text/plain": [
       "<Figure size 216x216 with 1 Axes>"
      ]
     },
     "metadata": {
      "needs_background": "light"
     },
     "output_type": "display_data"
    },
    {
     "data": {
      "image/png": "[encoded data removed]",
      "text/plain": [
       "<Figure size 216x216 with 1 Axes>"
      ]
     },
     "metadata": {
      "needs_background": "light"
     },
     "output_type": "display_data"
    },
    {
     "data": {
      "image/png": "[encoded data removed]",
      "text/plain": [
       "<Figure size 216x216 with 1 Axes>"
      ]
     },
     "metadata": {
      "needs_background": "light"
     },
     "output_type": "display_data"
    },
    {
     "data": {
      "image/png": "[encoded data removed]",
      "text/plain": [
       "<Figure size 216x216 with 1 Axes>"
      ]
     },
     "metadata": {
      "needs_background": "light"
     },
     "output_type": "display_data"
    },
    {
     "data": {
      "image/png": "[encoded data removed]",
      "text/plain": [
       "<Figure size 216x216 with 1 Axes>"
      ]
     },
     "metadata": {
      "needs_background": "light"
     },
     "output_type": "display_data"
    },
    {
     "data": {
      "image/png": "[encoded data removed]",
      "text/plain": [
       "<Figure size 216x216 with 1 Axes>"
      ]
     },
     "metadata": {
      "needs_background": "light"
     },
     "output_type": "display_data"
    },
    {
     "data": {
      "image/png": "[encoded data removed]",
      "text/plain": [
       "<Figure size 216x216 with 1 Axes>"
      ]
     },
     "metadata": {
      "needs_background": "light"
     },
     "output_type": "display_data"
    },
    {
     "data": {
      "image/png": "[encoded data removed]",
      "text/plain": [
       "<Figure size 216x216 with 1 Axes>"
      ]
     },
     "metadata": {
      "needs_background": "light"
     },
     "output_type": "display_data"
    },
    {
     "data": {
      "image/png": "[encoded data removed]",
      "text/plain": [
       "<Figure size 216x216 with 1 Axes>"
      ]
     },
     "metadata": {
      "needs_background": "light"
     },
     "output_type": "display_data"
    },
    {
     "data": {
      "image/png": "[encoded data removed]",
      "text/plain": [
       "<Figure size 216x216 with 1 Axes>"
      ]
     },
     "metadata": {
      "needs_background": "light"
     },
     "output_type": "display_data"
    },
    {
     "data": {
      "image/png": "[encoded data removed]",
      "text/plain": [
       "<Figure size 216x216 with 1 Axes>"
      ]
     },
     "metadata": {
      "needs_background": "light"
     },
     "output_type": "display_data"
    },
    {
     "data": {
      "image/png": "[encoded data removed]",
      "text/plain": [
       "<Figure size 216x216 with 1 Axes>"
      ]
     },
     "metadata": {
      "needs_background": "light"
     },
     "output_type": "display_data"
    },
    {
     "data": {
      "image/png": "[encoded data removed]",
      "text/plain": [
       "<Figure size 216x216 with 1 Axes>"
      ]
     },
     "metadata": {
      "needs_background": "light"
     },
     "output_type": "display_data"
    },
    {
     "data": {
      "image/png": "[encoded data removed]",
      "text/plain": [
       "<Figure size 216x216 with 1 Axes>"
      ]
     },
     "metadata": {
      "needs_background": "light"
     },
     "output_type": "display_data"
    },
    {
     "data": {
      "image/png": "[encoded data removed]",
      "text/plain": [
       "<Figure size 216x216 with 1 Axes>"
      ]
     },
     "metadata": {
      "needs_background": "light"
     },
     "output_type": "display_data"
    },
    {
     "data": {
      "image/png": "[encoded data removed]",
      "text/plain": [
       "<Figure size 216x216 with 1 Axes>"
      ]
     },
     "metadata": {
      "needs_background": "light"
     },
     "output_type": "display_data"
    },
    {
     "data": {
      "image/png": "[encoded data removed]",
      "text/plain": [
       "<Figure size 216x216 with 1 Axes>"
      ]
     },
     "metadata": {
      "needs_background": "light"
     },
     "output_type": "display_data"
    },
    {
     "data": {
      "image/png": "[encoded data removed]",
      "text/plain": [
       "<Figure size 216x216 with 1 Axes>"
      ]
     },
     "metadata": {
      "needs_background": "light"
     },
     "output_type": "display_data"
    },
    {
     "data": {
      "image/png": "[encoded data removed]",
      "text/plain": [
       "<Figure size 216x216 with 1 Axes>"
      ]
     },
     "metadata": {
      "needs_background": "light"
     },
     "output_type": "display_data"
    },
    {
     "data": {
      "image/png": "[encoded data removed]",
      "text/plain": [
       "<Figure size 216x216 with 1 Axes>"
      ]
     },
     "metadata": {
      "needs_background": "light"
     },
     "output_type": "display_data"
    }
   ],
   "source": [
    "numeric_columns = data.select_dtypes(include=['int', 'float']).columns\n",
    "\n",
    "for column in numeric_columns:\n",
    "    plt.figure(figsize=(3, 3))\n",
    "    plt.hist(data[column], bins=20)\n",
    "    plt.xlabel(column)\n",
    "    plt.grid(True)\n",
    "    plt.show()"
   ]
  },
  {
   "cell_type": "code",
   "execution_count": 39,
   "metadata": {},
   "outputs": [
    {
     "data": {
      "text/plain": [
       "<AxesSubplot:>"
      ]
     },
     "execution_count": 39,
     "metadata": {},
     "output_type": "execute_result"
    },
    {
     "data": {
      "image/png": "[encoded data removed]",
      "text/plain": [
       "<Figure size 432x288 with 1 Axes>"
      ]
     },
     "metadata": {
      "needs_background": "light"
     },
     "output_type": "display_data"
    }
   ],
   "source": [
    "data['floor_type'].value_counts().plot(kind='bar', edgecolor='k')"
   ]
  },
  {
   "cell_type": "markdown",
   "metadata": {},
   "source": [
    "ВЫВОДЫ ПО СТОЛБЦАМ:\n",
    "\n",
    "1) total_images - как мы можем видеть распределение в целом похоже на нормальное, в среднем на каждом объявлении порядка ~10 фотографий\n",
    "\n",
    "2) last_price - в среднем квартиры стоят около 4 млн +- в обе стороны\n",
    "\n",
    "3) total_area - логичным образом чем больше площадь квартиры тем меньше таких квартир, соответственно больше всего квартир порядка 40-45 квадратных метров\n",
    "\n",
    "4) rooms - как и в случае с площадью, больше всего небольший квартир, а это 2-3 комнаты, что мы и видим\n",
    "\n",
    "5) ceiling_height - обычно высота потолков порядка 2.5-2.7 метров\n",
    "\n",
    "6) floors_total - в основном продаются квартиры в более-менее НЕ новых домах, а это в основном около 9 этажей и меньше\n",
    "\n",
    "7) living_area - по аналогии с общей площадью квартиры в большинстве своем 1-3 комнатные и площадь соответствующая \n",
    "\n",
    "8) floor - большинство продаваемых квартир находится в нижней половине этажности дома\n",
    "\n",
    "9) kitchen_area - абсолютное большинство квартир обладает стандартным размером кухни порядка 10-15 квадратов\n",
    "\n",
    "10) balcony - тот случай когда не может быть средних значений, больше всего квартир без балкона\n",
    "\n",
    "11) airports_nearest - в средем квартиры расположены в 20 км от аэропорта \n",
    "\n",
    "12) cityCenters_nearest - в среднем квартиры расположены в 10 с копейками (около 13-15) км от центра города\n",
    "\n",
    "13) parks_around3000 - у большинства квартир в радиусе 3 км нет ни одного парка\n",
    "\n",
    "14) parks_nearest - однако по какой-то причине огромное количество квартир у которых парк вблизи 500 метров\n",
    "\n",
    "15) ponds_around3000 - \n",
    "                            почему-то с прудами ситуация аналогичная\n",
    "16) ponds_nearest - \n",
    "\n",
    "17) days_exposisition - обычно квартиры продаются примерно за пару месяцев\n",
    "\n",
    "18) price_per_m - в среднем стоимость квадратного метра 100.000\n",
    "\n",
    "19) day_of_week - зависимостей нет, все одинаково\n",
    "\n",
    "20) month - в целом критичного нет ничего, в основном начало и конец года\n",
    "\n",
    "21) year - продаются в основном 2017-2018 год\n",
    "\n",
    "22) km_to_center - как и cityCenters_nearest\n",
    "\n",
    "23) floor_type - как мы можем видеть абсолютное лидерство за категорией ДРУГОЙ, это довольно очевидно"
   ]
  },
  {
   "cell_type": "markdown",
   "metadata": {},
   "source": [
    "#### Задание: \"Изучите, как быстро продавались квартиры (столбец days_exposition).\""
   ]
  },
  {
   "cell_type": "code",
   "execution_count": 40,
   "metadata": {},
   "outputs": [
    {
     "data": {
      "text/plain": [
       "<AxesSubplot:>"
      ]
     },
     "execution_count": 40,
     "metadata": {},
     "output_type": "execute_result"
    },
    {
     "data": {
      "image/png": "[encoded data removed]",
      "text/plain": [
       "<Figure size 432x288 with 1 Axes>"
      ]
     },
     "metadata": {
      "needs_background": "light"
     },
     "output_type": "display_data"
    }
   ],
   "source": [
    "data['days_exposition'].hist()"
   ]
  },
  {
   "cell_type": "code",
   "execution_count": 41,
   "metadata": {},
   "outputs": [
    {
     "data": {
      "text/plain": [
       "170.2606047422232"
      ]
     },
     "execution_count": 41,
     "metadata": {},
     "output_type": "execute_result"
    }
   ],
   "source": [
    "data['days_exposition'].mean()"
   ]
  },
  {
   "cell_type": "code",
   "execution_count": 42,
   "metadata": {},
   "outputs": [
    {
     "data": {
      "text/plain": [
       "90.00000000000001"
      ]
     },
     "execution_count": 42,
     "metadata": {},
     "output_type": "execute_result"
    }
   ],
   "source": [
    "data['days_exposition'].median()"
   ]
  },
  {
   "cell_type": "markdown",
   "metadata": {},
   "source": [
    "Обычно продажа занимает порядка 100 дней. Безусловно, быстрые продажи - те, которые были осуществлены за срок до 50 дней, а долгие - осуществленные за срок более 150 дней. "
   ]
  },
  {
   "cell_type": "markdown",
   "metadata": {},
   "source": [
    "#### Задание: \"Какие факторы больше всего влияют на общую (полную) стоимость объекта? Постройте графики, которые покажут зависимость цены от указанных ниже параметров. Для подготовки данных перед визуализацией вы можете использовать сводные таблицы.\""
   ]
  },
  {
   "cell_type": "code",
   "execution_count": 43,
   "metadata": {},
   "outputs": [],
   "source": [
    "selected_columns = ['last_price', 'total_area', 'living_area', 'kitchen_area', 'rooms']\n",
    "\n",
    "\n",
    "meaned = data[selected_columns]"
   ]
  },
  {
   "cell_type": "code",
   "execution_count": 44,
   "metadata": {
    "scrolled": false
   },
   "outputs": [
    {
     "data": {
      "text/html": [
       "<div>\n",
       "<style scoped>\n",
       "    .dataframe tbody tr th:only-of-type {\n",
       "        vertical-align: middle;\n",
       "    }\n",
       "\n",
       "    .dataframe tbody tr th {\n",
       "        vertical-align: top;\n",
       "    }\n",
       "\n",
       "    .dataframe thead th {\n",
       "        text-align: right;\n",
       "    }\n",
       "</style>\n",
       "<table border=\"1\" class=\"dataframe\">\n",
       "  <thead>\n",
       "    <tr style=\"text-align: right;\">\n",
       "      <th></th>\n",
       "      <th>total_area</th>\n",
       "      <th>living_area</th>\n",
       "      <th>kitchen_area</th>\n",
       "      <th>rooms</th>\n",
       "    </tr>\n",
       "  </thead>\n",
       "  <tbody>\n",
       "    <tr>\n",
       "      <th>last_price</th>\n",
       "      <td>0.663266</td>\n",
       "      <td>0.51783</td>\n",
       "      <td>0.456836</td>\n",
       "      <td>0.391397</td>\n",
       "    </tr>\n",
       "  </tbody>\n",
       "</table>\n",
       "</div>"
      ],
      "text/plain": [
       "            total_area  living_area  kitchen_area     rooms\n",
       "last_price    0.663266      0.51783      0.456836  0.391397"
      ]
     },
     "execution_count": 44,
     "metadata": {},
     "output_type": "execute_result"
    }
   ],
   "source": [
    "meaned.corr().head(1).iloc[:, 1:]"
   ]
  },
  {
   "cell_type": "code",
   "execution_count": 45,
   "metadata": {},
   "outputs": [
    {
     "data": {
      "text/plain": [
       "<AxesSubplot:xlabel='floor_type'>"
      ]
     },
     "execution_count": 45,
     "metadata": {},
     "output_type": "execute_result"
    },
    {
     "data": {
      "image/png": "[encoded data removed]",
      "text/plain": [
       "<Figure size 432x288 with 1 Axes>"
      ]
     },
     "metadata": {
      "needs_background": "light"
     },
     "output_type": "display_data"
    }
   ],
   "source": [
    "data.pivot_table(index='floor_type', values='last_price', aggfunc='median').plot.bar()"
   ]
  },
  {
   "cell_type": "code",
   "execution_count": 46,
   "metadata": {},
   "outputs": [
    {
     "data": {
      "text/plain": [
       "<AxesSubplot:xlabel='day_of_week'>"
      ]
     },
     "execution_count": 46,
     "metadata": {},
     "output_type": "execute_result"
    },
    {
     "data": {
      "image/png": "[encoded data removed]",
      "text/plain": [
       "<Figure size 432x288 with 1 Axes>"
      ]
     },
     "metadata": {
      "needs_background": "light"
     },
     "output_type": "display_data"
    }
   ],
   "source": [
    "data.pivot_table(index='day_of_week', values='last_price', aggfunc='median').plot.bar()"
   ]
  },
  {
   "cell_type": "code",
   "execution_count": 47,
   "metadata": {},
   "outputs": [
    {
     "data": {
      "text/plain": [
       "<AxesSubplot:xlabel='month'>"
      ]
     },
     "execution_count": 47,
     "metadata": {},
     "output_type": "execute_result"
    },
    {
     "data": {
      "image/png": "[encoded data removed]",
      "text/plain": [
       "<Figure size 432x288 with 1 Axes>"
      ]
     },
     "metadata": {
      "needs_background": "light"
     },
     "output_type": "display_data"
    }
   ],
   "source": [
    "data.pivot_table(index='month', values='last_price', aggfunc='median').plot.bar()"
   ]
  },
  {
   "cell_type": "code",
   "execution_count": 48,
   "metadata": {},
   "outputs": [
    {
     "data": {
      "text/plain": [
       "<AxesSubplot:xlabel='year'>"
      ]
     },
     "execution_count": 48,
     "metadata": {},
     "output_type": "execute_result"
    },
    {
     "data": {
      "image/png": "[encoded data removed]",
      "text/plain": [
       "<Figure size 432x288 with 1 Axes>"
      ]
     },
     "metadata": {
      "needs_background": "light"
     },
     "output_type": "display_data"
    }
   ],
   "source": [
    "data.pivot_table(index='year', values='last_price', aggfunc='median').plot.bar()"
   ]
  },
  {
   "cell_type": "markdown",
   "metadata": {},
   "source": [
    "Итог: Стоимость зависит от площади квартиры и кухни (что логично), от жилплощали (что логично), от количества комнат. Глобально тип этажа не влияет на стоимость, однако тип ДРУГОЙ все же чуточку больше. День недели в данном случае не влияет абсолютно никак. Аналогично с месяцем. В случае с годом стоимость очень новых, и \"очень старых\" объявлений выше чем остальные. Вероятно новые так как новостройки, старые так как очень близко к центру города. "
   ]
  },
  {
   "cell_type": "markdown",
   "metadata": {},
   "source": [
    "#### Задание: \"Посчитайте среднюю цену одного квадратного метра в 10 населённых пунктах с наибольшим числом объявлений. Выделите населённые пункты с самой высокой и низкой стоимостью квадратного метра. Эти данные можно найти по имени в столбце locality_name.\""
   ]
  },
  {
   "cell_type": "code",
   "execution_count": 49,
   "metadata": {},
   "outputs": [
    {
     "data": {
      "text/plain": [
       "Санкт-Петербург    13168\n",
       "Мурино               588\n",
       "Шушары               429\n",
       "Всеволожск           385\n",
       "Колпино              330\n",
       "Пушкин               329\n",
       "Парголово            320\n",
       "Гатчина              299\n",
       "деревня Кудрово      296\n",
       "Выборг               218\n",
       "Name: locality_name, dtype: int64"
      ]
     },
     "execution_count": 49,
     "metadata": {},
     "output_type": "execute_result"
    }
   ],
   "source": [
    "top10 = data['locality_name'].value_counts().head(10)\n",
    "top10"
   ]
  },
  {
   "cell_type": "code",
   "execution_count": 50,
   "metadata": {},
   "outputs": [],
   "source": [
    "filtered_data = data[data['locality_name'].isin(top10.index)]"
   ]
  },
  {
   "cell_type": "code",
   "execution_count": 51,
   "metadata": {},
   "outputs": [
    {
     "data": {
      "text/html": [
       "<div>\n",
       "<style scoped>\n",
       "    .dataframe tbody tr th:only-of-type {\n",
       "        vertical-align: middle;\n",
       "    }\n",
       "\n",
       "    .dataframe tbody tr th {\n",
       "        vertical-align: top;\n",
       "    }\n",
       "\n",
       "    .dataframe thead th {\n",
       "        text-align: right;\n",
       "    }\n",
       "</style>\n",
       "<table border=\"1\" class=\"dataframe\">\n",
       "  <thead>\n",
       "    <tr style=\"text-align: right;\">\n",
       "      <th></th>\n",
       "      <th>total_images</th>\n",
       "      <th>last_price</th>\n",
       "      <th>total_area</th>\n",
       "      <th>first_day_exposition</th>\n",
       "      <th>rooms</th>\n",
       "      <th>ceiling_height</th>\n",
       "      <th>floors_total</th>\n",
       "      <th>living_area</th>\n",
       "      <th>floor</th>\n",
       "      <th>is_apartment</th>\n",
       "      <th>studio</th>\n",
       "      <th>open_plan</th>\n",
       "      <th>kitchen_area</th>\n",
       "      <th>balcony</th>\n",
       "      <th>locality_name</th>\n",
       "      <th>airports_nearest</th>\n",
       "      <th>cityCenters_nearest</th>\n",
       "      <th>parks_around3000</th>\n",
       "      <th>parks_nearest</th>\n",
       "      <th>ponds_around3000</th>\n",
       "      <th>ponds_nearest</th>\n",
       "      <th>days_exposition</th>\n",
       "      <th>price_per_m</th>\n",
       "      <th>day_of_week</th>\n",
       "      <th>month</th>\n",
       "      <th>year</th>\n",
       "      <th>floor_type</th>\n",
       "      <th>km_to_center</th>\n",
       "    </tr>\n",
       "  </thead>\n",
       "  <tbody>\n",
       "    <tr>\n",
       "      <th>1</th>\n",
       "      <td>7</td>\n",
       "      <td>3350000</td>\n",
       "      <td>40.40</td>\n",
       "      <td>2018-12-04</td>\n",
       "      <td>1</td>\n",
       "      <td>NaN</td>\n",
       "      <td>11</td>\n",
       "      <td>18.60</td>\n",
       "      <td>1</td>\n",
       "      <td>False</td>\n",
       "      <td>False</td>\n",
       "      <td>False</td>\n",
       "      <td>11.00</td>\n",
       "      <td>2</td>\n",
       "      <td>Шушары</td>\n",
       "      <td>12817.0</td>\n",
       "      <td>18603.0</td>\n",
       "      <td>0</td>\n",
       "      <td>NaN</td>\n",
       "      <td>0</td>\n",
       "      <td>NaN</td>\n",
       "      <td>81.0</td>\n",
       "      <td>82920.792079</td>\n",
       "      <td>2</td>\n",
       "      <td>12</td>\n",
       "      <td>2018</td>\n",
       "      <td>первый</td>\n",
       "      <td>18.6</td>\n",
       "    </tr>\n",
       "    <tr>\n",
       "      <th>2</th>\n",
       "      <td>10</td>\n",
       "      <td>5196000</td>\n",
       "      <td>56.00</td>\n",
       "      <td>2015-08-20</td>\n",
       "      <td>2</td>\n",
       "      <td>NaN</td>\n",
       "      <td>5</td>\n",
       "      <td>34.30</td>\n",
       "      <td>4</td>\n",
       "      <td>False</td>\n",
       "      <td>False</td>\n",
       "      <td>False</td>\n",
       "      <td>8.30</td>\n",
       "      <td>0</td>\n",
       "      <td>Санкт-Петербург</td>\n",
       "      <td>21741.0</td>\n",
       "      <td>13933.0</td>\n",
       "      <td>1</td>\n",
       "      <td>90.0</td>\n",
       "      <td>2</td>\n",
       "      <td>574.0</td>\n",
       "      <td>558.0</td>\n",
       "      <td>92785.714286</td>\n",
       "      <td>4</td>\n",
       "      <td>8</td>\n",
       "      <td>2015</td>\n",
       "      <td>другой</td>\n",
       "      <td>13.9</td>\n",
       "    </tr>\n",
       "    <tr>\n",
       "      <th>6</th>\n",
       "      <td>6</td>\n",
       "      <td>3700000</td>\n",
       "      <td>37.30</td>\n",
       "      <td>2017-11-02</td>\n",
       "      <td>1</td>\n",
       "      <td>NaN</td>\n",
       "      <td>26</td>\n",
       "      <td>10.60</td>\n",
       "      <td>6</td>\n",
       "      <td>False</td>\n",
       "      <td>False</td>\n",
       "      <td>False</td>\n",
       "      <td>14.40</td>\n",
       "      <td>1</td>\n",
       "      <td>Парголово</td>\n",
       "      <td>52996.0</td>\n",
       "      <td>19143.0</td>\n",
       "      <td>0</td>\n",
       "      <td>NaN</td>\n",
       "      <td>0</td>\n",
       "      <td>NaN</td>\n",
       "      <td>155.0</td>\n",
       "      <td>99195.710456</td>\n",
       "      <td>4</td>\n",
       "      <td>11</td>\n",
       "      <td>2017</td>\n",
       "      <td>другой</td>\n",
       "      <td>19.1</td>\n",
       "    </tr>\n",
       "    <tr>\n",
       "      <th>7</th>\n",
       "      <td>5</td>\n",
       "      <td>7915000</td>\n",
       "      <td>71.60</td>\n",
       "      <td>2019-04-18</td>\n",
       "      <td>2</td>\n",
       "      <td>NaN</td>\n",
       "      <td>24</td>\n",
       "      <td>NaN</td>\n",
       "      <td>22</td>\n",
       "      <td>False</td>\n",
       "      <td>False</td>\n",
       "      <td>False</td>\n",
       "      <td>18.90</td>\n",
       "      <td>2</td>\n",
       "      <td>Санкт-Петербург</td>\n",
       "      <td>23982.0</td>\n",
       "      <td>11634.0</td>\n",
       "      <td>0</td>\n",
       "      <td>NaN</td>\n",
       "      <td>0</td>\n",
       "      <td>NaN</td>\n",
       "      <td>NaN</td>\n",
       "      <td>110544.692737</td>\n",
       "      <td>4</td>\n",
       "      <td>4</td>\n",
       "      <td>2019</td>\n",
       "      <td>другой</td>\n",
       "      <td>11.6</td>\n",
       "    </tr>\n",
       "    <tr>\n",
       "      <th>8</th>\n",
       "      <td>20</td>\n",
       "      <td>2900000</td>\n",
       "      <td>33.16</td>\n",
       "      <td>2018-05-23</td>\n",
       "      <td>1</td>\n",
       "      <td>NaN</td>\n",
       "      <td>27</td>\n",
       "      <td>15.43</td>\n",
       "      <td>26</td>\n",
       "      <td>False</td>\n",
       "      <td>False</td>\n",
       "      <td>False</td>\n",
       "      <td>8.81</td>\n",
       "      <td>0</td>\n",
       "      <td>Мурино</td>\n",
       "      <td>NaN</td>\n",
       "      <td>NaN</td>\n",
       "      <td>0</td>\n",
       "      <td>NaN</td>\n",
       "      <td>0</td>\n",
       "      <td>NaN</td>\n",
       "      <td>189.0</td>\n",
       "      <td>87454.764777</td>\n",
       "      <td>3</td>\n",
       "      <td>5</td>\n",
       "      <td>2018</td>\n",
       "      <td>другой</td>\n",
       "      <td>NaN</td>\n",
       "    </tr>\n",
       "    <tr>\n",
       "      <th>...</th>\n",
       "      <td>...</td>\n",
       "      <td>...</td>\n",
       "      <td>...</td>\n",
       "      <td>...</td>\n",
       "      <td>...</td>\n",
       "      <td>...</td>\n",
       "      <td>...</td>\n",
       "      <td>...</td>\n",
       "      <td>...</td>\n",
       "      <td>...</td>\n",
       "      <td>...</td>\n",
       "      <td>...</td>\n",
       "      <td>...</td>\n",
       "      <td>...</td>\n",
       "      <td>...</td>\n",
       "      <td>...</td>\n",
       "      <td>...</td>\n",
       "      <td>...</td>\n",
       "      <td>...</td>\n",
       "      <td>...</td>\n",
       "      <td>...</td>\n",
       "      <td>...</td>\n",
       "      <td>...</td>\n",
       "      <td>...</td>\n",
       "      <td>...</td>\n",
       "      <td>...</td>\n",
       "      <td>...</td>\n",
       "      <td>...</td>\n",
       "    </tr>\n",
       "    <tr>\n",
       "      <th>23687</th>\n",
       "      <td>6</td>\n",
       "      <td>3200000</td>\n",
       "      <td>39.00</td>\n",
       "      <td>2017-12-16</td>\n",
       "      <td>1</td>\n",
       "      <td>NaN</td>\n",
       "      <td>9</td>\n",
       "      <td>20.00</td>\n",
       "      <td>6</td>\n",
       "      <td>False</td>\n",
       "      <td>False</td>\n",
       "      <td>False</td>\n",
       "      <td>11.00</td>\n",
       "      <td>2</td>\n",
       "      <td>Санкт-Петербург</td>\n",
       "      <td>40837.0</td>\n",
       "      <td>16704.0</td>\n",
       "      <td>0</td>\n",
       "      <td>NaN</td>\n",
       "      <td>0</td>\n",
       "      <td>NaN</td>\n",
       "      <td>38.0</td>\n",
       "      <td>82051.282051</td>\n",
       "      <td>6</td>\n",
       "      <td>12</td>\n",
       "      <td>2017</td>\n",
       "      <td>другой</td>\n",
       "      <td>16.7</td>\n",
       "    </tr>\n",
       "    <tr>\n",
       "      <th>23689</th>\n",
       "      <td>13</td>\n",
       "      <td>3550000</td>\n",
       "      <td>35.30</td>\n",
       "      <td>2018-02-28</td>\n",
       "      <td>1</td>\n",
       "      <td>2.86</td>\n",
       "      <td>15</td>\n",
       "      <td>16.30</td>\n",
       "      <td>4</td>\n",
       "      <td>False</td>\n",
       "      <td>False</td>\n",
       "      <td>False</td>\n",
       "      <td>9.10</td>\n",
       "      <td>2</td>\n",
       "      <td>Санкт-Петербург</td>\n",
       "      <td>17284.0</td>\n",
       "      <td>16081.0</td>\n",
       "      <td>1</td>\n",
       "      <td>353.0</td>\n",
       "      <td>2</td>\n",
       "      <td>652.0</td>\n",
       "      <td>29.0</td>\n",
       "      <td>100566.572238</td>\n",
       "      <td>3</td>\n",
       "      <td>2</td>\n",
       "      <td>2018</td>\n",
       "      <td>другой</td>\n",
       "      <td>16.1</td>\n",
       "    </tr>\n",
       "    <tr>\n",
       "      <th>23690</th>\n",
       "      <td>3</td>\n",
       "      <td>5500000</td>\n",
       "      <td>52.00</td>\n",
       "      <td>2018-07-19</td>\n",
       "      <td>2</td>\n",
       "      <td>NaN</td>\n",
       "      <td>5</td>\n",
       "      <td>31.00</td>\n",
       "      <td>2</td>\n",
       "      <td>False</td>\n",
       "      <td>False</td>\n",
       "      <td>False</td>\n",
       "      <td>6.00</td>\n",
       "      <td>0</td>\n",
       "      <td>Санкт-Петербург</td>\n",
       "      <td>20151.0</td>\n",
       "      <td>6263.0</td>\n",
       "      <td>1</td>\n",
       "      <td>300.0</td>\n",
       "      <td>0</td>\n",
       "      <td>NaN</td>\n",
       "      <td>15.0</td>\n",
       "      <td>105769.230769</td>\n",
       "      <td>4</td>\n",
       "      <td>7</td>\n",
       "      <td>2018</td>\n",
       "      <td>другой</td>\n",
       "      <td>6.3</td>\n",
       "    </tr>\n",
       "    <tr>\n",
       "      <th>23691</th>\n",
       "      <td>11</td>\n",
       "      <td>9470000</td>\n",
       "      <td>72.90</td>\n",
       "      <td>2016-10-13</td>\n",
       "      <td>2</td>\n",
       "      <td>2.75</td>\n",
       "      <td>25</td>\n",
       "      <td>40.30</td>\n",
       "      <td>7</td>\n",
       "      <td>False</td>\n",
       "      <td>False</td>\n",
       "      <td>False</td>\n",
       "      <td>10.60</td>\n",
       "      <td>1</td>\n",
       "      <td>Санкт-Петербург</td>\n",
       "      <td>19424.0</td>\n",
       "      <td>4489.0</td>\n",
       "      <td>0</td>\n",
       "      <td>NaN</td>\n",
       "      <td>1</td>\n",
       "      <td>806.0</td>\n",
       "      <td>519.0</td>\n",
       "      <td>129903.978052</td>\n",
       "      <td>4</td>\n",
       "      <td>10</td>\n",
       "      <td>2016</td>\n",
       "      <td>другой</td>\n",
       "      <td>4.5</td>\n",
       "    </tr>\n",
       "    <tr>\n",
       "      <th>23697</th>\n",
       "      <td>13</td>\n",
       "      <td>11475000</td>\n",
       "      <td>76.75</td>\n",
       "      <td>2017-03-28</td>\n",
       "      <td>2</td>\n",
       "      <td>3.00</td>\n",
       "      <td>17</td>\n",
       "      <td>NaN</td>\n",
       "      <td>12</td>\n",
       "      <td>False</td>\n",
       "      <td>False</td>\n",
       "      <td>False</td>\n",
       "      <td>23.30</td>\n",
       "      <td>2</td>\n",
       "      <td>Санкт-Петербург</td>\n",
       "      <td>39140.0</td>\n",
       "      <td>10364.0</td>\n",
       "      <td>2</td>\n",
       "      <td>173.0</td>\n",
       "      <td>3</td>\n",
       "      <td>196.0</td>\n",
       "      <td>602.0</td>\n",
       "      <td>149511.400651</td>\n",
       "      <td>2</td>\n",
       "      <td>3</td>\n",
       "      <td>2017</td>\n",
       "      <td>другой</td>\n",
       "      <td>10.4</td>\n",
       "    </tr>\n",
       "  </tbody>\n",
       "</table>\n",
       "<p>16362 rows × 28 columns</p>\n",
       "</div>"
      ],
      "text/plain": [
       "       total_images  last_price  total_area first_day_exposition  rooms  \\\n",
       "1                 7     3350000       40.40           2018-12-04      1   \n",
       "2                10     5196000       56.00           2015-08-20      2   \n",
       "6                 6     3700000       37.30           2017-11-02      1   \n",
       "7                 5     7915000       71.60           2019-04-18      2   \n",
       "8                20     2900000       33.16           2018-05-23      1   \n",
       "...             ...         ...         ...                  ...    ...   \n",
       "23687             6     3200000       39.00           2017-12-16      1   \n",
       "23689            13     3550000       35.30           2018-02-28      1   \n",
       "23690             3     5500000       52.00           2018-07-19      2   \n",
       "23691            11     9470000       72.90           2016-10-13      2   \n",
       "23697            13    11475000       76.75           2017-03-28      2   \n",
       "\n",
       "       ceiling_height  floors_total  living_area  floor  is_apartment  studio  \\\n",
       "1                 NaN            11        18.60      1         False   False   \n",
       "2                 NaN             5        34.30      4         False   False   \n",
       "6                 NaN            26        10.60      6         False   False   \n",
       "7                 NaN            24          NaN     22         False   False   \n",
       "8                 NaN            27        15.43     26         False   False   \n",
       "...               ...           ...          ...    ...           ...     ...   \n",
       "23687             NaN             9        20.00      6         False   False   \n",
       "23689            2.86            15        16.30      4         False   False   \n",
       "23690             NaN             5        31.00      2         False   False   \n",
       "23691            2.75            25        40.30      7         False   False   \n",
       "23697            3.00            17          NaN     12         False   False   \n",
       "\n",
       "       open_plan  kitchen_area  balcony    locality_name  airports_nearest  \\\n",
       "1          False         11.00        2           Шушары           12817.0   \n",
       "2          False          8.30        0  Санкт-Петербург           21741.0   \n",
       "6          False         14.40        1        Парголово           52996.0   \n",
       "7          False         18.90        2  Санкт-Петербург           23982.0   \n",
       "8          False          8.81        0           Мурино               NaN   \n",
       "...          ...           ...      ...              ...               ...   \n",
       "23687      False         11.00        2  Санкт-Петербург           40837.0   \n",
       "23689      False          9.10        2  Санкт-Петербург           17284.0   \n",
       "23690      False          6.00        0  Санкт-Петербург           20151.0   \n",
       "23691      False         10.60        1  Санкт-Петербург           19424.0   \n",
       "23697      False         23.30        2  Санкт-Петербург           39140.0   \n",
       "\n",
       "       cityCenters_nearest  parks_around3000  parks_nearest  ponds_around3000  \\\n",
       "1                  18603.0                 0            NaN                 0   \n",
       "2                  13933.0                 1           90.0                 2   \n",
       "6                  19143.0                 0            NaN                 0   \n",
       "7                  11634.0                 0            NaN                 0   \n",
       "8                      NaN                 0            NaN                 0   \n",
       "...                    ...               ...            ...               ...   \n",
       "23687              16704.0                 0            NaN                 0   \n",
       "23689              16081.0                 1          353.0                 2   \n",
       "23690               6263.0                 1          300.0                 0   \n",
       "23691               4489.0                 0            NaN                 1   \n",
       "23697              10364.0                 2          173.0                 3   \n",
       "\n",
       "       ponds_nearest  days_exposition    price_per_m  day_of_week  month  \\\n",
       "1                NaN             81.0   82920.792079            2     12   \n",
       "2              574.0            558.0   92785.714286            4      8   \n",
       "6                NaN            155.0   99195.710456            4     11   \n",
       "7                NaN              NaN  110544.692737            4      4   \n",
       "8                NaN            189.0   87454.764777            3      5   \n",
       "...              ...              ...            ...          ...    ...   \n",
       "23687            NaN             38.0   82051.282051            6     12   \n",
       "23689          652.0             29.0  100566.572238            3      2   \n",
       "23690            NaN             15.0  105769.230769            4      7   \n",
       "23691          806.0            519.0  129903.978052            4     10   \n",
       "23697          196.0            602.0  149511.400651            2      3   \n",
       "\n",
       "       year floor_type  km_to_center  \n",
       "1      2018     первый          18.6  \n",
       "2      2015     другой          13.9  \n",
       "6      2017     другой          19.1  \n",
       "7      2019     другой          11.6  \n",
       "8      2018     другой           NaN  \n",
       "...     ...        ...           ...  \n",
       "23687  2017     другой          16.7  \n",
       "23689  2018     другой          16.1  \n",
       "23690  2018     другой           6.3  \n",
       "23691  2016     другой           4.5  \n",
       "23697  2017     другой          10.4  \n",
       "\n",
       "[16362 rows x 28 columns]"
      ]
     },
     "execution_count": 51,
     "metadata": {},
     "output_type": "execute_result"
    }
   ],
   "source": [
    "filtered_data"
   ]
  },
  {
   "cell_type": "code",
   "execution_count": 52,
   "metadata": {},
   "outputs": [
    {
     "data": {
      "text/plain": [
       "locality_name\n",
       "Санкт-Петербург    106169.857278\n",
       "Пушкин             100692.717449\n",
       "деревня Кудрово     92482.778852\n",
       "Парголово           90793.306980\n",
       "Мурино              86145.213913\n",
       "Шушары              78774.391415\n",
       "Колпино             75404.044256\n",
       "Гатчина             68661.103778\n",
       "Всеволожск          67241.828319\n",
       "Выборг              58346.029031\n",
       "Name: price_per_m, dtype: float64"
      ]
     },
     "execution_count": 52,
     "metadata": {},
     "output_type": "execute_result"
    }
   ],
   "source": [
    "top10_per_m = filtered_data.groupby('locality_name')['price_per_m'].mean().sort_values(ascending=False)\n",
    "top10_per_m"
   ]
  },
  {
   "cell_type": "code",
   "execution_count": 53,
   "metadata": {},
   "outputs": [
    {
     "data": {
      "text/plain": [
       "106169.85727779989"
      ]
     },
     "execution_count": 53,
     "metadata": {},
     "output_type": "execute_result"
    }
   ],
   "source": [
    "top10_per_m.max()"
   ]
  },
  {
   "cell_type": "markdown",
   "metadata": {},
   "source": [
    "Санкт-Петербург"
   ]
  },
  {
   "cell_type": "code",
   "execution_count": 54,
   "metadata": {},
   "outputs": [
    {
     "data": {
      "text/plain": [
       "58346.02903119594"
      ]
     },
     "execution_count": 54,
     "metadata": {},
     "output_type": "execute_result"
    }
   ],
   "source": [
    "top10_per_m.min()"
   ]
  },
  {
   "cell_type": "markdown",
   "metadata": {},
   "source": [
    "Выборг"
   ]
  },
  {
   "cell_type": "markdown",
   "metadata": {},
   "source": [
    "#### Задание: \"Ранее вы посчитали расстояние до центра в километрах. Теперь выделите квартиры в Санкт-Петербурге с помощью столбца locality_name и вычислите среднюю цену каждого километра. Опишите, как стоимость объектов зависит от расстояния до центра города.\""
   ]
  },
  {
   "cell_type": "code",
   "execution_count": 55,
   "metadata": {},
   "outputs": [
    {
     "data": {
      "text/html": [
       "<div>\n",
       "<style scoped>\n",
       "    .dataframe tbody tr th:only-of-type {\n",
       "        vertical-align: middle;\n",
       "    }\n",
       "\n",
       "    .dataframe tbody tr th {\n",
       "        vertical-align: top;\n",
       "    }\n",
       "\n",
       "    .dataframe thead th {\n",
       "        text-align: right;\n",
       "    }\n",
       "</style>\n",
       "<table border=\"1\" class=\"dataframe\">\n",
       "  <thead>\n",
       "    <tr style=\"text-align: right;\">\n",
       "      <th></th>\n",
       "      <th>total_images</th>\n",
       "      <th>last_price</th>\n",
       "      <th>total_area</th>\n",
       "      <th>first_day_exposition</th>\n",
       "      <th>rooms</th>\n",
       "      <th>ceiling_height</th>\n",
       "      <th>floors_total</th>\n",
       "      <th>living_area</th>\n",
       "      <th>floor</th>\n",
       "      <th>is_apartment</th>\n",
       "      <th>studio</th>\n",
       "      <th>open_plan</th>\n",
       "      <th>kitchen_area</th>\n",
       "      <th>balcony</th>\n",
       "      <th>locality_name</th>\n",
       "      <th>airports_nearest</th>\n",
       "      <th>cityCenters_nearest</th>\n",
       "      <th>parks_around3000</th>\n",
       "      <th>parks_nearest</th>\n",
       "      <th>ponds_around3000</th>\n",
       "      <th>ponds_nearest</th>\n",
       "      <th>days_exposition</th>\n",
       "      <th>price_per_m</th>\n",
       "      <th>day_of_week</th>\n",
       "      <th>month</th>\n",
       "      <th>year</th>\n",
       "      <th>floor_type</th>\n",
       "      <th>km_to_center</th>\n",
       "    </tr>\n",
       "  </thead>\n",
       "  <tbody>\n",
       "    <tr>\n",
       "      <th>1</th>\n",
       "      <td>7</td>\n",
       "      <td>3350000</td>\n",
       "      <td>40.4</td>\n",
       "      <td>2018-12-04</td>\n",
       "      <td>1</td>\n",
       "      <td>NaN</td>\n",
       "      <td>11</td>\n",
       "      <td>18.6</td>\n",
       "      <td>1</td>\n",
       "      <td>False</td>\n",
       "      <td>False</td>\n",
       "      <td>False</td>\n",
       "      <td>11.0</td>\n",
       "      <td>2</td>\n",
       "      <td>Шушары</td>\n",
       "      <td>12817.0</td>\n",
       "      <td>18603.0</td>\n",
       "      <td>0</td>\n",
       "      <td>NaN</td>\n",
       "      <td>0</td>\n",
       "      <td>NaN</td>\n",
       "      <td>81.0</td>\n",
       "      <td>82920.792079</td>\n",
       "      <td>2</td>\n",
       "      <td>12</td>\n",
       "      <td>2018</td>\n",
       "      <td>первый</td>\n",
       "      <td>18.6</td>\n",
       "    </tr>\n",
       "    <tr>\n",
       "      <th>2</th>\n",
       "      <td>10</td>\n",
       "      <td>5196000</td>\n",
       "      <td>56.0</td>\n",
       "      <td>2015-08-20</td>\n",
       "      <td>2</td>\n",
       "      <td>NaN</td>\n",
       "      <td>5</td>\n",
       "      <td>34.3</td>\n",
       "      <td>4</td>\n",
       "      <td>False</td>\n",
       "      <td>False</td>\n",
       "      <td>False</td>\n",
       "      <td>8.3</td>\n",
       "      <td>0</td>\n",
       "      <td>Санкт-Петербург</td>\n",
       "      <td>21741.0</td>\n",
       "      <td>13933.0</td>\n",
       "      <td>1</td>\n",
       "      <td>90.0</td>\n",
       "      <td>2</td>\n",
       "      <td>574.0</td>\n",
       "      <td>558.0</td>\n",
       "      <td>92785.714286</td>\n",
       "      <td>4</td>\n",
       "      <td>8</td>\n",
       "      <td>2015</td>\n",
       "      <td>другой</td>\n",
       "      <td>13.9</td>\n",
       "    </tr>\n",
       "    <tr>\n",
       "      <th>5</th>\n",
       "      <td>10</td>\n",
       "      <td>2890000</td>\n",
       "      <td>30.4</td>\n",
       "      <td>2018-09-10</td>\n",
       "      <td>1</td>\n",
       "      <td>NaN</td>\n",
       "      <td>12</td>\n",
       "      <td>14.4</td>\n",
       "      <td>5</td>\n",
       "      <td>False</td>\n",
       "      <td>False</td>\n",
       "      <td>False</td>\n",
       "      <td>9.1</td>\n",
       "      <td>0</td>\n",
       "      <td>Янино-1</td>\n",
       "      <td>NaN</td>\n",
       "      <td>NaN</td>\n",
       "      <td>0</td>\n",
       "      <td>NaN</td>\n",
       "      <td>0</td>\n",
       "      <td>NaN</td>\n",
       "      <td>55.0</td>\n",
       "      <td>95065.789474</td>\n",
       "      <td>1</td>\n",
       "      <td>9</td>\n",
       "      <td>2018</td>\n",
       "      <td>другой</td>\n",
       "      <td>NaN</td>\n",
       "    </tr>\n",
       "    <tr>\n",
       "      <th>6</th>\n",
       "      <td>6</td>\n",
       "      <td>3700000</td>\n",
       "      <td>37.3</td>\n",
       "      <td>2017-11-02</td>\n",
       "      <td>1</td>\n",
       "      <td>NaN</td>\n",
       "      <td>26</td>\n",
       "      <td>10.6</td>\n",
       "      <td>6</td>\n",
       "      <td>False</td>\n",
       "      <td>False</td>\n",
       "      <td>False</td>\n",
       "      <td>14.4</td>\n",
       "      <td>1</td>\n",
       "      <td>Парголово</td>\n",
       "      <td>52996.0</td>\n",
       "      <td>19143.0</td>\n",
       "      <td>0</td>\n",
       "      <td>NaN</td>\n",
       "      <td>0</td>\n",
       "      <td>NaN</td>\n",
       "      <td>155.0</td>\n",
       "      <td>99195.710456</td>\n",
       "      <td>4</td>\n",
       "      <td>11</td>\n",
       "      <td>2017</td>\n",
       "      <td>другой</td>\n",
       "      <td>19.1</td>\n",
       "    </tr>\n",
       "    <tr>\n",
       "      <th>7</th>\n",
       "      <td>5</td>\n",
       "      <td>7915000</td>\n",
       "      <td>71.6</td>\n",
       "      <td>2019-04-18</td>\n",
       "      <td>2</td>\n",
       "      <td>NaN</td>\n",
       "      <td>24</td>\n",
       "      <td>NaN</td>\n",
       "      <td>22</td>\n",
       "      <td>False</td>\n",
       "      <td>False</td>\n",
       "      <td>False</td>\n",
       "      <td>18.9</td>\n",
       "      <td>2</td>\n",
       "      <td>Санкт-Петербург</td>\n",
       "      <td>23982.0</td>\n",
       "      <td>11634.0</td>\n",
       "      <td>0</td>\n",
       "      <td>NaN</td>\n",
       "      <td>0</td>\n",
       "      <td>NaN</td>\n",
       "      <td>NaN</td>\n",
       "      <td>110544.692737</td>\n",
       "      <td>4</td>\n",
       "      <td>4</td>\n",
       "      <td>2019</td>\n",
       "      <td>другой</td>\n",
       "      <td>11.6</td>\n",
       "    </tr>\n",
       "  </tbody>\n",
       "</table>\n",
       "</div>"
      ],
      "text/plain": [
       "   total_images  last_price  total_area first_day_exposition  rooms  \\\n",
       "1             7     3350000        40.4           2018-12-04      1   \n",
       "2            10     5196000        56.0           2015-08-20      2   \n",
       "5            10     2890000        30.4           2018-09-10      1   \n",
       "6             6     3700000        37.3           2017-11-02      1   \n",
       "7             5     7915000        71.6           2019-04-18      2   \n",
       "\n",
       "   ceiling_height  floors_total  living_area  floor  is_apartment  studio  \\\n",
       "1             NaN            11         18.6      1         False   False   \n",
       "2             NaN             5         34.3      4         False   False   \n",
       "5             NaN            12         14.4      5         False   False   \n",
       "6             NaN            26         10.6      6         False   False   \n",
       "7             NaN            24          NaN     22         False   False   \n",
       "\n",
       "   open_plan  kitchen_area  balcony    locality_name  airports_nearest  \\\n",
       "1      False          11.0        2           Шушары           12817.0   \n",
       "2      False           8.3        0  Санкт-Петербург           21741.0   \n",
       "5      False           9.1        0          Янино-1               NaN   \n",
       "6      False          14.4        1        Парголово           52996.0   \n",
       "7      False          18.9        2  Санкт-Петербург           23982.0   \n",
       "\n",
       "   cityCenters_nearest  parks_around3000  parks_nearest  ponds_around3000  \\\n",
       "1              18603.0                 0            NaN                 0   \n",
       "2              13933.0                 1           90.0                 2   \n",
       "5                  NaN                 0            NaN                 0   \n",
       "6              19143.0                 0            NaN                 0   \n",
       "7              11634.0                 0            NaN                 0   \n",
       "\n",
       "   ponds_nearest  days_exposition    price_per_m  day_of_week  month  year  \\\n",
       "1            NaN             81.0   82920.792079            2     12  2018   \n",
       "2          574.0            558.0   92785.714286            4      8  2015   \n",
       "5            NaN             55.0   95065.789474            1      9  2018   \n",
       "6            NaN            155.0   99195.710456            4     11  2017   \n",
       "7            NaN              NaN  110544.692737            4      4  2019   \n",
       "\n",
       "  floor_type  km_to_center  \n",
       "1     первый          18.6  \n",
       "2     другой          13.9  \n",
       "5     другой           NaN  \n",
       "6     другой          19.1  \n",
       "7     другой          11.6  "
      ]
     },
     "execution_count": 55,
     "metadata": {},
     "output_type": "execute_result"
    }
   ],
   "source": [
    "data.head()"
   ]
  },
  {
   "cell_type": "code",
   "execution_count": 56,
   "metadata": {},
   "outputs": [],
   "source": [
    "data_only_spb = data[data['locality_name'] == 'Санкт-Петербург']"
   ]
  },
  {
   "cell_type": "code",
   "execution_count": 57,
   "metadata": {},
   "outputs": [
    {
     "data": {
      "text/html": [
       "<div>\n",
       "<style scoped>\n",
       "    .dataframe tbody tr th:only-of-type {\n",
       "        vertical-align: middle;\n",
       "    }\n",
       "\n",
       "    .dataframe tbody tr th {\n",
       "        vertical-align: top;\n",
       "    }\n",
       "\n",
       "    .dataframe thead th {\n",
       "        text-align: right;\n",
       "    }\n",
       "</style>\n",
       "<table border=\"1\" class=\"dataframe\">\n",
       "  <thead>\n",
       "    <tr style=\"text-align: right;\">\n",
       "      <th></th>\n",
       "      <th>Среднее значение</th>\n",
       "      <th>Медиана</th>\n",
       "    </tr>\n",
       "    <tr>\n",
       "      <th>km_to_center</th>\n",
       "      <th></th>\n",
       "      <th></th>\n",
       "    </tr>\n",
       "  </thead>\n",
       "  <tbody>\n",
       "    <tr>\n",
       "      <th>0.2</th>\n",
       "      <td>172619.047619</td>\n",
       "      <td>172619.047619</td>\n",
       "    </tr>\n",
       "    <tr>\n",
       "      <th>0.3</th>\n",
       "      <td>100000.000000</td>\n",
       "      <td>100000.000000</td>\n",
       "    </tr>\n",
       "    <tr>\n",
       "      <th>0.4</th>\n",
       "      <td>145174.216028</td>\n",
       "      <td>145174.216028</td>\n",
       "    </tr>\n",
       "    <tr>\n",
       "      <th>0.5</th>\n",
       "      <td>123468.399706</td>\n",
       "      <td>117283.950617</td>\n",
       "    </tr>\n",
       "    <tr>\n",
       "      <th>0.6</th>\n",
       "      <td>161999.512671</td>\n",
       "      <td>147000.000000</td>\n",
       "    </tr>\n",
       "    <tr>\n",
       "      <th>...</th>\n",
       "      <td>...</td>\n",
       "      <td>...</td>\n",
       "    </tr>\n",
       "    <tr>\n",
       "      <th>28.0</th>\n",
       "      <td>83277.489795</td>\n",
       "      <td>79873.546512</td>\n",
       "    </tr>\n",
       "    <tr>\n",
       "      <th>28.6</th>\n",
       "      <td>85191.334598</td>\n",
       "      <td>85191.334598</td>\n",
       "    </tr>\n",
       "    <tr>\n",
       "      <th>28.8</th>\n",
       "      <td>79890.310786</td>\n",
       "      <td>79890.310786</td>\n",
       "    </tr>\n",
       "    <tr>\n",
       "      <th>29.3</th>\n",
       "      <td>65235.234249</td>\n",
       "      <td>65235.234249</td>\n",
       "    </tr>\n",
       "    <tr>\n",
       "      <th>29.5</th>\n",
       "      <td>56976.744186</td>\n",
       "      <td>56976.744186</td>\n",
       "    </tr>\n",
       "  </tbody>\n",
       "</table>\n",
       "<p>253 rows × 2 columns</p>\n",
       "</div>"
      ],
      "text/plain": [
       "              Среднее значение        Медиана\n",
       "km_to_center                                 \n",
       "0.2              172619.047619  172619.047619\n",
       "0.3              100000.000000  100000.000000\n",
       "0.4              145174.216028  145174.216028\n",
       "0.5              123468.399706  117283.950617\n",
       "0.6              161999.512671  147000.000000\n",
       "...                        ...            ...\n",
       "28.0              83277.489795   79873.546512\n",
       "28.6              85191.334598   85191.334598\n",
       "28.8              79890.310786   79890.310786\n",
       "29.3              65235.234249   65235.234249\n",
       "29.5              56976.744186   56976.744186\n",
       "\n",
       "[253 rows x 2 columns]"
      ]
     },
     "execution_count": 57,
     "metadata": {},
     "output_type": "execute_result"
    }
   ],
   "source": [
    "pivot_table = data_only_spb.pivot_table(index='km_to_center', values='price_per_m', aggfunc=['mean', 'median']).sort_index()\n",
    "pivot_table.columns = ['Среднее значение', 'Медиана']\n",
    "pivot_table"
   ]
  },
  {
   "cell_type": "code",
   "execution_count": 58,
   "metadata": {},
   "outputs": [
    {
     "data": {
      "image/png": "[encoded data removed]",
      "text/plain": [
       "<Figure size 1224x432 with 1 Axes>"
      ]
     },
     "metadata": {
      "needs_background": "light"
     },
     "output_type": "display_data"
    }
   ],
   "source": [
    "plt.figure(figsize=(17, 6))\n",
    "plt.plot(pivot_table.index, pivot_table['Среднее значение'])\n",
    "plt.plot(pivot_table.index, pivot_table['Медиана'])\n",
    "plt.grid(True)\n",
    "plt.show()"
   ]
  },
  {
   "cell_type": "markdown",
   "metadata": {},
   "source": [
    "Как мы можем видеть, есть зависимость между ценой и расстоянием. Однако есть просадка в значении 3. "
   ]
  },
  {
   "cell_type": "markdown",
   "metadata": {},
   "source": [
    "### Общий вывод"
   ]
  },
  {
   "cell_type": "markdown",
   "metadata": {},
   "source": [
    "ЦЕЛИ ПРОЕКТА:\n",
    "\n",
    "Автоматизировать выявление зависимостей между десятками параметров и стоимостью недвижимости в Санкт-Петербурге и Ленобласти, сочетая при этом два вида полученных данных: 1) данные, полученные и введенные вручную специалистами. 2) данные, которые были получены облачными геосервисами без участия человека. Помимо установления зависимостей нам было важно определить насколько хорошо справляются оба источника информации со своей работой. \n",
    "\n",
    "РАБОТА НАД ПРОЕКТОМ: \n",
    "1. Изучение данных: Первым шагом в проекте является изучение данных в датафрейме. Это включает в себя ознакомление с структурой данных, выявление основных переменных (столбцов) и их типов, а также определение наличия пропущенных значений и выбросов.\n",
    "\n",
    "2. Подготовка данных: Произведение необходимых манипуляций с данными, таких как обработка пропущенных значений, удаление дубликатов, преобразование данных в удобные форматы (например, даты), создание новых признаков (например, цена за квадратный метр).\n",
    "\n",
    "3. Исследовательский анализ данных (EDA): Анализ основных статистических характеристик данных, построение графиков и визуализаций для выявления паттернов и зависимостей. Это включает в себя анализ стоимости квартир, их площади, этажности, удаленности от центра и других параметров.\n",
    "\n",
    "4. Изучение влияния факторов: Анализ влияния различных факторов (например, близость к паркам) на стоимость квартир с использованием корреляций и прочего.\n",
    "\n",
    "5. Выводы и рекомендации: Сформулирование обобщенных выводов на основе анализа данных и предложение рекомендаций для потенциальных покупателей и продавцов недвижимости. Например, выявление наиболее привлекательных районов (населенных пунктов) или определение факторов, влияющих на стоимость квартир.\n",
    "\n",
    "ИТОГ ИССЛЕДОВАТЕЛЬСКОГО ПРОЕКТА:\n",
    "\n",
    "Результаты исследования помогут лучше понять рынок недвижимости в Санкт-Петербурге и области, выявить факторы, влияющие на стоимость квартир, и предоставить ценную информацию для принятия решений как потенциальными покупателями, так и продавцами. Проект также может служить основой для дальнейших аналитических исследований в сфере недвижимости."
   ]
  }
 ],
 "metadata": {
  "ExecuteTimeLog": [
   {
    "duration": 720,
    "start_time": "2023-09-04T08:57:15.393Z"
   },
   {
    "duration": 425,
    "start_time": "2023-09-04T08:57:34.300Z"
   },
   {
    "duration": 127,
    "start_time": "2023-09-04T08:57:44.717Z"
   },
   {
    "duration": 15,
    "start_time": "2023-09-04T08:59:42.296Z"
   },
   {
    "duration": 13,
    "start_time": "2023-09-04T08:59:50.222Z"
   },
   {
    "duration": 114,
    "start_time": "2023-09-04T08:59:56.055Z"
   },
   {
    "duration": 113,
    "start_time": "2023-09-04T08:59:59.260Z"
   },
   {
    "duration": 1896,
    "start_time": "2023-09-04T09:00:44.988Z"
   },
   {
    "duration": 2252,
    "start_time": "2023-09-04T09:01:26.273Z"
   },
   {
    "duration": 2171,
    "start_time": "2023-09-04T09:02:11.184Z"
   },
   {
    "duration": 2017,
    "start_time": "2023-09-04T09:02:17.948Z"
   },
   {
    "duration": 77,
    "start_time": "2023-09-04T09:05:24.804Z"
   },
   {
    "duration": 56,
    "start_time": "2023-09-04T09:05:28.381Z"
   },
   {
    "duration": 36,
    "start_time": "2023-09-04T09:05:40.803Z"
   },
   {
    "duration": 11,
    "start_time": "2023-09-04T09:06:06.892Z"
   },
   {
    "duration": 5,
    "start_time": "2023-09-04T09:09:44.720Z"
   },
   {
    "duration": 6,
    "start_time": "2023-09-04T09:09:49.200Z"
   },
   {
    "duration": 8,
    "start_time": "2023-09-04T09:09:57.150Z"
   },
   {
    "duration": 6,
    "start_time": "2023-09-04T09:10:09.437Z"
   },
   {
    "duration": 5,
    "start_time": "2023-09-04T09:10:13.165Z"
   },
   {
    "duration": 8,
    "start_time": "2023-09-04T09:10:19.521Z"
   },
   {
    "duration": 9,
    "start_time": "2023-09-04T09:10:21.865Z"
   },
   {
    "duration": 5,
    "start_time": "2023-09-04T09:10:25.400Z"
   },
   {
    "duration": 4,
    "start_time": "2023-09-04T09:10:34.931Z"
   },
   {
    "duration": 6,
    "start_time": "2023-09-04T09:15:26.762Z"
   },
   {
    "duration": 38,
    "start_time": "2023-09-04T09:15:38.399Z"
   },
   {
    "duration": 71,
    "start_time": "2023-09-04T09:16:02.063Z"
   },
   {
    "duration": 59,
    "start_time": "2023-09-04T09:16:51.935Z"
   },
   {
    "duration": 1947,
    "start_time": "2023-09-04T09:18:14.042Z"
   },
   {
    "duration": 1143,
    "start_time": "2023-09-04T12:58:44.862Z"
   },
   {
    "duration": 16,
    "start_time": "2023-09-04T12:58:48.955Z"
   },
   {
    "duration": 2490,
    "start_time": "2023-09-04T12:58:49.529Z"
   },
   {
    "duration": 10,
    "start_time": "2023-09-04T12:58:52.021Z"
   },
   {
    "duration": 69,
    "start_time": "2023-09-04T12:58:56.508Z"
   },
   {
    "duration": 15,
    "start_time": "2023-09-04T12:59:20.972Z"
   },
   {
    "duration": 18,
    "start_time": "2023-09-04T12:59:28.300Z"
   },
   {
    "duration": 19,
    "start_time": "2023-09-04T13:00:09.357Z"
   },
   {
    "duration": 11,
    "start_time": "2023-09-04T13:00:45.399Z"
   },
   {
    "duration": 12,
    "start_time": "2023-09-04T13:01:08.131Z"
   },
   {
    "duration": 30,
    "start_time": "2023-09-04T13:03:11.714Z"
   },
   {
    "duration": 17,
    "start_time": "2023-09-04T13:03:31.318Z"
   },
   {
    "duration": 87,
    "start_time": "2023-09-04T13:07:29.818Z"
   },
   {
    "duration": 5,
    "start_time": "2023-09-04T13:07:32.181Z"
   },
   {
    "duration": 13,
    "start_time": "2023-09-04T13:18:12.449Z"
   },
   {
    "duration": 9,
    "start_time": "2023-09-04T13:18:19.300Z"
   },
   {
    "duration": 1573,
    "start_time": "2023-09-04T13:18:34.116Z"
   },
   {
    "duration": 11,
    "start_time": "2023-09-04T13:20:16.879Z"
   },
   {
    "duration": 9,
    "start_time": "2023-09-04T13:21:33.856Z"
   },
   {
    "duration": 43,
    "start_time": "2023-09-04T13:21:38.230Z"
   },
   {
    "duration": 6,
    "start_time": "2023-09-04T13:22:17.279Z"
   },
   {
    "duration": 5,
    "start_time": "2023-09-04T13:22:34.757Z"
   },
   {
    "duration": 5,
    "start_time": "2023-09-04T13:23:03.457Z"
   },
   {
    "duration": 4,
    "start_time": "2023-09-04T13:23:11.229Z"
   },
   {
    "duration": 4,
    "start_time": "2023-09-04T13:23:20.335Z"
   },
   {
    "duration": 5,
    "start_time": "2023-09-04T13:23:47.725Z"
   },
   {
    "duration": 6,
    "start_time": "2023-09-04T13:24:00.826Z"
   },
   {
    "duration": 7,
    "start_time": "2023-09-04T13:24:10.088Z"
   },
   {
    "duration": 7,
    "start_time": "2023-09-04T13:24:16.842Z"
   },
   {
    "duration": 7,
    "start_time": "2023-09-04T13:25:09.758Z"
   },
   {
    "duration": 10,
    "start_time": "2023-09-04T13:25:14.019Z"
   },
   {
    "duration": 18,
    "start_time": "2023-09-04T13:25:22.903Z"
   },
   {
    "duration": 4,
    "start_time": "2023-09-04T13:25:58.370Z"
   },
   {
    "duration": 14,
    "start_time": "2023-09-04T13:26:08.675Z"
   },
   {
    "duration": 8,
    "start_time": "2023-09-04T13:26:21.665Z"
   },
   {
    "duration": 9,
    "start_time": "2023-09-04T13:26:51.865Z"
   },
   {
    "duration": 6,
    "start_time": "2023-09-04T13:28:05.347Z"
   },
   {
    "duration": 16,
    "start_time": "2023-09-04T13:28:24.851Z"
   },
   {
    "duration": 6,
    "start_time": "2023-09-04T13:28:31.800Z"
   },
   {
    "duration": 8,
    "start_time": "2023-09-04T13:28:37.764Z"
   },
   {
    "duration": 5,
    "start_time": "2023-09-04T13:28:38.923Z"
   },
   {
    "duration": 5,
    "start_time": "2023-09-04T13:29:05.476Z"
   },
   {
    "duration": 10,
    "start_time": "2023-09-04T13:29:13.999Z"
   },
   {
    "duration": 11,
    "start_time": "2023-09-04T13:29:25.912Z"
   },
   {
    "duration": 5,
    "start_time": "2023-09-04T13:29:27.335Z"
   },
   {
    "duration": 5,
    "start_time": "2023-09-04T13:29:40.060Z"
   },
   {
    "duration": 6,
    "start_time": "2023-09-04T13:30:11.024Z"
   },
   {
    "duration": 9,
    "start_time": "2023-09-04T13:30:24.609Z"
   },
   {
    "duration": 20,
    "start_time": "2023-09-04T13:30:41.801Z"
   },
   {
    "duration": 11,
    "start_time": "2023-09-04T13:30:42.830Z"
   },
   {
    "duration": 13,
    "start_time": "2023-09-04T13:30:45.325Z"
   },
   {
    "duration": 5,
    "start_time": "2023-09-04T13:30:49.059Z"
   },
   {
    "duration": 36,
    "start_time": "2023-09-04T13:30:50.236Z"
   },
   {
    "duration": 5,
    "start_time": "2023-09-04T13:30:50.756Z"
   },
   {
    "duration": 4,
    "start_time": "2023-09-04T13:30:51.247Z"
   },
   {
    "duration": 5,
    "start_time": "2023-09-04T13:30:51.684Z"
   },
   {
    "duration": 8,
    "start_time": "2023-09-04T13:30:52.188Z"
   },
   {
    "duration": 7,
    "start_time": "2023-09-04T13:30:52.711Z"
   },
   {
    "duration": 134,
    "start_time": "2023-09-04T13:32:26.489Z"
   },
   {
    "duration": 16,
    "start_time": "2023-09-04T13:32:27.416Z"
   },
   {
    "duration": 2053,
    "start_time": "2023-09-04T13:32:28.003Z"
   },
   {
    "duration": 12,
    "start_time": "2023-09-04T13:32:30.058Z"
   },
   {
    "duration": 14,
    "start_time": "2023-09-04T13:32:32.866Z"
   },
   {
    "duration": 9,
    "start_time": "2023-09-04T13:32:33.634Z"
   },
   {
    "duration": 10,
    "start_time": "2023-09-04T13:32:34.269Z"
   },
   {
    "duration": 6,
    "start_time": "2023-09-04T13:32:36.092Z"
   },
   {
    "duration": 32,
    "start_time": "2023-09-04T13:32:37.156Z"
   },
   {
    "duration": 6,
    "start_time": "2023-09-04T13:32:37.681Z"
   },
   {
    "duration": 9,
    "start_time": "2023-09-04T13:32:38.137Z"
   },
   {
    "duration": 6,
    "start_time": "2023-09-04T13:32:39.991Z"
   },
   {
    "duration": 6,
    "start_time": "2023-09-04T13:32:42.308Z"
   },
   {
    "duration": 7,
    "start_time": "2023-09-04T13:32:52.512Z"
   },
   {
    "duration": 5,
    "start_time": "2023-09-04T13:34:07.064Z"
   },
   {
    "duration": 6,
    "start_time": "2023-09-04T13:34:13.536Z"
   },
   {
    "duration": 14,
    "start_time": "2023-09-04T13:35:56.960Z"
   },
   {
    "duration": 7,
    "start_time": "2023-09-04T13:35:57.348Z"
   },
   {
    "duration": 13,
    "start_time": "2023-09-04T13:36:20.167Z"
   },
   {
    "duration": 10,
    "start_time": "2023-09-04T13:36:35.004Z"
   },
   {
    "duration": 4,
    "start_time": "2023-09-04T13:36:59.737Z"
   },
   {
    "duration": 19,
    "start_time": "2023-09-04T13:37:00.268Z"
   },
   {
    "duration": 4,
    "start_time": "2023-09-04T13:37:06.915Z"
   },
   {
    "duration": 7,
    "start_time": "2023-09-04T13:38:14.030Z"
   },
   {
    "duration": 4,
    "start_time": "2023-09-04T13:38:17.527Z"
   },
   {
    "duration": 8,
    "start_time": "2023-09-04T13:38:25.240Z"
   },
   {
    "duration": 5,
    "start_time": "2023-09-04T13:38:55.538Z"
   },
   {
    "duration": 4,
    "start_time": "2023-09-04T13:38:55.848Z"
   },
   {
    "duration": 8,
    "start_time": "2023-09-04T13:38:56.216Z"
   },
   {
    "duration": 7,
    "start_time": "2023-09-04T13:38:56.632Z"
   },
   {
    "duration": 20,
    "start_time": "2023-09-04T13:42:21.621Z"
   },
   {
    "duration": 5,
    "start_time": "2023-09-04T13:43:26.965Z"
   },
   {
    "duration": 5,
    "start_time": "2023-09-04T13:43:34.206Z"
   },
   {
    "duration": 9,
    "start_time": "2023-09-04T13:43:37.340Z"
   },
   {
    "duration": 5,
    "start_time": "2023-09-04T13:43:39.819Z"
   },
   {
    "duration": 6,
    "start_time": "2023-09-04T13:43:47.375Z"
   },
   {
    "duration": 8,
    "start_time": "2023-09-04T13:44:11.854Z"
   },
   {
    "duration": 9,
    "start_time": "2023-09-04T13:46:31.618Z"
   },
   {
    "duration": 6,
    "start_time": "2023-09-04T13:46:38.262Z"
   },
   {
    "duration": 12,
    "start_time": "2023-09-04T13:54:44.804Z"
   },
   {
    "duration": 19,
    "start_time": "2023-09-04T13:55:01.774Z"
   },
   {
    "duration": 6,
    "start_time": "2023-09-04T13:55:11.531Z"
   },
   {
    "duration": 625,
    "start_time": "2023-09-06T06:41:53.558Z"
   },
   {
    "duration": 16,
    "start_time": "2023-09-06T06:41:55.554Z"
   },
   {
    "duration": 2375,
    "start_time": "2023-09-06T06:41:56.230Z"
   },
   {
    "duration": 11,
    "start_time": "2023-09-06T06:41:58.607Z"
   },
   {
    "duration": 12,
    "start_time": "2023-09-06T06:42:04.177Z"
   },
   {
    "duration": 10,
    "start_time": "2023-09-06T06:42:04.782Z"
   },
   {
    "duration": 11,
    "start_time": "2023-09-06T06:42:05.354Z"
   },
   {
    "duration": 6,
    "start_time": "2023-09-06T06:42:08.613Z"
   },
   {
    "duration": 31,
    "start_time": "2023-09-06T06:42:09.458Z"
   },
   {
    "duration": 6,
    "start_time": "2023-09-06T06:42:09.744Z"
   },
   {
    "duration": 11,
    "start_time": "2023-09-06T06:42:09.918Z"
   },
   {
    "duration": 5,
    "start_time": "2023-09-06T06:42:10.227Z"
   },
   {
    "duration": 18,
    "start_time": "2023-09-06T06:42:10.518Z"
   },
   {
    "duration": 10,
    "start_time": "2023-09-06T06:42:10.768Z"
   },
   {
    "duration": 6,
    "start_time": "2023-09-06T06:42:11.192Z"
   },
   {
    "duration": 6,
    "start_time": "2023-09-06T06:42:11.513Z"
   },
   {
    "duration": 23,
    "start_time": "2023-09-06T06:42:14.700Z"
   },
   {
    "duration": 5,
    "start_time": "2023-09-06T06:42:14.898Z"
   },
   {
    "duration": 7,
    "start_time": "2023-09-06T06:42:15.062Z"
   },
   {
    "duration": 7,
    "start_time": "2023-09-06T06:42:15.245Z"
   },
   {
    "duration": 156,
    "start_time": "2023-09-06T06:42:15.561Z"
   },
   {
    "duration": 8,
    "start_time": "2023-09-06T06:42:16.102Z"
   },
   {
    "duration": 50,
    "start_time": "2023-09-06T08:34:03.545Z"
   },
   {
    "duration": 835,
    "start_time": "2023-09-06T08:34:09.634Z"
   },
   {
    "duration": 17,
    "start_time": "2023-09-06T08:34:10.471Z"
   },
   {
    "duration": 2848,
    "start_time": "2023-09-06T08:34:10.591Z"
   },
   {
    "duration": 11,
    "start_time": "2023-09-06T08:34:13.441Z"
   },
   {
    "duration": 41,
    "start_time": "2023-09-06T08:34:13.453Z"
   },
   {
    "duration": 48,
    "start_time": "2023-09-06T08:34:13.495Z"
   },
   {
    "duration": 33,
    "start_time": "2023-09-06T08:34:13.544Z"
   },
   {
    "duration": 59,
    "start_time": "2023-09-06T08:34:13.579Z"
   },
   {
    "duration": 48,
    "start_time": "2023-09-06T08:34:13.640Z"
   },
   {
    "duration": 30,
    "start_time": "2023-09-06T08:34:13.690Z"
   },
   {
    "duration": 14,
    "start_time": "2023-09-06T08:34:13.722Z"
   },
   {
    "duration": 5,
    "start_time": "2023-09-06T08:34:13.748Z"
   },
   {
    "duration": 19,
    "start_time": "2023-09-06T08:34:14.094Z"
   },
   {
    "duration": 21,
    "start_time": "2023-09-06T08:34:14.689Z"
   },
   {
    "duration": 7,
    "start_time": "2023-09-06T08:34:14.969Z"
   },
   {
    "duration": 8,
    "start_time": "2023-09-06T08:34:15.294Z"
   },
   {
    "duration": 26,
    "start_time": "2023-09-06T08:34:16.743Z"
   },
   {
    "duration": 5,
    "start_time": "2023-09-06T08:34:16.915Z"
   },
   {
    "duration": 8,
    "start_time": "2023-09-06T08:34:17.065Z"
   },
   {
    "duration": 7,
    "start_time": "2023-09-06T08:34:17.393Z"
   },
   {
    "duration": 175,
    "start_time": "2023-09-06T08:34:17.550Z"
   },
   {
    "duration": 8,
    "start_time": "2023-09-06T08:34:18.118Z"
   },
   {
    "duration": 16,
    "start_time": "2023-09-06T08:34:19.918Z"
   },
   {
    "duration": 196,
    "start_time": "2023-09-06T08:36:23.333Z"
   },
   {
    "duration": 121,
    "start_time": "2023-09-06T08:36:43.486Z"
   },
   {
    "duration": 143,
    "start_time": "2023-09-06T08:37:08.443Z"
   },
   {
    "duration": 147,
    "start_time": "2023-09-06T08:37:32.186Z"
   },
   {
    "duration": 144,
    "start_time": "2023-09-06T08:38:03.726Z"
   },
   {
    "duration": 212,
    "start_time": "2023-09-06T08:38:25.142Z"
   },
   {
    "duration": 123,
    "start_time": "2023-09-06T08:38:38.119Z"
   },
   {
    "duration": 146,
    "start_time": "2023-09-06T08:41:00.762Z"
   },
   {
    "duration": 136,
    "start_time": "2023-09-06T08:41:27.875Z"
   },
   {
    "duration": 583,
    "start_time": "2023-09-06T08:44:07.605Z"
   },
   {
    "duration": 819,
    "start_time": "2023-09-06T08:44:42.922Z"
   },
   {
    "duration": 632,
    "start_time": "2023-09-06T08:44:59.386Z"
   },
   {
    "duration": 701,
    "start_time": "2023-09-06T08:45:35.465Z"
   },
   {
    "duration": 613,
    "start_time": "2023-09-06T08:45:55.536Z"
   },
   {
    "duration": 142,
    "start_time": "2023-09-06T08:46:16.037Z"
   },
   {
    "duration": 121,
    "start_time": "2023-09-06T08:46:59.904Z"
   },
   {
    "duration": 150,
    "start_time": "2023-09-06T08:47:53.703Z"
   },
   {
    "duration": 149,
    "start_time": "2023-09-06T08:48:31.773Z"
   },
   {
    "duration": 5,
    "start_time": "2023-09-06T08:51:51.883Z"
   },
   {
    "duration": 6,
    "start_time": "2023-09-06T08:51:58.801Z"
   },
   {
    "duration": 9,
    "start_time": "2023-09-06T08:55:34.500Z"
   },
   {
    "duration": 6,
    "start_time": "2023-09-06T08:55:43.285Z"
   },
   {
    "duration": 5,
    "start_time": "2023-09-06T08:55:59.435Z"
   },
   {
    "duration": 6,
    "start_time": "2023-09-06T08:56:00.058Z"
   },
   {
    "duration": 6,
    "start_time": "2023-09-06T08:56:00.884Z"
   },
   {
    "duration": 5,
    "start_time": "2023-09-06T08:56:14.732Z"
   },
   {
    "duration": 5,
    "start_time": "2023-09-06T08:56:15.245Z"
   },
   {
    "duration": 6,
    "start_time": "2023-09-06T08:56:16.218Z"
   },
   {
    "duration": 9,
    "start_time": "2023-09-06T08:56:24.748Z"
   },
   {
    "duration": 6,
    "start_time": "2023-09-06T08:56:25.686Z"
   },
   {
    "duration": 7,
    "start_time": "2023-09-06T08:56:26.304Z"
   },
   {
    "duration": 20,
    "start_time": "2023-09-06T08:57:30.783Z"
   },
   {
    "duration": 145,
    "start_time": "2023-09-06T08:57:45.644Z"
   },
   {
    "duration": 18,
    "start_time": "2023-09-06T08:57:45.987Z"
   },
   {
    "duration": 2234,
    "start_time": "2023-09-06T08:57:46.144Z"
   },
   {
    "duration": 26,
    "start_time": "2023-09-06T08:57:48.381Z"
   },
   {
    "duration": 34,
    "start_time": "2023-09-06T08:57:48.409Z"
   },
   {
    "duration": 18,
    "start_time": "2023-09-06T08:57:48.445Z"
   },
   {
    "duration": 17,
    "start_time": "2023-09-06T08:57:48.503Z"
   },
   {
    "duration": 8,
    "start_time": "2023-09-06T08:57:49.663Z"
   },
   {
    "duration": 49,
    "start_time": "2023-09-06T08:57:50.524Z"
   },
   {
    "duration": 6,
    "start_time": "2023-09-06T08:57:50.767Z"
   },
   {
    "duration": 14,
    "start_time": "2023-09-06T08:57:51.028Z"
   },
   {
    "duration": 5,
    "start_time": "2023-09-06T08:57:51.266Z"
   },
   {
    "duration": 10,
    "start_time": "2023-09-06T08:57:51.613Z"
   },
   {
    "duration": 10,
    "start_time": "2023-09-06T08:57:51.967Z"
   },
   {
    "duration": 7,
    "start_time": "2023-09-06T08:57:52.317Z"
   },
   {
    "duration": 7,
    "start_time": "2023-09-06T08:57:52.582Z"
   },
   {
    "duration": 34,
    "start_time": "2023-09-06T08:57:53.759Z"
   },
   {
    "duration": 6,
    "start_time": "2023-09-06T08:57:54.046Z"
   },
   {
    "duration": 9,
    "start_time": "2023-09-06T08:57:54.338Z"
   },
   {
    "duration": 9,
    "start_time": "2023-09-06T08:57:54.674Z"
   },
   {
    "duration": 193,
    "start_time": "2023-09-06T08:57:54.915Z"
   },
   {
    "duration": 11,
    "start_time": "2023-09-06T08:57:55.226Z"
   },
   {
    "duration": 16,
    "start_time": "2023-09-06T08:57:56.972Z"
   },
   {
    "duration": 6,
    "start_time": "2023-09-06T08:58:00.961Z"
   },
   {
    "duration": 8,
    "start_time": "2023-09-06T08:58:01.661Z"
   },
   {
    "duration": 185,
    "start_time": "2023-09-06T08:58:03.746Z"
   },
   {
    "duration": 48,
    "start_time": "2023-09-06T08:58:08.687Z"
   },
   {
    "duration": 38,
    "start_time": "2023-09-06T08:58:31.006Z"
   },
   {
    "duration": 10,
    "start_time": "2023-09-06T08:59:00.577Z"
   },
   {
    "duration": 6,
    "start_time": "2023-09-06T08:59:01.117Z"
   },
   {
    "duration": 6,
    "start_time": "2023-09-06T08:59:02.734Z"
   },
   {
    "duration": 7,
    "start_time": "2023-09-06T08:59:14.631Z"
   },
   {
    "duration": 5,
    "start_time": "2023-09-06T08:59:15.212Z"
   },
   {
    "duration": 6,
    "start_time": "2023-09-06T08:59:16.118Z"
   },
   {
    "duration": 47,
    "start_time": "2023-09-06T08:59:20.967Z"
   },
   {
    "duration": 9,
    "start_time": "2023-09-06T09:01:57.516Z"
   },
   {
    "duration": 5,
    "start_time": "2023-09-06T09:01:57.969Z"
   },
   {
    "duration": 6,
    "start_time": "2023-09-06T09:01:58.871Z"
   },
   {
    "duration": 6,
    "start_time": "2023-09-06T09:02:03.992Z"
   },
   {
    "duration": 5,
    "start_time": "2023-09-06T09:02:04.573Z"
   },
   {
    "duration": 5,
    "start_time": "2023-09-06T09:02:05.231Z"
   },
   {
    "duration": 133,
    "start_time": "2023-09-06T09:02:09.180Z"
   },
   {
    "duration": 140,
    "start_time": "2023-09-06T09:02:38.440Z"
   },
   {
    "duration": 6,
    "start_time": "2023-09-06T09:03:53.912Z"
   },
   {
    "duration": 120,
    "start_time": "2023-09-06T09:03:56.472Z"
   },
   {
    "duration": 6,
    "start_time": "2023-09-06T09:03:58.198Z"
   },
   {
    "duration": 121,
    "start_time": "2023-09-06T09:03:59.633Z"
   },
   {
    "duration": 142,
    "start_time": "2023-09-06T09:04:48.181Z"
   },
   {
    "duration": 17,
    "start_time": "2023-09-06T09:04:48.505Z"
   },
   {
    "duration": 2193,
    "start_time": "2023-09-06T09:04:48.668Z"
   },
   {
    "duration": 10,
    "start_time": "2023-09-06T09:04:50.863Z"
   },
   {
    "duration": 44,
    "start_time": "2023-09-06T09:04:50.875Z"
   },
   {
    "duration": 22,
    "start_time": "2023-09-06T09:04:50.921Z"
   },
   {
    "duration": 28,
    "start_time": "2023-09-06T09:04:50.945Z"
   },
   {
    "duration": 86,
    "start_time": "2023-09-06T09:04:50.975Z"
   },
   {
    "duration": 73,
    "start_time": "2023-09-06T09:04:51.063Z"
   },
   {
    "duration": 55,
    "start_time": "2023-09-06T09:04:51.137Z"
   },
   {
    "duration": 133,
    "start_time": "2023-09-06T09:04:51.195Z"
   },
   {
    "duration": 175,
    "start_time": "2023-09-06T09:04:51.330Z"
   },
   {
    "duration": 67,
    "start_time": "2023-09-06T09:04:51.507Z"
   },
   {
    "duration": 42,
    "start_time": "2023-09-06T09:04:51.576Z"
   },
   {
    "duration": 18,
    "start_time": "2023-09-06T09:04:51.620Z"
   },
   {
    "duration": 6,
    "start_time": "2023-09-06T09:04:51.766Z"
   },
   {
    "duration": 21,
    "start_time": "2023-09-06T09:04:52.392Z"
   },
   {
    "duration": 6,
    "start_time": "2023-09-06T09:04:52.577Z"
   },
   {
    "duration": 7,
    "start_time": "2023-09-06T09:04:52.733Z"
   },
   {
    "duration": 7,
    "start_time": "2023-09-06T09:04:52.897Z"
   },
   {
    "duration": 161,
    "start_time": "2023-09-06T09:04:53.234Z"
   },
   {
    "duration": 9,
    "start_time": "2023-09-06T09:04:53.429Z"
   },
   {
    "duration": 15,
    "start_time": "2023-09-06T09:04:54.061Z"
   },
   {
    "duration": 5,
    "start_time": "2023-09-06T09:04:54.814Z"
   },
   {
    "duration": 6,
    "start_time": "2023-09-06T09:04:55.301Z"
   },
   {
    "duration": 150,
    "start_time": "2023-09-06T09:04:55.485Z"
   },
   {
    "duration": 7,
    "start_time": "2023-09-06T09:05:00.973Z"
   },
   {
    "duration": 6,
    "start_time": "2023-09-06T09:05:01.764Z"
   },
   {
    "duration": 7,
    "start_time": "2023-09-06T09:05:02.518Z"
   },
   {
    "duration": 134,
    "start_time": "2023-09-06T09:05:08.340Z"
   },
   {
    "duration": 114,
    "start_time": "2023-09-06T09:05:15.644Z"
   },
   {
    "duration": 5,
    "start_time": "2023-09-06T09:05:17.462Z"
   },
   {
    "duration": 5,
    "start_time": "2023-09-06T09:05:18.294Z"
   },
   {
    "duration": 6,
    "start_time": "2023-09-06T09:05:20.719Z"
   },
   {
    "duration": 5,
    "start_time": "2023-09-06T09:05:21.424Z"
   },
   {
    "duration": 5,
    "start_time": "2023-09-06T09:05:22.203Z"
   },
   {
    "duration": 131,
    "start_time": "2023-09-06T09:05:26.001Z"
   },
   {
    "duration": 5,
    "start_time": "2023-09-06T09:09:05.919Z"
   },
   {
    "duration": 6,
    "start_time": "2023-09-06T09:09:06.854Z"
   },
   {
    "duration": 134,
    "start_time": "2023-09-06T09:10:20.449Z"
   },
   {
    "duration": 5,
    "start_time": "2023-09-06T09:10:21.258Z"
   },
   {
    "duration": 5,
    "start_time": "2023-09-06T09:10:21.879Z"
   },
   {
    "duration": 557,
    "start_time": "2023-09-06T09:11:40.208Z"
   },
   {
    "duration": 133,
    "start_time": "2023-09-06T09:14:54.188Z"
   },
   {
    "duration": 126,
    "start_time": "2023-09-06T09:15:21.803Z"
   },
   {
    "duration": 5,
    "start_time": "2023-09-06T09:15:22.671Z"
   },
   {
    "duration": 11,
    "start_time": "2023-09-06T09:15:23.305Z"
   },
   {
    "duration": 6,
    "start_time": "2023-09-06T09:15:28.265Z"
   },
   {
    "duration": 6,
    "start_time": "2023-09-06T09:16:41.757Z"
   },
   {
    "duration": 5,
    "start_time": "2023-09-06T09:16:51.587Z"
   },
   {
    "duration": 7,
    "start_time": "2023-09-06T09:16:52.273Z"
   },
   {
    "duration": 470,
    "start_time": "2023-09-06T09:20:26.268Z"
   },
   {
    "duration": 132,
    "start_time": "2023-09-06T09:20:36.882Z"
   },
   {
    "duration": 131,
    "start_time": "2023-09-06T09:20:45.904Z"
   },
   {
    "duration": 6,
    "start_time": "2023-09-06T09:21:11.083Z"
   },
   {
    "duration": 118,
    "start_time": "2023-09-06T09:21:16.118Z"
   },
   {
    "duration": 5,
    "start_time": "2023-09-06T09:21:16.993Z"
   },
   {
    "duration": 7,
    "start_time": "2023-09-06T09:21:17.658Z"
   },
   {
    "duration": 5,
    "start_time": "2023-09-06T09:21:27.339Z"
   },
   {
    "duration": 7,
    "start_time": "2023-09-06T09:21:27.859Z"
   },
   {
    "duration": 6,
    "start_time": "2023-09-06T09:21:58.733Z"
   },
   {
    "duration": 6,
    "start_time": "2023-09-06T09:21:59.182Z"
   },
   {
    "duration": 6,
    "start_time": "2023-09-06T09:22:00.083Z"
   },
   {
    "duration": 132,
    "start_time": "2023-09-06T09:22:25.174Z"
   },
   {
    "duration": 424,
    "start_time": "2023-09-06T09:25:09.461Z"
   },
   {
    "duration": 4,
    "start_time": "2023-09-06T09:27:17.322Z"
   },
   {
    "duration": 5,
    "start_time": "2023-09-06T09:27:18.587Z"
   },
   {
    "duration": 5,
    "start_time": "2023-09-06T09:27:24.698Z"
   },
   {
    "duration": 2,
    "start_time": "2023-09-06T09:27:45.859Z"
   },
   {
    "duration": 5,
    "start_time": "2023-09-06T09:28:11.858Z"
   },
   {
    "duration": 5,
    "start_time": "2023-09-06T09:28:12.450Z"
   },
   {
    "duration": 7,
    "start_time": "2023-09-06T09:28:37.368Z"
   },
   {
    "duration": 7,
    "start_time": "2023-09-06T09:28:44.571Z"
   },
   {
    "duration": 6,
    "start_time": "2023-09-06T09:28:44.997Z"
   },
   {
    "duration": 5,
    "start_time": "2023-09-06T09:28:45.342Z"
   },
   {
    "duration": 31,
    "start_time": "2023-09-06T09:29:46.907Z"
   },
   {
    "duration": 35,
    "start_time": "2023-09-06T09:30:11.321Z"
   },
   {
    "duration": 4,
    "start_time": "2023-09-06T09:33:31.920Z"
   },
   {
    "duration": 5,
    "start_time": "2023-09-06T09:33:32.219Z"
   },
   {
    "duration": 5,
    "start_time": "2023-09-06T09:33:32.909Z"
   },
   {
    "duration": 5,
    "start_time": "2023-09-06T09:33:33.615Z"
   },
   {
    "duration": 5,
    "start_time": "2023-09-06T09:33:34.135Z"
   },
   {
    "duration": 5,
    "start_time": "2023-09-06T09:51:04.054Z"
   },
   {
    "duration": 6,
    "start_time": "2023-09-06T09:51:04.622Z"
   },
   {
    "duration": 6,
    "start_time": "2023-09-06T09:51:12.933Z"
   },
   {
    "duration": 5,
    "start_time": "2023-09-06T09:51:13.309Z"
   },
   {
    "duration": 5,
    "start_time": "2023-09-06T09:51:14.260Z"
   },
   {
    "duration": 7,
    "start_time": "2023-09-06T09:51:14.783Z"
   },
   {
    "duration": 5,
    "start_time": "2023-09-06T09:51:15.320Z"
   },
   {
    "duration": 130,
    "start_time": "2023-09-06T09:51:28.892Z"
   },
   {
    "duration": 15,
    "start_time": "2023-09-06T09:51:29.169Z"
   },
   {
    "duration": 2267,
    "start_time": "2023-09-06T09:51:29.301Z"
   },
   {
    "duration": 13,
    "start_time": "2023-09-06T09:51:31.570Z"
   },
   {
    "duration": 39,
    "start_time": "2023-09-06T09:51:31.584Z"
   },
   {
    "duration": 33,
    "start_time": "2023-09-06T09:51:31.626Z"
   },
   {
    "duration": 31,
    "start_time": "2023-09-06T09:51:31.661Z"
   },
   {
    "duration": 26,
    "start_time": "2023-09-06T09:51:31.694Z"
   },
   {
    "duration": 70,
    "start_time": "2023-09-06T09:51:31.723Z"
   },
   {
    "duration": 6,
    "start_time": "2023-09-06T09:51:31.795Z"
   },
   {
    "duration": 49,
    "start_time": "2023-09-06T09:51:31.803Z"
   },
   {
    "duration": 13,
    "start_time": "2023-09-06T09:51:31.855Z"
   },
   {
    "duration": 37,
    "start_time": "2023-09-06T09:51:31.870Z"
   },
   {
    "duration": 50,
    "start_time": "2023-09-06T09:51:31.909Z"
   },
   {
    "duration": 44,
    "start_time": "2023-09-06T09:51:31.961Z"
   },
   {
    "duration": 29,
    "start_time": "2023-09-06T09:51:32.009Z"
   },
   {
    "duration": 33,
    "start_time": "2023-09-06T09:51:32.359Z"
   },
   {
    "duration": 6,
    "start_time": "2023-09-06T09:51:32.507Z"
   },
   {
    "duration": 8,
    "start_time": "2023-09-06T09:51:32.658Z"
   },
   {
    "duration": 7,
    "start_time": "2023-09-06T09:51:32.803Z"
   },
   {
    "duration": 182,
    "start_time": "2023-09-06T09:51:32.939Z"
   },
   {
    "duration": 9,
    "start_time": "2023-09-06T09:51:33.124Z"
   },
   {
    "duration": 17,
    "start_time": "2023-09-06T09:51:33.508Z"
   },
   {
    "duration": 4,
    "start_time": "2023-09-06T09:51:33.790Z"
   },
   {
    "duration": 5,
    "start_time": "2023-09-06T09:51:34.063Z"
   },
   {
    "duration": 192,
    "start_time": "2023-09-06T09:51:34.217Z"
   },
   {
    "duration": 8,
    "start_time": "2023-09-06T09:51:34.412Z"
   },
   {
    "duration": 6,
    "start_time": "2023-09-06T09:51:34.533Z"
   },
   {
    "duration": 7,
    "start_time": "2023-09-06T09:51:34.686Z"
   },
   {
    "duration": 121,
    "start_time": "2023-09-06T09:51:35.086Z"
   },
   {
    "duration": 5,
    "start_time": "2023-09-06T09:51:35.386Z"
   },
   {
    "duration": 6,
    "start_time": "2023-09-06T09:51:35.559Z"
   },
   {
    "duration": 145,
    "start_time": "2023-09-06T09:51:35.931Z"
   },
   {
    "duration": 5,
    "start_time": "2023-09-06T09:51:36.110Z"
   },
   {
    "duration": 6,
    "start_time": "2023-09-06T09:51:36.264Z"
   },
   {
    "duration": 133,
    "start_time": "2023-09-06T09:51:36.568Z"
   },
   {
    "duration": 6,
    "start_time": "2023-09-06T09:51:36.739Z"
   },
   {
    "duration": 50,
    "start_time": "2023-09-06T09:51:36.889Z"
   },
   {
    "duration": 148,
    "start_time": "2023-09-06T09:51:37.243Z"
   },
   {
    "duration": 7,
    "start_time": "2023-09-06T09:51:37.427Z"
   },
   {
    "duration": 8,
    "start_time": "2023-09-06T09:51:37.593Z"
   },
   {
    "duration": 7,
    "start_time": "2023-09-06T09:51:37.854Z"
   },
   {
    "duration": 5,
    "start_time": "2023-09-06T09:51:38.258Z"
   },
   {
    "duration": 540,
    "start_time": "2023-09-06T09:51:38.406Z"
   },
   {
    "duration": 979,
    "start_time": "2023-09-06T09:51:38.948Z"
   },
   {
    "duration": 267,
    "start_time": "2023-09-06T09:51:39.930Z"
   },
   {
    "duration": 157,
    "start_time": "2023-09-06T09:51:40.200Z"
   },
   {
    "duration": 139,
    "start_time": "2023-09-06T09:51:40.360Z"
   },
   {
    "duration": 48,
    "start_time": "2023-09-06T09:51:40.501Z"
   },
   {
    "duration": 26,
    "start_time": "2023-09-06T09:51:40.550Z"
   },
   {
    "duration": 47,
    "start_time": "2023-09-06T09:51:40.578Z"
   },
   {
    "duration": 29,
    "start_time": "2023-09-06T09:51:40.627Z"
   },
   {
    "duration": 59,
    "start_time": "2023-09-06T09:51:40.659Z"
   },
   {
    "duration": 59,
    "start_time": "2023-09-06T09:51:40.721Z"
   },
   {
    "duration": 55,
    "start_time": "2023-09-06T09:51:40.782Z"
   },
   {
    "duration": 54,
    "start_time": "2023-09-06T09:51:40.839Z"
   },
   {
    "duration": 184,
    "start_time": "2023-09-06T09:51:40.895Z"
   },
   {
    "duration": 51,
    "start_time": "2023-09-06T09:51:41.081Z"
   },
   {
    "duration": 24,
    "start_time": "2023-09-06T09:51:41.175Z"
   },
   {
    "duration": 6,
    "start_time": "2023-09-06T09:51:41.355Z"
   },
   {
    "duration": 9,
    "start_time": "2023-09-06T09:51:41.522Z"
   },
   {
    "duration": 5,
    "start_time": "2023-09-06T09:52:46.513Z"
   },
   {
    "duration": 1656,
    "start_time": "2023-09-06T09:52:47.081Z"
   },
   {
    "duration": 5,
    "start_time": "2023-09-06T09:52:51.196Z"
   },
   {
    "duration": 123,
    "start_time": "2023-09-06T09:53:06.678Z"
   },
   {
    "duration": 113,
    "start_time": "2023-09-06T09:53:33.363Z"
   },
   {
    "duration": 5,
    "start_time": "2023-09-06T09:53:34.158Z"
   },
   {
    "duration": 7,
    "start_time": "2023-09-06T09:53:34.703Z"
   },
   {
    "duration": 5,
    "start_time": "2023-09-06T09:53:35.384Z"
   },
   {
    "duration": 2,
    "start_time": "2023-09-06T09:53:58.264Z"
   },
   {
    "duration": 114,
    "start_time": "2023-09-06T09:54:26.055Z"
   },
   {
    "duration": 6,
    "start_time": "2023-09-06T09:55:11.171Z"
   },
   {
    "duration": 6,
    "start_time": "2023-09-06T09:55:11.493Z"
   },
   {
    "duration": 5,
    "start_time": "2023-09-06T09:55:12.013Z"
   },
   {
    "duration": 5,
    "start_time": "2023-09-06T09:55:12.449Z"
   },
   {
    "duration": 6,
    "start_time": "2023-09-06T09:55:12.980Z"
   },
   {
    "duration": 5,
    "start_time": "2023-09-06T09:56:55.473Z"
   },
   {
    "duration": 7,
    "start_time": "2023-09-06T09:56:56.165Z"
   },
   {
    "duration": 119,
    "start_time": "2023-09-06T09:56:56.991Z"
   },
   {
    "duration": 6,
    "start_time": "2023-09-06T09:56:59.930Z"
   },
   {
    "duration": 6,
    "start_time": "2023-09-06T09:57:00.515Z"
   },
   {
    "duration": 5,
    "start_time": "2023-09-06T09:57:18.371Z"
   },
   {
    "duration": 5,
    "start_time": "2023-09-06T09:57:18.820Z"
   },
   {
    "duration": 124,
    "start_time": "2023-09-06T09:57:19.288Z"
   },
   {
    "duration": 6,
    "start_time": "2023-09-06T09:57:20.222Z"
   },
   {
    "duration": 5,
    "start_time": "2023-09-06T09:57:20.908Z"
   },
   {
    "duration": 5,
    "start_time": "2023-09-06T09:57:21.708Z"
   },
   {
    "duration": 132,
    "start_time": "2023-09-06T09:57:45.975Z"
   },
   {
    "duration": 115,
    "start_time": "2023-09-06T09:58:07.586Z"
   },
   {
    "duration": 129,
    "start_time": "2023-09-06T09:58:17.274Z"
   },
   {
    "duration": 129,
    "start_time": "2023-09-06T09:58:23.978Z"
   },
   {
    "duration": 18,
    "start_time": "2023-09-06T09:58:24.110Z"
   },
   {
    "duration": 2395,
    "start_time": "2023-09-06T09:58:24.130Z"
   },
   {
    "duration": 11,
    "start_time": "2023-09-06T09:58:26.527Z"
   },
   {
    "duration": 31,
    "start_time": "2023-09-06T09:58:26.540Z"
   },
   {
    "duration": 35,
    "start_time": "2023-09-06T09:58:26.574Z"
   },
   {
    "duration": 30,
    "start_time": "2023-09-06T09:58:26.611Z"
   },
   {
    "duration": 16,
    "start_time": "2023-09-06T09:58:26.645Z"
   },
   {
    "duration": 36,
    "start_time": "2023-09-06T09:58:28.867Z"
   },
   {
    "duration": 6,
    "start_time": "2023-09-06T09:58:28.906Z"
   },
   {
    "duration": 12,
    "start_time": "2023-09-06T09:58:28.913Z"
   },
   {
    "duration": 14,
    "start_time": "2023-09-06T09:58:28.926Z"
   },
   {
    "duration": 23,
    "start_time": "2023-09-06T09:58:28.942Z"
   },
   {
    "duration": 28,
    "start_time": "2023-09-06T09:58:28.967Z"
   },
   {
    "duration": 55,
    "start_time": "2023-09-06T09:58:28.997Z"
   },
   {
    "duration": 16,
    "start_time": "2023-09-06T09:58:29.053Z"
   },
   {
    "duration": 23,
    "start_time": "2023-09-06T09:58:29.071Z"
   },
   {
    "duration": 6,
    "start_time": "2023-09-06T09:58:29.096Z"
   },
   {
    "duration": 10,
    "start_time": "2023-09-06T09:58:29.103Z"
   },
   {
    "duration": 9,
    "start_time": "2023-09-06T09:58:29.114Z"
   },
   {
    "duration": 198,
    "start_time": "2023-09-06T09:58:29.126Z"
   },
   {
    "duration": 8,
    "start_time": "2023-09-06T09:58:29.326Z"
   },
   {
    "duration": 16,
    "start_time": "2023-09-06T09:58:29.335Z"
   },
   {
    "duration": 5,
    "start_time": "2023-09-06T09:58:29.353Z"
   },
   {
    "duration": 43,
    "start_time": "2023-09-06T09:58:29.359Z"
   },
   {
    "duration": 165,
    "start_time": "2023-09-06T09:58:29.404Z"
   },
   {
    "duration": 7,
    "start_time": "2023-09-06T09:58:29.571Z"
   },
   {
    "duration": 22,
    "start_time": "2023-09-06T09:58:29.580Z"
   },
   {
    "duration": 5,
    "start_time": "2023-09-06T09:58:29.604Z"
   },
   {
    "duration": 121,
    "start_time": "2023-09-06T09:58:29.985Z"
   },
   {
    "duration": 4,
    "start_time": "2023-09-06T09:58:30.272Z"
   },
   {
    "duration": 5,
    "start_time": "2023-09-06T09:58:30.417Z"
   },
   {
    "duration": 129,
    "start_time": "2023-09-06T09:58:30.861Z"
   },
   {
    "duration": 328,
    "start_time": "2023-09-06T09:58:30.992Z"
   },
   {
    "duration": 202,
    "start_time": "2023-09-06T09:58:31.322Z"
   },
   {
    "duration": 183,
    "start_time": "2023-09-06T09:58:31.526Z"
   },
   {
    "duration": 5,
    "start_time": "2023-09-06T09:58:31.711Z"
   },
   {
    "duration": 8,
    "start_time": "2023-09-06T09:58:31.904Z"
   },
   {
    "duration": 138,
    "start_time": "2023-09-06T09:58:32.210Z"
   },
   {
    "duration": 7,
    "start_time": "2023-09-06T09:58:32.360Z"
   },
   {
    "duration": 6,
    "start_time": "2023-09-06T09:58:32.477Z"
   },
   {
    "duration": 5,
    "start_time": "2023-09-06T09:58:32.623Z"
   },
   {
    "duration": 5,
    "start_time": "2023-09-06T09:58:32.772Z"
   },
   {
    "duration": 6,
    "start_time": "2023-09-06T09:58:32.921Z"
   },
   {
    "duration": 511,
    "start_time": "2023-09-06T09:58:33.343Z"
   },
   {
    "duration": 5,
    "start_time": "2023-09-06T09:58:33.856Z"
   },
   {
    "duration": 15,
    "start_time": "2023-09-06T09:58:33.863Z"
   },
   {
    "duration": 3,
    "start_time": "2023-09-06T09:58:33.957Z"
   },
   {
    "duration": 5,
    "start_time": "2023-09-06T09:58:34.108Z"
   },
   {
    "duration": 8,
    "start_time": "2023-09-06T09:58:34.222Z"
   },
   {
    "duration": 6,
    "start_time": "2023-09-06T09:58:34.539Z"
   },
   {
    "duration": 7,
    "start_time": "2023-09-06T09:58:34.709Z"
   },
   {
    "duration": 8,
    "start_time": "2023-09-06T09:58:34.841Z"
   },
   {
    "duration": 4,
    "start_time": "2023-09-06T09:58:34.986Z"
   },
   {
    "duration": 6,
    "start_time": "2023-09-06T09:58:35.154Z"
   },
   {
    "duration": 2,
    "start_time": "2023-09-06T09:58:35.321Z"
   },
   {
    "duration": 5,
    "start_time": "2023-09-06T09:58:35.505Z"
   },
   {
    "duration": 36,
    "start_time": "2023-09-06T09:58:35.672Z"
   },
   {
    "duration": 7,
    "start_time": "2023-09-06T09:58:35.833Z"
   },
   {
    "duration": 7,
    "start_time": "2023-09-06T09:58:35.987Z"
   },
   {
    "duration": 5,
    "start_time": "2023-09-06T09:58:36.145Z"
   },
   {
    "duration": 4,
    "start_time": "2023-09-06T09:58:36.304Z"
   },
   {
    "duration": 6,
    "start_time": "2023-09-06T09:58:36.458Z"
   },
   {
    "duration": 6,
    "start_time": "2023-09-06T09:58:36.625Z"
   },
   {
    "duration": 7,
    "start_time": "2023-09-06T09:58:36.805Z"
   },
   {
    "duration": 5,
    "start_time": "2023-09-06T09:58:36.963Z"
   },
   {
    "duration": 6,
    "start_time": "2023-09-06T09:58:37.112Z"
   },
   {
    "duration": 3,
    "start_time": "2023-09-06T09:58:37.270Z"
   },
   {
    "duration": 6,
    "start_time": "2023-09-06T09:58:37.465Z"
   },
   {
    "duration": 6,
    "start_time": "2023-09-06T09:58:37.618Z"
   },
   {
    "duration": 6,
    "start_time": "2023-09-06T09:58:37.816Z"
   },
   {
    "duration": 6,
    "start_time": "2023-09-06T09:58:38.071Z"
   },
   {
    "duration": 6,
    "start_time": "2023-09-06T09:58:38.239Z"
   },
   {
    "duration": 3,
    "start_time": "2023-09-06T09:58:38.457Z"
   },
   {
    "duration": 6,
    "start_time": "2023-09-06T09:58:38.612Z"
   },
   {
    "duration": 7,
    "start_time": "2023-09-06T09:58:38.758Z"
   },
   {
    "duration": 120,
    "start_time": "2023-09-06T09:58:38.922Z"
   },
   {
    "duration": 7,
    "start_time": "2023-09-06T09:58:39.121Z"
   },
   {
    "duration": 140,
    "start_time": "2023-09-06T09:58:39.715Z"
   },
   {
    "duration": 5,
    "start_time": "2023-09-06T09:58:40.760Z"
   },
   {
    "duration": 5,
    "start_time": "2023-09-06T09:58:41.382Z"
   },
   {
    "duration": 7,
    "start_time": "2023-09-06T09:58:57.021Z"
   },
   {
    "duration": 121,
    "start_time": "2023-09-06T09:58:57.570Z"
   },
   {
    "duration": 6,
    "start_time": "2023-09-06T09:58:58.720Z"
   },
   {
    "duration": 5,
    "start_time": "2023-09-06T09:59:00.590Z"
   },
   {
    "duration": 3,
    "start_time": "2023-09-06T09:59:21.700Z"
   },
   {
    "duration": 123,
    "start_time": "2023-09-06T09:59:48.296Z"
   },
   {
    "duration": 6,
    "start_time": "2023-09-06T10:00:05.162Z"
   },
   {
    "duration": 106,
    "start_time": "2023-09-06T10:00:12.066Z"
   },
   {
    "duration": 108,
    "start_time": "2023-09-06T10:00:19.035Z"
   },
   {
    "duration": 6,
    "start_time": "2023-09-06T10:00:20.195Z"
   },
   {
    "duration": 114,
    "start_time": "2023-09-06T10:00:20.692Z"
   },
   {
    "duration": 6,
    "start_time": "2023-09-06T10:00:37.766Z"
   },
   {
    "duration": 124,
    "start_time": "2023-09-06T10:00:38.213Z"
   },
   {
    "duration": 128,
    "start_time": "2023-09-06T10:00:50.226Z"
   },
   {
    "duration": 18,
    "start_time": "2023-09-06T10:00:50.501Z"
   },
   {
    "duration": 2348,
    "start_time": "2023-09-06T10:00:50.634Z"
   },
   {
    "duration": 18,
    "start_time": "2023-09-06T10:00:52.984Z"
   },
   {
    "duration": 12,
    "start_time": "2023-09-06T10:00:53.005Z"
   },
   {
    "duration": 22,
    "start_time": "2023-09-06T10:00:53.020Z"
   },
   {
    "duration": 17,
    "start_time": "2023-09-06T10:00:53.044Z"
   },
   {
    "duration": 14,
    "start_time": "2023-09-06T10:00:53.063Z"
   },
   {
    "duration": 50,
    "start_time": "2023-09-06T10:00:53.079Z"
   },
   {
    "duration": 5,
    "start_time": "2023-09-06T10:00:53.131Z"
   },
   {
    "duration": 9,
    "start_time": "2023-09-06T10:00:53.137Z"
   },
   {
    "duration": 4,
    "start_time": "2023-09-06T10:00:53.149Z"
   },
   {
    "duration": 9,
    "start_time": "2023-09-06T10:00:53.155Z"
   },
   {
    "duration": 39,
    "start_time": "2023-09-06T10:00:53.166Z"
   },
   {
    "duration": 6,
    "start_time": "2023-09-06T10:00:53.208Z"
   },
   {
    "duration": 6,
    "start_time": "2023-09-06T10:00:53.303Z"
   },
   {
    "duration": 22,
    "start_time": "2023-09-06T10:00:53.696Z"
   },
   {
    "duration": 5,
    "start_time": "2023-09-06T10:00:53.842Z"
   },
   {
    "duration": 8,
    "start_time": "2023-09-06T10:00:53.970Z"
   },
   {
    "duration": 7,
    "start_time": "2023-09-06T10:00:54.120Z"
   },
   {
    "duration": 168,
    "start_time": "2023-09-06T10:00:54.283Z"
   },
   {
    "duration": 8,
    "start_time": "2023-09-06T10:00:54.453Z"
   },
   {
    "duration": 15,
    "start_time": "2023-09-06T10:00:54.858Z"
   },
   {
    "duration": 5,
    "start_time": "2023-09-06T10:00:55.132Z"
   },
   {
    "duration": 5,
    "start_time": "2023-09-06T10:00:55.244Z"
   },
   {
    "duration": 142,
    "start_time": "2023-09-06T10:00:55.422Z"
   },
   {
    "duration": 8,
    "start_time": "2023-09-06T10:00:55.566Z"
   },
   {
    "duration": 5,
    "start_time": "2023-09-06T10:00:55.729Z"
   },
   {
    "duration": 5,
    "start_time": "2023-09-06T10:00:55.839Z"
   },
   {
    "duration": 112,
    "start_time": "2023-09-06T10:00:56.167Z"
   },
   {
    "duration": 5,
    "start_time": "2023-09-06T10:00:56.467Z"
   },
   {
    "duration": 5,
    "start_time": "2023-09-06T10:00:56.630Z"
   },
   {
    "duration": 122,
    "start_time": "2023-09-06T10:00:56.957Z"
   },
   {
    "duration": 6,
    "start_time": "2023-09-06T10:00:57.096Z"
   },
   {
    "duration": 6,
    "start_time": "2023-09-06T10:00:57.262Z"
   },
   {
    "duration": 125,
    "start_time": "2023-09-06T10:00:57.566Z"
   },
   {
    "duration": 5,
    "start_time": "2023-09-06T10:00:57.711Z"
   },
   {
    "duration": 6,
    "start_time": "2023-09-06T10:00:57.879Z"
   },
   {
    "duration": 132,
    "start_time": "2023-09-06T10:00:58.149Z"
   },
   {
    "duration": 5,
    "start_time": "2023-09-06T10:00:58.283Z"
   },
   {
    "duration": 5,
    "start_time": "2023-09-06T10:00:58.408Z"
   },
   {
    "duration": 6,
    "start_time": "2023-09-06T10:00:58.560Z"
   },
   {
    "duration": 6,
    "start_time": "2023-09-06T10:00:58.719Z"
   },
   {
    "duration": 6,
    "start_time": "2023-09-06T10:00:58.871Z"
   },
   {
    "duration": 515,
    "start_time": "2023-09-06T10:00:59.318Z"
   },
   {
    "duration": 5,
    "start_time": "2023-09-06T10:00:59.835Z"
   },
   {
    "duration": 13,
    "start_time": "2023-09-06T10:00:59.841Z"
   },
   {
    "duration": 29,
    "start_time": "2023-09-06T10:00:59.857Z"
   },
   {
    "duration": 5,
    "start_time": "2023-09-06T10:00:59.941Z"
   },
   {
    "duration": 5,
    "start_time": "2023-09-06T10:01:00.113Z"
   },
   {
    "duration": 6,
    "start_time": "2023-09-06T10:01:00.265Z"
   },
   {
    "duration": 48,
    "start_time": "2023-09-06T10:01:00.434Z"
   },
   {
    "duration": 80,
    "start_time": "2023-09-06T10:01:00.594Z"
   },
   {
    "duration": 166,
    "start_time": "2023-09-06T10:01:00.760Z"
   },
   {
    "duration": 64,
    "start_time": "2023-09-06T10:01:00.928Z"
   },
   {
    "duration": 3,
    "start_time": "2023-09-06T10:01:01.076Z"
   },
   {
    "duration": 5,
    "start_time": "2023-09-06T10:01:01.247Z"
   },
   {
    "duration": 6,
    "start_time": "2023-09-06T10:01:01.422Z"
   },
   {
    "duration": 6,
    "start_time": "2023-09-06T10:01:01.594Z"
   },
   {
    "duration": 6,
    "start_time": "2023-09-06T10:01:01.765Z"
   },
   {
    "duration": 6,
    "start_time": "2023-09-06T10:01:01.934Z"
   },
   {
    "duration": 3,
    "start_time": "2023-09-06T10:01:02.082Z"
   },
   {
    "duration": 408,
    "start_time": "2023-09-06T10:01:02.207Z"
   },
   {
    "duration": 91,
    "start_time": "2023-09-06T10:01:02.617Z"
   },
   {
    "duration": 38,
    "start_time": "2023-09-06T10:01:02.710Z"
   },
   {
    "duration": 38,
    "start_time": "2023-09-06T10:01:02.751Z"
   },
   {
    "duration": 6,
    "start_time": "2023-09-06T10:01:02.891Z"
   },
   {
    "duration": 3,
    "start_time": "2023-09-06T10:01:03.034Z"
   },
   {
    "duration": 5,
    "start_time": "2023-09-06T10:01:03.181Z"
   },
   {
    "duration": 6,
    "start_time": "2023-09-06T10:01:03.362Z"
   },
   {
    "duration": 6,
    "start_time": "2023-09-06T10:01:03.521Z"
   },
   {
    "duration": 5,
    "start_time": "2023-09-06T10:01:03.690Z"
   },
   {
    "duration": 5,
    "start_time": "2023-09-06T10:01:03.860Z"
   },
   {
    "duration": 3,
    "start_time": "2023-09-06T10:01:04.004Z"
   },
   {
    "duration": 5,
    "start_time": "2023-09-06T10:01:04.180Z"
   },
   {
    "duration": 6,
    "start_time": "2023-09-06T10:01:04.356Z"
   },
   {
    "duration": 124,
    "start_time": "2023-09-06T10:01:04.517Z"
   },
   {
    "duration": 5,
    "start_time": "2023-09-06T10:01:04.679Z"
   },
   {
    "duration": 147,
    "start_time": "2023-09-06T10:01:04.864Z"
   },
   {
    "duration": 6,
    "start_time": "2023-09-06T10:01:05.352Z"
   },
   {
    "duration": 5,
    "start_time": "2023-09-06T10:01:05.563Z"
   },
   {
    "duration": 3,
    "start_time": "2023-09-06T10:01:09.790Z"
   },
   {
    "duration": 106,
    "start_time": "2023-09-06T10:01:10.269Z"
   },
   {
    "duration": 7,
    "start_time": "2023-09-06T10:01:11.324Z"
   },
   {
    "duration": 3,
    "start_time": "2023-09-06T10:01:24.500Z"
   },
   {
    "duration": 5,
    "start_time": "2023-09-06T10:05:56.859Z"
   },
   {
    "duration": 30,
    "start_time": "2023-09-06T10:05:57.444Z"
   },
   {
    "duration": 8,
    "start_time": "2023-09-06T10:08:17.961Z"
   },
   {
    "duration": 12,
    "start_time": "2023-09-06T10:08:24.528Z"
   },
   {
    "duration": 5,
    "start_time": "2023-09-06T10:08:30.227Z"
   },
   {
    "duration": 28,
    "start_time": "2023-09-06T10:08:31.067Z"
   },
   {
    "duration": 5,
    "start_time": "2023-09-06T10:10:59.433Z"
   },
   {
    "duration": 26,
    "start_time": "2023-09-06T10:11:00.225Z"
   },
   {
    "duration": 33,
    "start_time": "2023-09-06T10:12:11.617Z"
   },
   {
    "duration": 26,
    "start_time": "2023-09-06T10:12:12.168Z"
   },
   {
    "duration": 5,
    "start_time": "2023-09-06T10:13:07.993Z"
   },
   {
    "duration": 26,
    "start_time": "2023-09-06T10:13:08.159Z"
   },
   {
    "duration": 4,
    "start_time": "2023-09-06T10:17:27.625Z"
   },
   {
    "duration": 115,
    "start_time": "2023-09-06T10:17:29.269Z"
   },
   {
    "duration": 32,
    "start_time": "2023-09-06T10:17:29.701Z"
   },
   {
    "duration": 30,
    "start_time": "2023-09-06T10:17:43.926Z"
   },
   {
    "duration": 49,
    "start_time": "2023-09-06T10:17:54.879Z"
   },
   {
    "duration": 5,
    "start_time": "2023-09-06T10:20:28.670Z"
   },
   {
    "duration": 54,
    "start_time": "2023-09-06T10:20:28.678Z"
   },
   {
    "duration": 10,
    "start_time": "2023-09-06T11:06:56.893Z"
   },
   {
    "duration": 2058,
    "start_time": "2023-09-06T11:06:59.571Z"
   },
   {
    "duration": 3294,
    "start_time": "2023-09-06T11:08:25.892Z"
   },
   {
    "duration": 198,
    "start_time": "2023-09-06T12:01:24.546Z"
   },
   {
    "duration": 5,
    "start_time": "2023-09-06T12:01:43.277Z"
   },
   {
    "duration": 5,
    "start_time": "2023-09-06T12:01:44.195Z"
   },
   {
    "duration": 26,
    "start_time": "2023-09-06T12:07:25.572Z"
   },
   {
    "duration": 6,
    "start_time": "2023-09-06T12:08:04.548Z"
   },
   {
    "duration": 26,
    "start_time": "2023-09-06T12:08:07.515Z"
   },
   {
    "duration": 9,
    "start_time": "2023-09-06T12:08:45.923Z"
   },
   {
    "duration": 36,
    "start_time": "2023-09-06T12:08:54.013Z"
   },
   {
    "duration": 27,
    "start_time": "2023-09-06T12:09:12.614Z"
   },
   {
    "duration": 9,
    "start_time": "2023-09-06T12:14:38.750Z"
   },
   {
    "duration": 46,
    "start_time": "2023-09-06T12:14:41.690Z"
   },
   {
    "duration": 1506,
    "start_time": "2023-09-06T12:15:42.371Z"
   },
   {
    "duration": 0,
    "start_time": "2023-09-06T12:15:43.878Z"
   },
   {
    "duration": 1448,
    "start_time": "2023-09-06T12:18:58.808Z"
   },
   {
    "duration": 8,
    "start_time": "2023-09-06T12:19:00.496Z"
   },
   {
    "duration": 5,
    "start_time": "2023-09-06T12:20:17.427Z"
   },
   {
    "duration": 13,
    "start_time": "2023-09-06T12:20:18.763Z"
   },
   {
    "duration": 4,
    "start_time": "2023-09-06T12:20:36.474Z"
   },
   {
    "duration": 15,
    "start_time": "2023-09-06T12:20:37.483Z"
   },
   {
    "duration": 8,
    "start_time": "2023-09-06T12:21:26.375Z"
   },
   {
    "duration": 14,
    "start_time": "2023-09-06T12:21:34.186Z"
   },
   {
    "duration": 13,
    "start_time": "2023-09-06T12:22:29.324Z"
   },
   {
    "duration": 849,
    "start_time": "2023-09-07T06:28:13.492Z"
   },
   {
    "duration": 16,
    "start_time": "2023-09-07T06:28:14.343Z"
   },
   {
    "duration": 2890,
    "start_time": "2023-09-07T06:28:14.361Z"
   },
   {
    "duration": 11,
    "start_time": "2023-09-07T06:28:17.254Z"
   },
   {
    "duration": 22,
    "start_time": "2023-09-07T06:28:17.267Z"
   },
   {
    "duration": 10,
    "start_time": "2023-09-07T06:28:17.291Z"
   },
   {
    "duration": 33,
    "start_time": "2023-09-07T06:28:17.303Z"
   },
   {
    "duration": 12,
    "start_time": "2023-09-07T06:28:17.338Z"
   },
   {
    "duration": 60,
    "start_time": "2023-09-07T06:28:17.351Z"
   },
   {
    "duration": 8,
    "start_time": "2023-09-07T06:28:17.416Z"
   },
   {
    "duration": 12,
    "start_time": "2023-09-07T06:28:17.426Z"
   },
   {
    "duration": 5,
    "start_time": "2023-09-07T06:28:17.440Z"
   },
   {
    "duration": 13,
    "start_time": "2023-09-07T06:28:17.446Z"
   },
   {
    "duration": 9,
    "start_time": "2023-09-07T06:28:17.461Z"
   },
   {
    "duration": 42,
    "start_time": "2023-09-07T06:28:17.473Z"
   },
   {
    "duration": 6,
    "start_time": "2023-09-07T06:28:17.517Z"
   },
   {
    "duration": 31,
    "start_time": "2023-09-07T06:28:17.526Z"
   },
   {
    "duration": 5,
    "start_time": "2023-09-07T06:28:17.559Z"
   },
   {
    "duration": 16,
    "start_time": "2023-09-07T06:28:17.566Z"
   },
   {
    "duration": 28,
    "start_time": "2023-09-07T06:28:17.583Z"
   },
   {
    "duration": 182,
    "start_time": "2023-09-07T06:28:17.613Z"
   },
   {
    "duration": 19,
    "start_time": "2023-09-07T06:28:17.797Z"
   },
   {
    "duration": 18,
    "start_time": "2023-09-07T06:28:17.819Z"
   },
   {
    "duration": 4,
    "start_time": "2023-09-07T06:28:17.839Z"
   },
   {
    "duration": 11,
    "start_time": "2023-09-07T06:28:17.844Z"
   },
   {
    "duration": 208,
    "start_time": "2023-09-07T06:28:17.857Z"
   },
   {
    "duration": 8,
    "start_time": "2023-09-07T06:28:18.066Z"
   },
   {
    "duration": 8,
    "start_time": "2023-09-07T06:28:18.078Z"
   },
   {
    "duration": 5,
    "start_time": "2023-09-07T06:28:18.088Z"
   },
   {
    "duration": 148,
    "start_time": "2023-09-07T06:28:18.110Z"
   },
   {
    "duration": 5,
    "start_time": "2023-09-07T06:28:18.259Z"
   },
   {
    "duration": 8,
    "start_time": "2023-09-07T06:28:18.266Z"
   },
   {
    "duration": 165,
    "start_time": "2023-09-07T06:28:18.275Z"
   },
   {
    "duration": 4,
    "start_time": "2023-09-07T06:28:18.442Z"
   },
   {
    "duration": 5,
    "start_time": "2023-09-07T06:28:18.448Z"
   },
   {
    "duration": 161,
    "start_time": "2023-09-07T06:28:18.455Z"
   },
   {
    "duration": 9,
    "start_time": "2023-09-07T06:28:18.619Z"
   },
   {
    "duration": 9,
    "start_time": "2023-09-07T06:28:18.631Z"
   },
   {
    "duration": 179,
    "start_time": "2023-09-07T06:28:18.642Z"
   },
   {
    "duration": 8,
    "start_time": "2023-09-07T06:28:18.824Z"
   },
   {
    "duration": 27,
    "start_time": "2023-09-07T06:28:18.835Z"
   },
   {
    "duration": 13,
    "start_time": "2023-09-07T06:28:18.864Z"
   },
   {
    "duration": 13,
    "start_time": "2023-09-07T06:28:18.879Z"
   },
   {
    "duration": 24,
    "start_time": "2023-09-07T06:28:18.893Z"
   },
   {
    "duration": 645,
    "start_time": "2023-09-07T06:28:18.920Z"
   },
   {
    "duration": 4,
    "start_time": "2023-09-07T06:28:19.567Z"
   },
   {
    "duration": 11,
    "start_time": "2023-09-07T06:28:19.572Z"
   },
   {
    "duration": 44,
    "start_time": "2023-09-07T06:28:19.585Z"
   },
   {
    "duration": 32,
    "start_time": "2023-09-07T06:28:19.632Z"
   },
   {
    "duration": 26,
    "start_time": "2023-09-07T06:28:19.665Z"
   },
   {
    "duration": 15,
    "start_time": "2023-09-07T06:28:19.693Z"
   },
   {
    "duration": 36,
    "start_time": "2023-09-07T06:28:19.711Z"
   },
   {
    "duration": 10,
    "start_time": "2023-09-07T06:28:19.749Z"
   },
   {
    "duration": 10,
    "start_time": "2023-09-07T06:28:19.760Z"
   },
   {
    "duration": 28,
    "start_time": "2023-09-07T06:28:19.772Z"
   },
   {
    "duration": 95,
    "start_time": "2023-09-07T06:28:19.802Z"
   },
   {
    "duration": 7,
    "start_time": "2023-09-07T06:28:19.899Z"
   },
   {
    "duration": 20,
    "start_time": "2023-09-07T06:28:19.907Z"
   },
   {
    "duration": 13,
    "start_time": "2023-09-07T06:28:19.930Z"
   },
   {
    "duration": 6,
    "start_time": "2023-09-07T06:28:19.945Z"
   },
   {
    "duration": 23,
    "start_time": "2023-09-07T06:28:19.952Z"
   },
   {
    "duration": 14,
    "start_time": "2023-09-07T06:28:19.977Z"
   },
   {
    "duration": 26,
    "start_time": "2023-09-07T06:28:19.993Z"
   },
   {
    "duration": 55,
    "start_time": "2023-09-07T06:28:20.020Z"
   },
   {
    "duration": 56,
    "start_time": "2023-09-07T06:28:20.077Z"
   },
   {
    "duration": 24,
    "start_time": "2023-09-07T06:28:20.136Z"
   },
   {
    "duration": 30,
    "start_time": "2023-09-07T06:28:20.162Z"
   },
   {
    "duration": 25,
    "start_time": "2023-09-07T06:28:20.193Z"
   },
   {
    "duration": 43,
    "start_time": "2023-09-07T06:28:20.221Z"
   },
   {
    "duration": 19,
    "start_time": "2023-09-07T06:28:20.265Z"
   },
   {
    "duration": 27,
    "start_time": "2023-09-07T06:28:20.285Z"
   },
   {
    "duration": 75,
    "start_time": "2023-09-07T06:28:20.313Z"
   },
   {
    "duration": 44,
    "start_time": "2023-09-07T06:28:20.390Z"
   },
   {
    "duration": 71,
    "start_time": "2023-09-07T06:28:20.436Z"
   },
   {
    "duration": 224,
    "start_time": "2023-09-07T06:28:20.509Z"
   },
   {
    "duration": 132,
    "start_time": "2023-09-07T06:28:20.735Z"
   },
   {
    "duration": 219,
    "start_time": "2023-09-07T06:28:20.868Z"
   },
   {
    "duration": 5,
    "start_time": "2023-09-07T06:28:21.088Z"
   },
   {
    "duration": 158,
    "start_time": "2023-09-07T06:28:21.095Z"
   },
   {
    "duration": 5,
    "start_time": "2023-09-07T06:28:21.255Z"
   },
   {
    "duration": 19,
    "start_time": "2023-09-07T06:28:21.261Z"
   },
   {
    "duration": 13,
    "start_time": "2023-09-07T06:28:21.285Z"
   },
   {
    "duration": 139,
    "start_time": "2023-09-07T06:28:21.299Z"
   },
   {
    "duration": 5,
    "start_time": "2023-09-07T06:28:21.440Z"
   },
   {
    "duration": 9,
    "start_time": "2023-09-07T06:28:21.447Z"
   },
   {
    "duration": 10,
    "start_time": "2023-09-07T06:28:21.458Z"
   },
   {
    "duration": 23,
    "start_time": "2023-09-07T06:28:21.470Z"
   },
   {
    "duration": 9,
    "start_time": "2023-09-07T06:28:21.495Z"
   },
   {
    "duration": 8,
    "start_time": "2023-09-07T06:28:21.506Z"
   },
   {
    "duration": 8,
    "start_time": "2023-09-07T06:28:21.517Z"
   },
   {
    "duration": 133,
    "start_time": "2023-09-07T06:28:21.527Z"
   },
   {
    "duration": 6,
    "start_time": "2023-09-07T06:28:21.661Z"
   },
   {
    "duration": 3262,
    "start_time": "2023-09-07T06:28:21.669Z"
   },
   {
    "duration": 189,
    "start_time": "2023-09-07T06:28:24.934Z"
   },
   {
    "duration": 8,
    "start_time": "2023-09-07T06:28:25.125Z"
   },
   {
    "duration": 7,
    "start_time": "2023-09-07T06:28:25.135Z"
   },
   {
    "duration": 13,
    "start_time": "2023-09-07T06:28:25.144Z"
   },
   {
    "duration": 15,
    "start_time": "2023-09-07T06:28:25.160Z"
   },
   {
    "duration": 107,
    "start_time": "2023-09-07T06:31:26.396Z"
   },
   {
    "duration": 39,
    "start_time": "2023-09-07T06:31:29.749Z"
   },
   {
    "duration": 52,
    "start_time": "2023-09-07T06:31:44.404Z"
   },
   {
    "duration": 11,
    "start_time": "2023-09-07T06:34:06.628Z"
   },
   {
    "duration": 10,
    "start_time": "2023-09-07T06:34:12.544Z"
   },
   {
    "duration": 5,
    "start_time": "2023-09-07T06:39:19.772Z"
   },
   {
    "duration": 6,
    "start_time": "2023-09-07T06:39:22.210Z"
   },
   {
    "duration": 40,
    "start_time": "2023-09-07T06:39:23.067Z"
   },
   {
    "duration": 7,
    "start_time": "2023-09-07T06:39:42.098Z"
   },
   {
    "duration": 10,
    "start_time": "2023-09-07T06:40:18.586Z"
   },
   {
    "duration": 16,
    "start_time": "2023-09-07T06:40:33.119Z"
   },
   {
    "duration": 8,
    "start_time": "2023-09-07T06:40:47.558Z"
   },
   {
    "duration": 17,
    "start_time": "2023-09-07T06:43:28.807Z"
   },
   {
    "duration": 15,
    "start_time": "2023-09-07T06:43:50.627Z"
   },
   {
    "duration": 8,
    "start_time": "2023-09-07T06:43:56.231Z"
   },
   {
    "duration": 8,
    "start_time": "2023-09-07T06:47:47.529Z"
   },
   {
    "duration": 4,
    "start_time": "2023-09-07T06:47:48.060Z"
   },
   {
    "duration": 5,
    "start_time": "2023-09-07T06:47:57.782Z"
   },
   {
    "duration": 8,
    "start_time": "2023-09-07T06:48:03.882Z"
   },
   {
    "duration": 30,
    "start_time": "2023-09-07T06:50:23.323Z"
   },
   {
    "duration": 5,
    "start_time": "2023-09-07T06:55:21.929Z"
   },
   {
    "duration": 6,
    "start_time": "2023-09-07T06:55:22.869Z"
   },
   {
    "duration": 29,
    "start_time": "2023-09-07T06:55:59.394Z"
   },
   {
    "duration": 7,
    "start_time": "2023-09-07T06:57:44.616Z"
   },
   {
    "duration": 5,
    "start_time": "2023-09-07T06:57:45.392Z"
   },
   {
    "duration": 3,
    "start_time": "2023-09-07T06:57:46.264Z"
   },
   {
    "duration": 6,
    "start_time": "2023-09-07T06:57:51.622Z"
   },
   {
    "duration": 6,
    "start_time": "2023-09-07T06:59:48.671Z"
   },
   {
    "duration": 10,
    "start_time": "2023-09-07T07:04:41.528Z"
   },
   {
    "duration": 10,
    "start_time": "2023-09-07T07:04:44.471Z"
   },
   {
    "duration": 8,
    "start_time": "2023-09-07T07:08:15.015Z"
   },
   {
    "duration": 9,
    "start_time": "2023-09-07T07:08:16.401Z"
   },
   {
    "duration": 16,
    "start_time": "2023-09-07T07:08:26.001Z"
   },
   {
    "duration": 9,
    "start_time": "2023-09-07T07:08:31.385Z"
   },
   {
    "duration": 9,
    "start_time": "2023-09-07T07:08:33.971Z"
   },
   {
    "duration": 13,
    "start_time": "2023-09-07T07:08:41.300Z"
   },
   {
    "duration": 14,
    "start_time": "2023-09-07T07:23:19.415Z"
   },
   {
    "duration": 29,
    "start_time": "2023-09-07T07:23:37.425Z"
   },
   {
    "duration": 28,
    "start_time": "2023-09-07T07:24:15.144Z"
   },
   {
    "duration": 19,
    "start_time": "2023-09-07T07:24:24.000Z"
   },
   {
    "duration": 13,
    "start_time": "2023-09-07T07:24:28.397Z"
   },
   {
    "duration": 27,
    "start_time": "2023-09-07T07:24:33.414Z"
   },
   {
    "duration": 590,
    "start_time": "2023-09-07T07:25:13.429Z"
   },
   {
    "duration": 18,
    "start_time": "2023-09-07T07:25:14.022Z"
   },
   {
    "duration": 2400,
    "start_time": "2023-09-07T07:25:14.043Z"
   },
   {
    "duration": 12,
    "start_time": "2023-09-07T07:25:16.447Z"
   },
   {
    "duration": 15,
    "start_time": "2023-09-07T07:25:16.461Z"
   },
   {
    "duration": 31,
    "start_time": "2023-09-07T07:25:16.478Z"
   },
   {
    "duration": 34,
    "start_time": "2023-09-07T07:25:16.511Z"
   },
   {
    "duration": 33,
    "start_time": "2023-09-07T07:25:16.547Z"
   },
   {
    "duration": 27,
    "start_time": "2023-09-07T07:25:16.582Z"
   },
   {
    "duration": 51,
    "start_time": "2023-09-07T07:25:16.613Z"
   },
   {
    "duration": 7,
    "start_time": "2023-09-07T07:25:16.666Z"
   },
   {
    "duration": 38,
    "start_time": "2023-09-07T07:25:16.675Z"
   },
   {
    "duration": 5,
    "start_time": "2023-09-07T07:25:16.715Z"
   },
   {
    "duration": 11,
    "start_time": "2023-09-07T07:25:16.722Z"
   },
   {
    "duration": 8,
    "start_time": "2023-09-07T07:25:16.735Z"
   },
   {
    "duration": 6,
    "start_time": "2023-09-07T07:25:16.744Z"
   },
   {
    "duration": 20,
    "start_time": "2023-09-07T07:25:16.752Z"
   },
   {
    "duration": 43,
    "start_time": "2023-09-07T07:25:16.774Z"
   },
   {
    "duration": 5,
    "start_time": "2023-09-07T07:25:16.819Z"
   },
   {
    "duration": 11,
    "start_time": "2023-09-07T07:25:16.826Z"
   },
   {
    "duration": 8,
    "start_time": "2023-09-07T07:25:16.838Z"
   },
   {
    "duration": 179,
    "start_time": "2023-09-07T07:25:16.848Z"
   },
   {
    "duration": 8,
    "start_time": "2023-09-07T07:25:17.029Z"
   },
   {
    "duration": 18,
    "start_time": "2023-09-07T07:25:17.038Z"
   },
   {
    "duration": 5,
    "start_time": "2023-09-07T07:25:17.058Z"
   },
   {
    "duration": 11,
    "start_time": "2023-09-07T07:25:17.065Z"
   },
   {
    "duration": 172,
    "start_time": "2023-09-07T07:25:17.077Z"
   },
   {
    "duration": 8,
    "start_time": "2023-09-07T07:25:17.255Z"
   },
   {
    "duration": 6,
    "start_time": "2023-09-07T07:25:17.265Z"
   },
   {
    "duration": 7,
    "start_time": "2023-09-07T07:25:17.273Z"
   },
   {
    "duration": 142,
    "start_time": "2023-09-07T07:25:17.282Z"
   },
   {
    "duration": 5,
    "start_time": "2023-09-07T07:25:17.426Z"
   },
   {
    "duration": 138,
    "start_time": "2023-09-07T07:25:17.433Z"
   },
   {
    "duration": 114,
    "start_time": "2023-09-07T07:25:17.573Z"
   },
   {
    "duration": 6,
    "start_time": "2023-09-07T07:25:17.688Z"
   },
   {
    "duration": 14,
    "start_time": "2023-09-07T07:25:17.709Z"
   },
   {
    "duration": 135,
    "start_time": "2023-09-07T07:25:17.724Z"
   },
   {
    "duration": 5,
    "start_time": "2023-09-07T07:25:17.860Z"
   },
   {
    "duration": 8,
    "start_time": "2023-09-07T07:25:17.867Z"
   },
   {
    "duration": 151,
    "start_time": "2023-09-07T07:25:17.877Z"
   },
   {
    "duration": 4,
    "start_time": "2023-09-07T07:25:18.030Z"
   },
   {
    "duration": 5,
    "start_time": "2023-09-07T07:25:18.036Z"
   },
   {
    "duration": 11,
    "start_time": "2023-09-07T07:25:18.043Z"
   },
   {
    "duration": 4,
    "start_time": "2023-09-07T07:25:18.056Z"
   },
   {
    "duration": 32,
    "start_time": "2023-09-07T07:25:18.062Z"
   },
   {
    "duration": 550,
    "start_time": "2023-09-07T07:25:18.095Z"
   },
   {
    "duration": 4,
    "start_time": "2023-09-07T07:25:18.647Z"
   },
   {
    "duration": 24,
    "start_time": "2023-09-07T07:25:18.653Z"
   },
   {
    "duration": 21,
    "start_time": "2023-09-07T07:25:18.679Z"
   },
   {
    "duration": 14,
    "start_time": "2023-09-07T07:25:18.702Z"
   },
   {
    "duration": 32,
    "start_time": "2023-09-07T07:25:18.718Z"
   },
   {
    "duration": 26,
    "start_time": "2023-09-07T07:25:18.752Z"
   },
   {
    "duration": 24,
    "start_time": "2023-09-07T07:25:18.780Z"
   },
   {
    "duration": 20,
    "start_time": "2023-09-07T07:25:18.806Z"
   },
   {
    "duration": 26,
    "start_time": "2023-09-07T07:25:18.828Z"
   },
   {
    "duration": 22,
    "start_time": "2023-09-07T07:25:18.856Z"
   },
   {
    "duration": 25,
    "start_time": "2023-09-07T07:25:18.880Z"
   },
   {
    "duration": 16,
    "start_time": "2023-09-07T07:25:18.907Z"
   },
   {
    "duration": 17,
    "start_time": "2023-09-07T07:25:18.925Z"
   },
   {
    "duration": 22,
    "start_time": "2023-09-07T07:25:18.944Z"
   },
   {
    "duration": 9,
    "start_time": "2023-09-07T07:25:18.968Z"
   },
   {
    "duration": 15,
    "start_time": "2023-09-07T07:25:18.979Z"
   },
   {
    "duration": 14,
    "start_time": "2023-09-07T07:25:18.995Z"
   },
   {
    "duration": 20,
    "start_time": "2023-09-07T07:25:19.011Z"
   },
   {
    "duration": 19,
    "start_time": "2023-09-07T07:25:19.032Z"
   },
   {
    "duration": 15,
    "start_time": "2023-09-07T07:25:19.053Z"
   },
   {
    "duration": 16,
    "start_time": "2023-09-07T07:25:19.070Z"
   },
   {
    "duration": 21,
    "start_time": "2023-09-07T07:25:19.088Z"
   },
   {
    "duration": 13,
    "start_time": "2023-09-07T07:25:19.111Z"
   },
   {
    "duration": 12,
    "start_time": "2023-09-07T07:25:19.126Z"
   },
   {
    "duration": 19,
    "start_time": "2023-09-07T07:25:19.140Z"
   },
   {
    "duration": 10,
    "start_time": "2023-09-07T07:25:19.160Z"
   },
   {
    "duration": 35,
    "start_time": "2023-09-07T07:25:19.172Z"
   },
   {
    "duration": 23,
    "start_time": "2023-09-07T07:25:19.208Z"
   },
   {
    "duration": 20,
    "start_time": "2023-09-07T07:25:19.232Z"
   },
   {
    "duration": 20,
    "start_time": "2023-09-07T07:25:19.254Z"
   },
   {
    "duration": 51,
    "start_time": "2023-09-07T07:25:19.276Z"
   },
   {
    "duration": 115,
    "start_time": "2023-09-07T07:25:19.329Z"
   },
   {
    "duration": 6,
    "start_time": "2023-09-07T07:25:19.446Z"
   },
   {
    "duration": 131,
    "start_time": "2023-09-07T07:25:19.454Z"
   },
   {
    "duration": 5,
    "start_time": "2023-09-07T07:25:19.587Z"
   },
   {
    "duration": 12,
    "start_time": "2023-09-07T07:25:19.608Z"
   },
   {
    "duration": 12,
    "start_time": "2023-09-07T07:25:19.622Z"
   },
   {
    "duration": 112,
    "start_time": "2023-09-07T07:25:19.636Z"
   },
   {
    "duration": 5,
    "start_time": "2023-09-07T07:25:19.751Z"
   },
   {
    "duration": 7,
    "start_time": "2023-09-07T07:25:19.758Z"
   },
   {
    "duration": 7,
    "start_time": "2023-09-07T07:25:19.766Z"
   },
   {
    "duration": 7,
    "start_time": "2023-09-07T07:25:19.775Z"
   },
   {
    "duration": 4,
    "start_time": "2023-09-07T07:25:19.784Z"
   },
   {
    "duration": 20,
    "start_time": "2023-09-07T07:25:19.790Z"
   },
   {
    "duration": 4,
    "start_time": "2023-09-07T07:25:19.812Z"
   },
   {
    "duration": 118,
    "start_time": "2023-09-07T07:25:19.818Z"
   },
   {
    "duration": 6,
    "start_time": "2023-09-07T07:25:19.938Z"
   },
   {
    "duration": 3096,
    "start_time": "2023-09-07T07:25:19.946Z"
   },
   {
    "duration": 170,
    "start_time": "2023-09-07T07:25:23.044Z"
   },
   {
    "duration": 5,
    "start_time": "2023-09-07T07:25:23.215Z"
   },
   {
    "duration": 10,
    "start_time": "2023-09-07T07:25:23.222Z"
   },
   {
    "duration": 12,
    "start_time": "2023-09-07T07:25:23.234Z"
   },
   {
    "duration": 22,
    "start_time": "2023-09-07T07:25:23.247Z"
   },
   {
    "duration": 10,
    "start_time": "2023-09-07T07:25:23.271Z"
   },
   {
    "duration": 26,
    "start_time": "2023-09-07T07:25:23.283Z"
   },
   {
    "duration": 5,
    "start_time": "2023-09-07T07:25:23.311Z"
   },
   {
    "duration": 40,
    "start_time": "2023-09-07T07:25:23.318Z"
   },
   {
    "duration": 7,
    "start_time": "2023-09-07T07:25:23.360Z"
   },
   {
    "duration": 9,
    "start_time": "2023-09-07T07:25:23.369Z"
   },
   {
    "duration": 30,
    "start_time": "2023-09-07T07:25:23.380Z"
   },
   {
    "duration": 25,
    "start_time": "2023-09-07T07:25:23.412Z"
   },
   {
    "duration": 23,
    "start_time": "2023-09-07T07:25:23.439Z"
   },
   {
    "duration": 8,
    "start_time": "2023-09-07T07:25:23.463Z"
   },
   {
    "duration": 24,
    "start_time": "2023-09-07T07:25:23.473Z"
   },
   {
    "duration": 7,
    "start_time": "2023-09-07T07:25:23.499Z"
   },
   {
    "duration": 5,
    "start_time": "2023-09-07T07:27:29.344Z"
   },
   {
    "duration": 4,
    "start_time": "2023-09-07T07:27:55.177Z"
   },
   {
    "duration": 5,
    "start_time": "2023-09-07T07:27:55.596Z"
   },
   {
    "duration": 546,
    "start_time": "2023-09-07T07:29:10.363Z"
   },
   {
    "duration": 18,
    "start_time": "2023-09-07T07:29:10.912Z"
   },
   {
    "duration": 2783,
    "start_time": "2023-09-07T07:29:10.932Z"
   },
   {
    "duration": 16,
    "start_time": "2023-09-07T07:29:13.718Z"
   },
   {
    "duration": 13,
    "start_time": "2023-09-07T07:29:13.737Z"
   },
   {
    "duration": 12,
    "start_time": "2023-09-07T07:29:13.751Z"
   },
   {
    "duration": 61,
    "start_time": "2023-09-07T07:29:13.765Z"
   },
   {
    "duration": 32,
    "start_time": "2023-09-07T07:29:13.828Z"
   },
   {
    "duration": 41,
    "start_time": "2023-09-07T07:29:13.862Z"
   },
   {
    "duration": 45,
    "start_time": "2023-09-07T07:29:13.906Z"
   },
   {
    "duration": 5,
    "start_time": "2023-09-07T07:29:13.953Z"
   },
   {
    "duration": 33,
    "start_time": "2023-09-07T07:29:13.960Z"
   },
   {
    "duration": 32,
    "start_time": "2023-09-07T07:29:13.995Z"
   },
   {
    "duration": 18,
    "start_time": "2023-09-07T07:29:14.033Z"
   },
   {
    "duration": 9,
    "start_time": "2023-09-07T07:29:14.053Z"
   },
   {
    "duration": 12,
    "start_time": "2023-09-07T07:29:14.064Z"
   },
   {
    "duration": 7,
    "start_time": "2023-09-07T07:29:14.078Z"
   },
   {
    "duration": 37,
    "start_time": "2023-09-07T07:29:14.087Z"
   },
   {
    "duration": 14,
    "start_time": "2023-09-07T07:29:14.125Z"
   },
   {
    "duration": 24,
    "start_time": "2023-09-07T07:29:14.141Z"
   },
   {
    "duration": 8,
    "start_time": "2023-09-07T07:29:14.166Z"
   },
   {
    "duration": 168,
    "start_time": "2023-09-07T07:29:14.176Z"
   },
   {
    "duration": 7,
    "start_time": "2023-09-07T07:29:14.346Z"
   },
   {
    "duration": 15,
    "start_time": "2023-09-07T07:29:14.355Z"
   },
   {
    "duration": 4,
    "start_time": "2023-09-07T07:29:14.372Z"
   },
   {
    "duration": 31,
    "start_time": "2023-09-07T07:29:14.378Z"
   },
   {
    "duration": 187,
    "start_time": "2023-09-07T07:29:14.411Z"
   },
   {
    "duration": 15,
    "start_time": "2023-09-07T07:29:14.600Z"
   },
   {
    "duration": 7,
    "start_time": "2023-09-07T07:29:14.617Z"
   },
   {
    "duration": 14,
    "start_time": "2023-09-07T07:29:14.626Z"
   },
   {
    "duration": 147,
    "start_time": "2023-09-07T07:29:14.642Z"
   },
   {
    "duration": 6,
    "start_time": "2023-09-07T07:29:14.791Z"
   },
   {
    "duration": 7,
    "start_time": "2023-09-07T07:29:14.810Z"
   },
   {
    "duration": 148,
    "start_time": "2023-09-07T07:29:14.819Z"
   },
   {
    "duration": 5,
    "start_time": "2023-09-07T07:29:14.968Z"
   },
   {
    "duration": 17,
    "start_time": "2023-09-07T07:29:14.975Z"
   },
   {
    "duration": 155,
    "start_time": "2023-09-07T07:29:14.994Z"
   },
   {
    "duration": 5,
    "start_time": "2023-09-07T07:29:15.150Z"
   },
   {
    "duration": 10,
    "start_time": "2023-09-07T07:29:15.156Z"
   },
   {
    "duration": 199,
    "start_time": "2023-09-07T07:29:15.168Z"
   },
   {
    "duration": 5,
    "start_time": "2023-09-07T07:29:15.374Z"
   },
   {
    "duration": 20,
    "start_time": "2023-09-07T07:29:15.382Z"
   },
   {
    "duration": 11,
    "start_time": "2023-09-07T07:29:15.404Z"
   },
   {
    "duration": 13,
    "start_time": "2023-09-07T07:29:15.417Z"
   },
   {
    "duration": 17,
    "start_time": "2023-09-07T07:29:15.432Z"
   },
   {
    "duration": 637,
    "start_time": "2023-09-07T07:29:15.451Z"
   },
   {
    "duration": 4,
    "start_time": "2023-09-07T07:29:16.090Z"
   },
   {
    "duration": 25,
    "start_time": "2023-09-07T07:29:16.096Z"
   },
   {
    "duration": 10,
    "start_time": "2023-09-07T07:29:16.123Z"
   },
   {
    "duration": 14,
    "start_time": "2023-09-07T07:29:16.135Z"
   },
   {
    "duration": 5,
    "start_time": "2023-09-07T07:29:16.151Z"
   },
   {
    "duration": 5,
    "start_time": "2023-09-07T07:29:16.157Z"
   },
   {
    "duration": 5,
    "start_time": "2023-09-07T07:29:16.164Z"
   },
   {
    "duration": 6,
    "start_time": "2023-09-07T07:29:16.170Z"
   },
   {
    "duration": 6,
    "start_time": "2023-09-07T07:29:16.178Z"
   },
   {
    "duration": 31,
    "start_time": "2023-09-07T07:29:16.186Z"
   },
   {
    "duration": 10,
    "start_time": "2023-09-07T07:29:16.219Z"
   },
   {
    "duration": 15,
    "start_time": "2023-09-07T07:29:16.231Z"
   },
   {
    "duration": 16,
    "start_time": "2023-09-07T07:29:16.248Z"
   },
   {
    "duration": 9,
    "start_time": "2023-09-07T07:29:16.266Z"
   },
   {
    "duration": 6,
    "start_time": "2023-09-07T07:29:16.277Z"
   },
   {
    "duration": 16,
    "start_time": "2023-09-07T07:29:16.285Z"
   },
   {
    "duration": 6,
    "start_time": "2023-09-07T07:29:16.303Z"
   },
   {
    "duration": 20,
    "start_time": "2023-09-07T07:29:16.311Z"
   },
   {
    "duration": 31,
    "start_time": "2023-09-07T07:29:16.334Z"
   },
   {
    "duration": 35,
    "start_time": "2023-09-07T07:29:16.367Z"
   },
   {
    "duration": 32,
    "start_time": "2023-09-07T07:29:16.404Z"
   },
   {
    "duration": 47,
    "start_time": "2023-09-07T07:29:16.438Z"
   },
   {
    "duration": 18,
    "start_time": "2023-09-07T07:29:16.487Z"
   },
   {
    "duration": 14,
    "start_time": "2023-09-07T07:29:16.507Z"
   },
   {
    "duration": 11,
    "start_time": "2023-09-07T07:29:16.523Z"
   },
   {
    "duration": 14,
    "start_time": "2023-09-07T07:29:16.536Z"
   },
   {
    "duration": 9,
    "start_time": "2023-09-07T07:29:16.552Z"
   },
   {
    "duration": 17,
    "start_time": "2023-09-07T07:29:16.563Z"
   },
   {
    "duration": 3,
    "start_time": "2023-09-07T07:29:16.582Z"
   },
   {
    "duration": 14,
    "start_time": "2023-09-07T07:29:16.587Z"
   },
   {
    "duration": 10,
    "start_time": "2023-09-07T07:29:16.603Z"
   },
   {
    "duration": 132,
    "start_time": "2023-09-07T07:29:16.615Z"
   },
   {
    "duration": 6,
    "start_time": "2023-09-07T07:29:16.748Z"
   },
   {
    "duration": 135,
    "start_time": "2023-09-07T07:29:16.755Z"
   },
   {
    "duration": 19,
    "start_time": "2023-09-07T07:29:16.892Z"
   },
   {
    "duration": 9,
    "start_time": "2023-09-07T07:29:16.913Z"
   },
   {
    "duration": 37,
    "start_time": "2023-09-07T07:29:16.924Z"
   },
   {
    "duration": 124,
    "start_time": "2023-09-07T07:29:16.963Z"
   },
   {
    "duration": 5,
    "start_time": "2023-09-07T07:29:17.088Z"
   },
   {
    "duration": 8,
    "start_time": "2023-09-07T07:29:17.094Z"
   },
   {
    "duration": 6,
    "start_time": "2023-09-07T07:29:17.110Z"
   },
   {
    "duration": 16,
    "start_time": "2023-09-07T07:29:17.118Z"
   },
   {
    "duration": 9,
    "start_time": "2023-09-07T07:29:17.136Z"
   },
   {
    "duration": 15,
    "start_time": "2023-09-07T07:29:17.147Z"
   },
   {
    "duration": 22,
    "start_time": "2023-09-07T07:29:17.164Z"
   },
   {
    "duration": 111,
    "start_time": "2023-09-07T07:29:17.188Z"
   },
   {
    "duration": 4,
    "start_time": "2023-09-07T07:29:17.301Z"
   },
   {
    "duration": 3172,
    "start_time": "2023-09-07T07:29:17.309Z"
   },
   {
    "duration": 217,
    "start_time": "2023-09-07T07:29:20.482Z"
   },
   {
    "duration": 10,
    "start_time": "2023-09-07T07:29:20.701Z"
   },
   {
    "duration": 5,
    "start_time": "2023-09-07T07:29:20.713Z"
   },
   {
    "duration": 8,
    "start_time": "2023-09-07T07:29:20.720Z"
   },
   {
    "duration": 23,
    "start_time": "2023-09-07T07:29:20.729Z"
   },
   {
    "duration": 10,
    "start_time": "2023-09-07T07:29:20.754Z"
   },
   {
    "duration": 8,
    "start_time": "2023-09-07T07:29:20.765Z"
   },
   {
    "duration": 7,
    "start_time": "2023-09-07T07:29:20.774Z"
   },
   {
    "duration": 80,
    "start_time": "2023-09-07T07:29:20.783Z"
   },
   {
    "duration": 8,
    "start_time": "2023-09-07T07:29:20.866Z"
   },
   {
    "duration": 15,
    "start_time": "2023-09-07T07:29:20.875Z"
   },
   {
    "duration": 25,
    "start_time": "2023-09-07T07:29:20.892Z"
   },
   {
    "duration": 29,
    "start_time": "2023-09-07T07:29:20.919Z"
   },
   {
    "duration": 8,
    "start_time": "2023-09-07T07:29:20.949Z"
   },
   {
    "duration": 9,
    "start_time": "2023-09-07T07:29:20.959Z"
   },
   {
    "duration": 7,
    "start_time": "2023-09-07T07:29:20.970Z"
   },
   {
    "duration": 24,
    "start_time": "2023-09-07T07:29:20.978Z"
   },
   {
    "duration": 543,
    "start_time": "2023-09-07T08:02:24.198Z"
   },
   {
    "duration": 13,
    "start_time": "2023-09-07T08:02:24.743Z"
   },
   {
    "duration": 1949,
    "start_time": "2023-09-07T08:02:24.757Z"
   },
   {
    "duration": 9,
    "start_time": "2023-09-07T08:02:26.708Z"
   },
   {
    "duration": 32,
    "start_time": "2023-09-07T08:02:26.718Z"
   },
   {
    "duration": 31,
    "start_time": "2023-09-07T08:02:26.751Z"
   },
   {
    "duration": 49,
    "start_time": "2023-09-07T08:02:26.783Z"
   },
   {
    "duration": 24,
    "start_time": "2023-09-07T08:02:26.833Z"
   },
   {
    "duration": 5,
    "start_time": "2023-09-07T08:02:26.859Z"
   },
   {
    "duration": 47,
    "start_time": "2023-09-07T08:02:26.866Z"
   },
   {
    "duration": 4,
    "start_time": "2023-09-07T08:02:26.914Z"
   },
   {
    "duration": 34,
    "start_time": "2023-09-07T08:02:26.919Z"
   },
   {
    "duration": 21,
    "start_time": "2023-09-07T08:02:26.955Z"
   },
   {
    "duration": 29,
    "start_time": "2023-09-07T08:02:26.978Z"
   },
   {
    "duration": 15,
    "start_time": "2023-09-07T08:02:27.008Z"
   },
   {
    "duration": 9,
    "start_time": "2023-09-07T08:02:27.025Z"
   },
   {
    "duration": 16,
    "start_time": "2023-09-07T08:02:27.036Z"
   },
   {
    "duration": 28,
    "start_time": "2023-09-07T08:02:27.054Z"
   },
   {
    "duration": 4,
    "start_time": "2023-09-07T08:02:27.083Z"
   },
   {
    "duration": 21,
    "start_time": "2023-09-07T08:02:27.088Z"
   },
   {
    "duration": 25,
    "start_time": "2023-09-07T08:02:27.111Z"
   },
   {
    "duration": 137,
    "start_time": "2023-09-07T08:02:27.138Z"
   },
   {
    "duration": 7,
    "start_time": "2023-09-07T08:02:27.276Z"
   },
   {
    "duration": 15,
    "start_time": "2023-09-07T08:02:27.284Z"
   },
   {
    "duration": 11,
    "start_time": "2023-09-07T08:02:27.300Z"
   },
   {
    "duration": 21,
    "start_time": "2023-09-07T08:02:27.313Z"
   },
   {
    "duration": 124,
    "start_time": "2023-09-07T08:02:27.335Z"
   },
   {
    "duration": 6,
    "start_time": "2023-09-07T08:02:27.463Z"
   },
   {
    "duration": 29,
    "start_time": "2023-09-07T08:02:27.471Z"
   },
   {
    "duration": 8,
    "start_time": "2023-09-07T08:02:27.501Z"
   },
   {
    "duration": 92,
    "start_time": "2023-09-07T08:02:27.510Z"
   },
   {
    "duration": 4,
    "start_time": "2023-09-07T08:02:27.603Z"
   },
   {
    "duration": 12,
    "start_time": "2023-09-07T08:02:27.609Z"
   },
   {
    "duration": 114,
    "start_time": "2023-09-07T08:02:27.622Z"
   },
   {
    "duration": 5,
    "start_time": "2023-09-07T08:02:27.737Z"
   },
   {
    "duration": 12,
    "start_time": "2023-09-07T08:02:27.743Z"
   },
   {
    "duration": 114,
    "start_time": "2023-09-07T08:02:27.757Z"
   },
   {
    "duration": 4,
    "start_time": "2023-09-07T08:02:27.873Z"
   },
   {
    "duration": 10,
    "start_time": "2023-09-07T08:02:27.878Z"
   },
   {
    "duration": 119,
    "start_time": "2023-09-07T08:02:27.889Z"
   },
   {
    "duration": 4,
    "start_time": "2023-09-07T08:02:28.010Z"
   },
   {
    "duration": 31,
    "start_time": "2023-09-07T08:02:28.015Z"
   },
   {
    "duration": 9,
    "start_time": "2023-09-07T08:02:28.047Z"
   },
   {
    "duration": 4,
    "start_time": "2023-09-07T08:02:28.060Z"
   },
   {
    "duration": 14,
    "start_time": "2023-09-07T08:02:28.066Z"
   },
   {
    "duration": 454,
    "start_time": "2023-09-07T08:02:28.082Z"
   },
   {
    "duration": 4,
    "start_time": "2023-09-07T08:02:28.538Z"
   },
   {
    "duration": 8,
    "start_time": "2023-09-07T08:02:28.543Z"
   },
   {
    "duration": 6,
    "start_time": "2023-09-07T08:02:28.553Z"
   },
   {
    "duration": 7,
    "start_time": "2023-09-07T08:02:28.561Z"
   },
   {
    "duration": 5,
    "start_time": "2023-09-07T08:02:28.569Z"
   },
   {
    "duration": 5,
    "start_time": "2023-09-07T08:02:28.575Z"
   },
   {
    "duration": 8,
    "start_time": "2023-09-07T08:02:28.582Z"
   },
   {
    "duration": 30,
    "start_time": "2023-09-07T08:02:28.592Z"
   },
   {
    "duration": 27,
    "start_time": "2023-09-07T08:02:28.623Z"
   },
   {
    "duration": 12,
    "start_time": "2023-09-07T08:02:28.652Z"
   },
   {
    "duration": 12,
    "start_time": "2023-09-07T08:02:28.666Z"
   },
   {
    "duration": 7,
    "start_time": "2023-09-07T08:02:28.679Z"
   },
   {
    "duration": 15,
    "start_time": "2023-09-07T08:02:28.688Z"
   },
   {
    "duration": 4,
    "start_time": "2023-09-07T08:02:28.704Z"
   },
   {
    "duration": 18,
    "start_time": "2023-09-07T08:02:28.710Z"
   },
   {
    "duration": 16,
    "start_time": "2023-09-07T08:02:28.730Z"
   },
   {
    "duration": 10,
    "start_time": "2023-09-07T08:02:28.747Z"
   },
   {
    "duration": 15,
    "start_time": "2023-09-07T08:02:28.759Z"
   },
   {
    "duration": 5,
    "start_time": "2023-09-07T08:02:28.775Z"
   },
   {
    "duration": 6,
    "start_time": "2023-09-07T08:02:28.781Z"
   },
   {
    "duration": 7,
    "start_time": "2023-09-07T08:02:28.788Z"
   },
   {
    "duration": 9,
    "start_time": "2023-09-07T08:02:28.796Z"
   },
   {
    "duration": 14,
    "start_time": "2023-09-07T08:02:28.806Z"
   },
   {
    "duration": 15,
    "start_time": "2023-09-07T08:02:28.821Z"
   },
   {
    "duration": 9,
    "start_time": "2023-09-07T08:02:28.837Z"
   },
   {
    "duration": 107,
    "start_time": "2023-09-07T08:02:28.847Z"
   },
   {
    "duration": 5,
    "start_time": "2023-09-07T08:02:28.955Z"
   },
   {
    "duration": 108,
    "start_time": "2023-09-07T08:02:28.961Z"
   },
   {
    "duration": 5,
    "start_time": "2023-09-07T08:02:29.070Z"
   },
   {
    "duration": 21,
    "start_time": "2023-09-07T08:02:29.076Z"
   },
   {
    "duration": 113,
    "start_time": "2023-09-07T08:02:29.098Z"
   },
   {
    "duration": 5,
    "start_time": "2023-09-07T08:02:29.212Z"
   },
   {
    "duration": 17,
    "start_time": "2023-09-07T08:02:29.218Z"
   },
   {
    "duration": 25,
    "start_time": "2023-09-07T08:02:29.237Z"
   },
   {
    "duration": 11,
    "start_time": "2023-09-07T08:02:29.264Z"
   },
   {
    "duration": 9,
    "start_time": "2023-09-07T08:02:29.281Z"
   },
   {
    "duration": 18,
    "start_time": "2023-09-07T08:02:29.292Z"
   },
   {
    "duration": 109,
    "start_time": "2023-09-07T08:02:29.311Z"
   },
   {
    "duration": 4,
    "start_time": "2023-09-07T08:02:29.421Z"
   },
   {
    "duration": 2425,
    "start_time": "2023-09-07T08:02:29.427Z"
   },
   {
    "duration": 146,
    "start_time": "2023-09-07T08:02:31.854Z"
   },
   {
    "duration": 4,
    "start_time": "2023-09-07T08:02:32.002Z"
   },
   {
    "duration": 38,
    "start_time": "2023-09-07T08:02:32.008Z"
   },
   {
    "duration": 71,
    "start_time": "2023-09-07T08:02:32.048Z"
   },
   {
    "duration": 40,
    "start_time": "2023-09-07T08:02:32.121Z"
   },
   {
    "duration": 28,
    "start_time": "2023-09-07T08:02:32.162Z"
   },
   {
    "duration": 28,
    "start_time": "2023-09-07T08:02:32.192Z"
   },
   {
    "duration": 53,
    "start_time": "2023-09-07T08:02:32.222Z"
   },
   {
    "duration": 75,
    "start_time": "2023-09-07T08:02:32.277Z"
   },
   {
    "duration": 10,
    "start_time": "2023-09-07T08:02:32.353Z"
   },
   {
    "duration": 21,
    "start_time": "2023-09-07T08:02:32.364Z"
   },
   {
    "duration": 27,
    "start_time": "2023-09-07T08:02:32.386Z"
   },
   {
    "duration": 55,
    "start_time": "2023-09-07T08:02:32.414Z"
   },
   {
    "duration": 10,
    "start_time": "2023-09-07T08:02:32.471Z"
   },
   {
    "duration": 29,
    "start_time": "2023-09-07T08:02:32.483Z"
   },
   {
    "duration": 27,
    "start_time": "2023-09-07T08:02:32.513Z"
   },
   {
    "duration": 18,
    "start_time": "2023-09-07T08:02:32.542Z"
   },
   {
    "duration": 847,
    "start_time": "2023-09-07T12:38:10.748Z"
   },
   {
    "duration": 29,
    "start_time": "2023-09-07T12:38:11.597Z"
   },
   {
    "duration": 4774,
    "start_time": "2023-09-07T12:38:11.630Z"
   },
   {
    "duration": 20,
    "start_time": "2023-09-07T12:38:16.409Z"
   },
   {
    "duration": 18,
    "start_time": "2023-09-07T12:38:16.431Z"
   },
   {
    "duration": 21,
    "start_time": "2023-09-07T12:38:16.511Z"
   },
   {
    "duration": 88,
    "start_time": "2023-09-07T12:38:16.534Z"
   },
   {
    "duration": 93,
    "start_time": "2023-09-07T12:38:16.629Z"
   },
   {
    "duration": 248,
    "start_time": "2023-09-07T12:38:16.723Z"
   },
   {
    "duration": 66,
    "start_time": "2023-09-07T12:38:16.973Z"
   },
   {
    "duration": 5,
    "start_time": "2023-09-07T12:38:17.041Z"
   },
   {
    "duration": 17,
    "start_time": "2023-09-07T12:38:17.101Z"
   },
   {
    "duration": 27,
    "start_time": "2023-09-07T12:38:17.120Z"
   },
   {
    "duration": 20,
    "start_time": "2023-09-07T12:38:17.204Z"
   },
   {
    "duration": 28,
    "start_time": "2023-09-07T12:38:17.226Z"
   },
   {
    "duration": 65,
    "start_time": "2023-09-07T12:38:17.256Z"
   },
   {
    "duration": 22,
    "start_time": "2023-09-07T12:38:17.326Z"
   },
   {
    "duration": 85,
    "start_time": "2023-09-07T12:38:17.351Z"
   },
   {
    "duration": 7,
    "start_time": "2023-09-07T12:38:17.439Z"
   },
   {
    "duration": 69,
    "start_time": "2023-09-07T12:38:17.449Z"
   },
   {
    "duration": 40,
    "start_time": "2023-09-07T12:38:17.520Z"
   },
   {
    "duration": 435,
    "start_time": "2023-09-07T12:38:17.605Z"
   },
   {
    "duration": 70,
    "start_time": "2023-09-07T12:38:18.042Z"
   },
   {
    "duration": 92,
    "start_time": "2023-09-07T12:38:18.114Z"
   },
   {
    "duration": 10,
    "start_time": "2023-09-07T12:38:18.212Z"
   },
   {
    "duration": 24,
    "start_time": "2023-09-07T12:38:18.224Z"
   },
   {
    "duration": 395,
    "start_time": "2023-09-07T12:38:18.250Z"
   },
   {
    "duration": 63,
    "start_time": "2023-09-07T12:38:18.647Z"
   },
   {
    "duration": 8,
    "start_time": "2023-09-07T12:38:18.712Z"
   },
   {
    "duration": 25,
    "start_time": "2023-09-07T12:38:18.727Z"
   },
   {
    "duration": 288,
    "start_time": "2023-09-07T12:38:18.753Z"
   },
   {
    "duration": 5,
    "start_time": "2023-09-07T12:38:19.043Z"
   },
   {
    "duration": 27,
    "start_time": "2023-09-07T12:38:19.109Z"
   },
   {
    "duration": 311,
    "start_time": "2023-09-07T12:38:19.138Z"
   },
   {
    "duration": 14,
    "start_time": "2023-09-07T12:38:19.502Z"
   },
   {
    "duration": 40,
    "start_time": "2023-09-07T12:38:19.521Z"
   },
   {
    "duration": 286,
    "start_time": "2023-09-07T12:38:19.563Z"
   },
   {
    "duration": 29,
    "start_time": "2023-09-07T12:38:19.901Z"
   },
   {
    "duration": 8,
    "start_time": "2023-09-07T12:38:19.933Z"
   },
   {
    "duration": 372,
    "start_time": "2023-09-07T12:38:19.943Z"
   },
   {
    "duration": 13,
    "start_time": "2023-09-07T12:38:20.501Z"
   },
   {
    "duration": 138,
    "start_time": "2023-09-07T12:38:20.515Z"
   },
   {
    "duration": 21,
    "start_time": "2023-09-07T12:38:20.654Z"
   },
   {
    "duration": 27,
    "start_time": "2023-09-07T12:38:20.701Z"
   },
   {
    "duration": 12,
    "start_time": "2023-09-07T12:38:20.729Z"
   },
   {
    "duration": 1277,
    "start_time": "2023-09-07T12:38:20.742Z"
   },
   {
    "duration": 13,
    "start_time": "2023-09-07T12:38:22.021Z"
   },
   {
    "duration": 12,
    "start_time": "2023-09-07T12:38:22.036Z"
   },
   {
    "duration": 28,
    "start_time": "2023-09-07T12:38:22.103Z"
   },
   {
    "duration": 16,
    "start_time": "2023-09-07T12:38:22.134Z"
   },
   {
    "duration": 115,
    "start_time": "2023-09-07T12:38:22.152Z"
   },
   {
    "duration": 61,
    "start_time": "2023-09-07T12:38:22.269Z"
   },
   {
    "duration": 15,
    "start_time": "2023-09-07T12:38:22.333Z"
   },
   {
    "duration": 7,
    "start_time": "2023-09-07T12:38:22.350Z"
   },
   {
    "duration": 68,
    "start_time": "2023-09-07T12:38:22.359Z"
   },
   {
    "duration": 5,
    "start_time": "2023-09-07T12:38:22.431Z"
   },
   {
    "duration": 75,
    "start_time": "2023-09-07T12:38:22.438Z"
   },
   {
    "duration": 21,
    "start_time": "2023-09-07T12:38:22.515Z"
   },
   {
    "duration": 17,
    "start_time": "2023-09-07T12:38:22.538Z"
   },
   {
    "duration": 52,
    "start_time": "2023-09-07T12:38:22.557Z"
   },
   {
    "duration": 24,
    "start_time": "2023-09-07T12:38:22.611Z"
   },
   {
    "duration": 12,
    "start_time": "2023-09-07T12:38:22.636Z"
   },
   {
    "duration": 60,
    "start_time": "2023-09-07T12:38:22.650Z"
   },
   {
    "duration": 9,
    "start_time": "2023-09-07T12:38:22.712Z"
   },
   {
    "duration": 14,
    "start_time": "2023-09-07T12:38:22.723Z"
   },
   {
    "duration": 78,
    "start_time": "2023-09-07T12:38:22.738Z"
   },
   {
    "duration": 12,
    "start_time": "2023-09-07T12:38:22.819Z"
   },
   {
    "duration": 19,
    "start_time": "2023-09-07T12:38:22.834Z"
   },
   {
    "duration": 69,
    "start_time": "2023-09-07T12:38:22.855Z"
   },
   {
    "duration": 6,
    "start_time": "2023-09-07T12:38:22.930Z"
   },
   {
    "duration": 67,
    "start_time": "2023-09-07T12:38:22.938Z"
   },
   {
    "duration": 300,
    "start_time": "2023-09-07T12:38:23.015Z"
   },
   {
    "duration": 7,
    "start_time": "2023-09-07T12:38:23.320Z"
   },
   {
    "duration": 393,
    "start_time": "2023-09-07T12:38:23.331Z"
   },
   {
    "duration": 7,
    "start_time": "2023-09-07T12:38:23.730Z"
   },
   {
    "duration": 69,
    "start_time": "2023-09-07T12:38:23.738Z"
   },
   {
    "duration": 306,
    "start_time": "2023-09-07T12:38:23.809Z"
   },
   {
    "duration": 9,
    "start_time": "2023-09-07T12:38:24.118Z"
   },
   {
    "duration": 26,
    "start_time": "2023-09-07T12:38:24.130Z"
   },
   {
    "duration": 53,
    "start_time": "2023-09-07T12:38:24.157Z"
   },
   {
    "duration": 13,
    "start_time": "2023-09-07T12:38:24.217Z"
   },
   {
    "duration": 65,
    "start_time": "2023-09-07T12:38:24.238Z"
   },
   {
    "duration": 21,
    "start_time": "2023-09-07T12:38:24.305Z"
   },
   {
    "duration": 306,
    "start_time": "2023-09-07T12:38:24.333Z"
   },
   {
    "duration": 5,
    "start_time": "2023-09-07T12:38:24.642Z"
   },
   {
    "duration": 7673,
    "start_time": "2023-09-07T12:38:24.649Z"
   },
   {
    "duration": 488,
    "start_time": "2023-09-07T12:38:32.329Z"
   },
   {
    "duration": 6,
    "start_time": "2023-09-07T12:38:32.829Z"
   },
   {
    "duration": 70,
    "start_time": "2023-09-07T12:38:32.837Z"
   },
   {
    "duration": 8,
    "start_time": "2023-09-07T12:38:32.908Z"
   },
   {
    "duration": 99,
    "start_time": "2023-09-07T12:38:32.918Z"
   },
   {
    "duration": 13,
    "start_time": "2023-09-07T12:38:33.019Z"
   },
   {
    "duration": 6,
    "start_time": "2023-09-07T12:38:33.034Z"
   },
   {
    "duration": 65,
    "start_time": "2023-09-07T12:38:33.042Z"
   },
   {
    "duration": 108,
    "start_time": "2023-09-07T12:38:33.110Z"
   },
   {
    "duration": 9,
    "start_time": "2023-09-07T12:38:33.222Z"
   },
   {
    "duration": 74,
    "start_time": "2023-09-07T12:38:33.233Z"
   },
   {
    "duration": 6,
    "start_time": "2023-09-07T12:38:33.312Z"
   },
   {
    "duration": 34,
    "start_time": "2023-09-07T12:38:33.320Z"
   },
   {
    "duration": 10,
    "start_time": "2023-09-07T12:38:33.409Z"
   },
   {
    "duration": 7,
    "start_time": "2023-09-07T12:38:33.421Z"
   },
   {
    "duration": 10,
    "start_time": "2023-09-07T12:38:33.429Z"
   },
   {
    "duration": 67,
    "start_time": "2023-09-07T12:38:33.441Z"
   },
   {
    "duration": 990,
    "start_time": "2023-09-07T16:15:04.454Z"
   },
   {
    "duration": 64,
    "start_time": "2023-09-07T16:15:05.449Z"
   },
   {
    "duration": 5941,
    "start_time": "2023-09-07T16:15:05.515Z"
   },
   {
    "duration": 51,
    "start_time": "2023-09-07T16:15:11.459Z"
   },
   {
    "duration": 35,
    "start_time": "2023-09-07T16:15:11.512Z"
   },
   {
    "duration": 61,
    "start_time": "2023-09-07T16:15:11.550Z"
   },
   {
    "duration": 91,
    "start_time": "2023-09-07T16:15:11.614Z"
   },
   {
    "duration": 307,
    "start_time": "2023-09-07T16:15:11.707Z"
   },
   {
    "duration": 13,
    "start_time": "2023-09-07T16:15:12.022Z"
   },
   {
    "duration": 109,
    "start_time": "2023-09-07T16:15:12.041Z"
   },
   {
    "duration": 50,
    "start_time": "2023-09-07T16:15:12.156Z"
   },
   {
    "duration": 40,
    "start_time": "2023-09-07T16:15:12.209Z"
   },
   {
    "duration": 5,
    "start_time": "2023-09-07T16:15:12.254Z"
   },
   {
    "duration": 72,
    "start_time": "2023-09-07T16:15:12.261Z"
   },
   {
    "duration": 69,
    "start_time": "2023-09-07T16:15:12.336Z"
   },
   {
    "duration": 20,
    "start_time": "2023-09-07T16:15:12.406Z"
   },
   {
    "duration": 32,
    "start_time": "2023-09-07T16:15:12.427Z"
   },
   {
    "duration": 90,
    "start_time": "2023-09-07T16:15:12.461Z"
   },
   {
    "duration": 57,
    "start_time": "2023-09-07T16:15:12.555Z"
   },
   {
    "duration": 14,
    "start_time": "2023-09-07T16:15:12.615Z"
   },
   {
    "duration": 85,
    "start_time": "2023-09-07T16:15:12.632Z"
   },
   {
    "duration": 618,
    "start_time": "2023-09-07T16:15:12.722Z"
   },
   {
    "duration": 70,
    "start_time": "2023-09-07T16:15:13.345Z"
   },
   {
    "duration": 37,
    "start_time": "2023-09-07T16:15:13.421Z"
   },
   {
    "duration": 56,
    "start_time": "2023-09-07T16:15:13.460Z"
   },
   {
    "duration": 30,
    "start_time": "2023-09-07T16:15:13.519Z"
   },
   {
    "duration": 481,
    "start_time": "2023-09-07T16:15:13.551Z"
   },
   {
    "duration": 13,
    "start_time": "2023-09-07T16:15:14.041Z"
   },
   {
    "duration": 57,
    "start_time": "2023-09-07T16:15:14.056Z"
   },
   {
    "duration": 11,
    "start_time": "2023-09-07T16:15:14.115Z"
   },
   {
    "duration": 319,
    "start_time": "2023-09-07T16:15:14.128Z"
   },
   {
    "duration": 66,
    "start_time": "2023-09-07T16:15:14.451Z"
   },
   {
    "duration": 26,
    "start_time": "2023-09-07T16:15:14.525Z"
   },
   {
    "duration": 409,
    "start_time": "2023-09-07T16:15:14.554Z"
   },
   {
    "duration": 9,
    "start_time": "2023-09-07T16:15:14.970Z"
   },
   {
    "duration": 287,
    "start_time": "2023-09-07T16:15:14.982Z"
   },
   {
    "duration": 285,
    "start_time": "2023-09-07T16:15:15.271Z"
   },
   {
    "duration": 58,
    "start_time": "2023-09-07T16:15:15.558Z"
   },
   {
    "duration": 10,
    "start_time": "2023-09-07T16:15:15.628Z"
   },
   {
    "duration": 423,
    "start_time": "2023-09-07T16:15:15.640Z"
   },
   {
    "duration": 39,
    "start_time": "2023-09-07T16:15:16.065Z"
   },
   {
    "duration": 22,
    "start_time": "2023-09-07T16:15:16.106Z"
   },
   {
    "duration": 16,
    "start_time": "2023-09-07T16:15:16.131Z"
   },
   {
    "duration": 55,
    "start_time": "2023-09-07T16:15:16.151Z"
   },
   {
    "duration": 23,
    "start_time": "2023-09-07T16:15:16.213Z"
   },
   {
    "duration": 1615,
    "start_time": "2023-09-07T16:15:16.243Z"
   },
   {
    "duration": 8,
    "start_time": "2023-09-07T16:15:17.903Z"
   },
   {
    "duration": 115,
    "start_time": "2023-09-07T16:15:17.919Z"
   },
   {
    "duration": 76,
    "start_time": "2023-09-07T16:15:18.040Z"
   },
   {
    "duration": 30,
    "start_time": "2023-09-07T16:15:18.119Z"
   },
   {
    "duration": 91,
    "start_time": "2023-09-07T16:15:18.153Z"
   },
   {
    "duration": 27,
    "start_time": "2023-09-07T16:15:18.246Z"
   },
   {
    "duration": 58,
    "start_time": "2023-09-07T16:15:18.275Z"
   },
   {
    "duration": 24,
    "start_time": "2023-09-07T16:15:18.335Z"
   },
   {
    "duration": 28,
    "start_time": "2023-09-07T16:15:18.362Z"
   },
   {
    "duration": 46,
    "start_time": "2023-09-07T16:15:18.392Z"
   },
   {
    "duration": 29,
    "start_time": "2023-09-07T16:15:18.444Z"
   },
   {
    "duration": 34,
    "start_time": "2023-09-07T16:15:18.475Z"
   },
   {
    "duration": 77,
    "start_time": "2023-09-07T16:15:18.516Z"
   },
   {
    "duration": 47,
    "start_time": "2023-09-07T16:15:18.595Z"
   },
   {
    "duration": 66,
    "start_time": "2023-09-07T16:15:18.645Z"
   },
   {
    "duration": 19,
    "start_time": "2023-09-07T16:15:18.716Z"
   },
   {
    "duration": 63,
    "start_time": "2023-09-07T16:15:18.740Z"
   },
   {
    "duration": 10,
    "start_time": "2023-09-07T16:15:18.805Z"
   },
   {
    "duration": 15,
    "start_time": "2023-09-07T16:15:18.817Z"
   },
   {
    "duration": 71,
    "start_time": "2023-09-07T16:15:18.833Z"
   },
   {
    "duration": 17,
    "start_time": "2023-09-07T16:15:18.907Z"
   },
   {
    "duration": 29,
    "start_time": "2023-09-07T16:15:18.926Z"
   },
   {
    "duration": 18,
    "start_time": "2023-09-07T16:15:19.010Z"
   },
   {
    "duration": 69,
    "start_time": "2023-09-07T16:15:19.036Z"
   },
   {
    "duration": 37,
    "start_time": "2023-09-07T16:15:19.110Z"
   },
   {
    "duration": 464,
    "start_time": "2023-09-07T16:15:19.150Z"
   },
   {
    "duration": 12,
    "start_time": "2023-09-07T16:15:19.616Z"
   },
   {
    "duration": 320,
    "start_time": "2023-09-07T16:15:19.630Z"
   },
   {
    "duration": 17,
    "start_time": "2023-09-07T16:15:20.011Z"
   },
   {
    "duration": 19,
    "start_time": "2023-09-07T16:15:20.037Z"
   },
   {
    "duration": 374,
    "start_time": "2023-09-07T16:15:20.059Z"
   },
   {
    "duration": 14,
    "start_time": "2023-09-07T16:15:20.442Z"
   },
   {
    "duration": 62,
    "start_time": "2023-09-07T16:15:20.463Z"
   },
   {
    "duration": 40,
    "start_time": "2023-09-07T16:15:20.531Z"
   },
   {
    "duration": 41,
    "start_time": "2023-09-07T16:15:20.573Z"
   },
   {
    "duration": 67,
    "start_time": "2023-09-07T16:15:20.626Z"
   },
   {
    "duration": 40,
    "start_time": "2023-09-07T16:15:20.695Z"
   },
   {
    "duration": 215,
    "start_time": "2023-09-07T16:15:20.737Z"
   },
   {
    "duration": 5,
    "start_time": "2023-09-07T16:15:20.958Z"
   },
   {
    "duration": 7817,
    "start_time": "2023-09-07T16:15:21.008Z"
   },
   {
    "duration": 217,
    "start_time": "2023-09-07T16:15:28.827Z"
   },
   {
    "duration": 6,
    "start_time": "2023-09-07T16:15:29.048Z"
   },
   {
    "duration": 24,
    "start_time": "2023-09-07T16:15:29.056Z"
   },
   {
    "duration": 14,
    "start_time": "2023-09-07T16:15:29.083Z"
   },
   {
    "duration": 72,
    "start_time": "2023-09-07T16:15:29.098Z"
   },
   {
    "duration": 38,
    "start_time": "2023-09-07T16:15:29.172Z"
   },
   {
    "duration": 28,
    "start_time": "2023-09-07T16:15:29.214Z"
   },
   {
    "duration": 30,
    "start_time": "2023-09-07T16:15:29.245Z"
   },
   {
    "duration": 89,
    "start_time": "2023-09-07T16:15:29.277Z"
   },
   {
    "duration": 9,
    "start_time": "2023-09-07T16:15:29.368Z"
   },
   {
    "duration": 18,
    "start_time": "2023-09-07T16:15:29.379Z"
   },
   {
    "duration": 27,
    "start_time": "2023-09-07T16:15:29.399Z"
   },
   {
    "duration": 37,
    "start_time": "2023-09-07T16:15:29.428Z"
   },
   {
    "duration": 26,
    "start_time": "2023-09-07T16:15:29.467Z"
   },
   {
    "duration": 31,
    "start_time": "2023-09-07T16:15:29.495Z"
   },
   {
    "duration": 16,
    "start_time": "2023-09-07T16:15:29.528Z"
   },
   {
    "duration": 14,
    "start_time": "2023-09-07T16:15:29.546Z"
   },
   {
    "duration": 93,
    "start_time": "2023-09-07T17:05:37.667Z"
   },
   {
    "duration": 643,
    "start_time": "2023-09-07T17:05:48.533Z"
   },
   {
    "duration": 25,
    "start_time": "2023-09-07T17:05:49.179Z"
   },
   {
    "duration": 2775,
    "start_time": "2023-09-07T17:05:49.207Z"
   },
   {
    "duration": 11,
    "start_time": "2023-09-07T17:05:51.984Z"
   },
   {
    "duration": 53,
    "start_time": "2023-09-07T17:05:51.998Z"
   },
   {
    "duration": 59,
    "start_time": "2023-09-07T17:05:52.053Z"
   },
   {
    "duration": 210,
    "start_time": "2023-09-07T17:05:52.114Z"
   },
   {
    "duration": 44,
    "start_time": "2023-09-07T17:05:52.326Z"
   },
   {
    "duration": 207,
    "start_time": "2023-09-07T17:05:52.371Z"
   },
   {
    "duration": 197,
    "start_time": "2023-09-07T17:05:52.580Z"
   },
   {
    "duration": 4,
    "start_time": "2023-09-07T17:05:52.780Z"
   },
   {
    "duration": 26,
    "start_time": "2023-09-07T17:05:52.786Z"
   },
   {
    "duration": 140,
    "start_time": "2023-09-07T17:05:52.814Z"
   },
   {
    "duration": 38,
    "start_time": "2023-09-07T17:05:52.958Z"
   },
   {
    "duration": 47,
    "start_time": "2023-09-07T17:05:52.998Z"
   },
   {
    "duration": 37,
    "start_time": "2023-09-07T17:05:53.046Z"
   },
   {
    "duration": 6,
    "start_time": "2023-09-07T17:05:53.085Z"
   },
   {
    "duration": 164,
    "start_time": "2023-09-07T17:05:53.092Z"
   },
   {
    "duration": 6,
    "start_time": "2023-09-07T17:05:53.258Z"
   },
   {
    "duration": 16,
    "start_time": "2023-09-07T17:05:53.266Z"
   },
   {
    "duration": 11,
    "start_time": "2023-09-07T17:05:53.284Z"
   },
   {
    "duration": 198,
    "start_time": "2023-09-07T17:05:53.297Z"
   },
   {
    "duration": 19,
    "start_time": "2023-09-07T17:05:53.497Z"
   },
   {
    "duration": 35,
    "start_time": "2023-09-07T17:05:53.522Z"
   },
   {
    "duration": 4,
    "start_time": "2023-09-07T17:05:53.559Z"
   },
   {
    "duration": 32,
    "start_time": "2023-09-07T17:05:53.565Z"
   },
   {
    "duration": 178,
    "start_time": "2023-09-07T17:05:53.598Z"
   },
   {
    "duration": 8,
    "start_time": "2023-09-07T17:05:53.778Z"
   },
   {
    "duration": 34,
    "start_time": "2023-09-07T17:05:53.788Z"
   },
   {
    "duration": 36,
    "start_time": "2023-09-07T17:05:53.824Z"
   },
   {
    "duration": 132,
    "start_time": "2023-09-07T17:05:53.862Z"
   },
   {
    "duration": 33,
    "start_time": "2023-09-07T17:05:53.996Z"
   },
   {
    "duration": 9,
    "start_time": "2023-09-07T17:05:54.037Z"
   },
   {
    "duration": 140,
    "start_time": "2023-09-07T17:05:54.048Z"
   },
   {
    "duration": 25,
    "start_time": "2023-09-07T17:05:54.190Z"
   },
   {
    "duration": 19,
    "start_time": "2023-09-07T17:05:54.223Z"
   },
   {
    "duration": 165,
    "start_time": "2023-09-07T17:05:54.244Z"
   },
   {
    "duration": 6,
    "start_time": "2023-09-07T17:05:54.411Z"
   },
   {
    "duration": 22,
    "start_time": "2023-09-07T17:05:54.418Z"
   },
   {
    "duration": 180,
    "start_time": "2023-09-07T17:05:54.442Z"
   },
   {
    "duration": 12,
    "start_time": "2023-09-07T17:05:54.632Z"
   },
   {
    "duration": 20,
    "start_time": "2023-09-07T17:05:54.647Z"
   },
   {
    "duration": 24,
    "start_time": "2023-09-07T17:05:54.668Z"
   },
   {
    "duration": 38,
    "start_time": "2023-09-07T17:05:54.694Z"
   },
   {
    "duration": 17,
    "start_time": "2023-09-07T17:05:54.734Z"
   },
   {
    "duration": 708,
    "start_time": "2023-09-07T17:05:54.753Z"
   },
   {
    "duration": 5,
    "start_time": "2023-09-07T17:05:55.462Z"
   },
   {
    "duration": 55,
    "start_time": "2023-09-07T17:05:55.469Z"
   },
   {
    "duration": 19,
    "start_time": "2023-09-07T17:05:55.531Z"
   },
   {
    "duration": 30,
    "start_time": "2023-09-07T17:05:55.552Z"
   },
   {
    "duration": 26,
    "start_time": "2023-09-07T17:05:55.584Z"
   },
   {
    "duration": 14,
    "start_time": "2023-09-07T17:05:55.622Z"
   },
   {
    "duration": 12,
    "start_time": "2023-09-07T17:05:55.638Z"
   },
   {
    "duration": 13,
    "start_time": "2023-09-07T17:05:55.651Z"
   },
   {
    "duration": 6,
    "start_time": "2023-09-07T17:05:55.666Z"
   },
   {
    "duration": 11,
    "start_time": "2023-09-07T17:05:55.674Z"
   },
   {
    "duration": 4,
    "start_time": "2023-09-07T17:05:55.687Z"
   },
   {
    "duration": 16,
    "start_time": "2023-09-07T17:05:55.693Z"
   },
   {
    "duration": 13,
    "start_time": "2023-09-07T17:05:55.712Z"
   },
   {
    "duration": 13,
    "start_time": "2023-09-07T17:05:55.727Z"
   },
   {
    "duration": 15,
    "start_time": "2023-09-07T17:05:55.741Z"
   },
   {
    "duration": 7,
    "start_time": "2023-09-07T17:05:55.758Z"
   },
   {
    "duration": 6,
    "start_time": "2023-09-07T17:05:55.766Z"
   },
   {
    "duration": 6,
    "start_time": "2023-09-07T17:05:55.774Z"
   },
   {
    "duration": 5,
    "start_time": "2023-09-07T17:05:55.782Z"
   },
   {
    "duration": 32,
    "start_time": "2023-09-07T17:05:55.789Z"
   },
   {
    "duration": 9,
    "start_time": "2023-09-07T17:05:55.823Z"
   },
   {
    "duration": 19,
    "start_time": "2023-09-07T17:05:55.839Z"
   },
   {
    "duration": 12,
    "start_time": "2023-09-07T17:05:55.860Z"
   },
   {
    "duration": 5,
    "start_time": "2023-09-07T17:05:55.874Z"
   },
   {
    "duration": 15,
    "start_time": "2023-09-07T17:05:55.881Z"
   },
   {
    "duration": 152,
    "start_time": "2023-09-07T17:05:55.898Z"
   },
   {
    "duration": 5,
    "start_time": "2023-09-07T17:05:56.052Z"
   },
   {
    "duration": 187,
    "start_time": "2023-09-07T17:05:56.059Z"
   },
   {
    "duration": 6,
    "start_time": "2023-09-07T17:05:56.248Z"
   },
   {
    "duration": 13,
    "start_time": "2023-09-07T17:05:56.256Z"
   },
   {
    "duration": 177,
    "start_time": "2023-09-07T17:05:56.271Z"
   },
   {
    "duration": 5,
    "start_time": "2023-09-07T17:05:56.450Z"
   },
   {
    "duration": 93,
    "start_time": "2023-09-07T17:05:56.457Z"
   },
   {
    "duration": 9,
    "start_time": "2023-09-07T17:05:56.552Z"
   },
   {
    "duration": 72,
    "start_time": "2023-09-07T17:05:56.562Z"
   },
   {
    "duration": 45,
    "start_time": "2023-09-07T17:05:56.636Z"
   },
   {
    "duration": 48,
    "start_time": "2023-09-07T17:05:56.682Z"
   },
   {
    "duration": 5,
    "start_time": "2023-09-07T17:05:56.733Z"
   },
   {
    "duration": 317,
    "start_time": "2023-09-07T17:05:56.740Z"
   },
   {
    "duration": 71,
    "start_time": "2023-09-07T17:05:57.059Z"
   },
   {
    "duration": 3438,
    "start_time": "2023-09-07T17:05:57.131Z"
   },
   {
    "duration": 195,
    "start_time": "2023-09-07T17:06:00.571Z"
   },
   {
    "duration": 5,
    "start_time": "2023-09-07T17:06:00.767Z"
   },
   {
    "duration": 340,
    "start_time": "2023-09-07T17:06:00.773Z"
   },
   {
    "duration": 100,
    "start_time": "2023-09-07T17:06:01.115Z"
   },
   {
    "duration": 72,
    "start_time": "2023-09-07T17:06:01.225Z"
   },
   {
    "duration": 45,
    "start_time": "2023-09-07T17:06:01.299Z"
   },
   {
    "duration": 29,
    "start_time": "2023-09-07T17:06:01.346Z"
   },
   {
    "duration": 20,
    "start_time": "2023-09-07T17:06:01.377Z"
   },
   {
    "duration": 61,
    "start_time": "2023-09-07T17:06:01.398Z"
   },
   {
    "duration": 7,
    "start_time": "2023-09-07T17:06:01.461Z"
   },
   {
    "duration": 125,
    "start_time": "2023-09-07T17:06:01.470Z"
   },
   {
    "duration": 42,
    "start_time": "2023-09-07T17:06:01.597Z"
   },
   {
    "duration": 39,
    "start_time": "2023-09-07T17:06:01.641Z"
   },
   {
    "duration": 53,
    "start_time": "2023-09-07T17:06:01.682Z"
   },
   {
    "duration": 49,
    "start_time": "2023-09-07T17:06:01.737Z"
   },
   {
    "duration": 57,
    "start_time": "2023-09-07T17:06:01.788Z"
   },
   {
    "duration": 111,
    "start_time": "2023-09-07T17:06:01.846Z"
   },
   {
    "duration": 7,
    "start_time": "2023-09-07T17:07:24.159Z"
   },
   {
    "duration": 780,
    "start_time": "2023-09-08T08:07:04.800Z"
   },
   {
    "duration": 2463,
    "start_time": "2023-09-08T08:08:20.246Z"
   },
   {
    "duration": 131,
    "start_time": "2023-09-08T08:08:24.134Z"
   },
   {
    "duration": 16,
    "start_time": "2023-09-08T08:08:28.214Z"
   },
   {
    "duration": 2105,
    "start_time": "2023-09-08T08:08:33.838Z"
   },
   {
    "duration": 12,
    "start_time": "2023-09-08T08:08:46.648Z"
   },
   {
    "duration": 12,
    "start_time": "2023-09-08T08:08:53.336Z"
   },
   {
    "duration": 11,
    "start_time": "2023-09-08T08:08:55.726Z"
   },
   {
    "duration": 6,
    "start_time": "2023-09-08T08:09:18.395Z"
   },
   {
    "duration": 29,
    "start_time": "2023-09-08T08:09:26.650Z"
   },
   {
    "duration": 5,
    "start_time": "2023-09-08T08:09:30.534Z"
   },
   {
    "duration": 9,
    "start_time": "2023-09-08T08:09:31.164Z"
   },
   {
    "duration": 6,
    "start_time": "2023-09-08T08:09:31.693Z"
   },
   {
    "duration": 10,
    "start_time": "2023-09-08T08:09:32.672Z"
   },
   {
    "duration": 9,
    "start_time": "2023-09-08T08:09:33.784Z"
   },
   {
    "duration": 5,
    "start_time": "2023-09-08T08:09:50.940Z"
   },
   {
    "duration": 22,
    "start_time": "2023-09-08T08:09:53.424Z"
   },
   {
    "duration": 6,
    "start_time": "2023-09-08T08:09:56.639Z"
   },
   {
    "duration": 10,
    "start_time": "2023-09-08T08:09:57.195Z"
   },
   {
    "duration": 7,
    "start_time": "2023-09-08T08:09:57.843Z"
   },
   {
    "duration": 157,
    "start_time": "2023-09-08T08:10:00.594Z"
   },
   {
    "duration": 9,
    "start_time": "2023-09-08T08:10:01.567Z"
   },
   {
    "duration": 16,
    "start_time": "2023-09-08T08:10:27.771Z"
   },
   {
    "duration": 83,
    "start_time": "2023-09-08T08:16:09.830Z"
   },
   {
    "duration": 149,
    "start_time": "2023-09-08T08:16:12.954Z"
   },
   {
    "duration": 72,
    "start_time": "2023-09-08T08:16:24.807Z"
   },
   {
    "duration": 174,
    "start_time": "2023-09-08T08:16:29.970Z"
   },
   {
    "duration": 680,
    "start_time": "2023-09-08T10:11:17.156Z"
   },
   {
    "duration": 21,
    "start_time": "2023-09-08T10:11:17.838Z"
   },
   {
    "duration": 2552,
    "start_time": "2023-09-08T10:11:17.861Z"
   },
   {
    "duration": 10,
    "start_time": "2023-09-08T10:11:20.416Z"
   },
   {
    "duration": 17,
    "start_time": "2023-09-08T10:11:20.427Z"
   },
   {
    "duration": 15,
    "start_time": "2023-09-08T10:11:20.446Z"
   },
   {
    "duration": 5,
    "start_time": "2023-09-08T10:11:20.463Z"
   },
   {
    "duration": 31,
    "start_time": "2023-09-08T10:11:20.470Z"
   },
   {
    "duration": 6,
    "start_time": "2023-09-08T10:11:20.503Z"
   },
   {
    "duration": 10,
    "start_time": "2023-09-08T10:11:20.512Z"
   },
   {
    "duration": 40,
    "start_time": "2023-09-08T10:11:20.524Z"
   },
   {
    "duration": 62,
    "start_time": "2023-09-08T10:11:20.565Z"
   },
   {
    "duration": 55,
    "start_time": "2023-09-08T10:11:20.628Z"
   },
   {
    "duration": 8,
    "start_time": "2023-09-08T10:11:20.684Z"
   },
   {
    "duration": 31,
    "start_time": "2023-09-08T10:11:20.694Z"
   },
   {
    "duration": 5,
    "start_time": "2023-09-08T10:11:20.727Z"
   },
   {
    "duration": 16,
    "start_time": "2023-09-08T10:11:20.733Z"
   },
   {
    "duration": 20,
    "start_time": "2023-09-08T10:11:20.750Z"
   },
   {
    "duration": 176,
    "start_time": "2023-09-08T10:11:20.771Z"
   },
   {
    "duration": 8,
    "start_time": "2023-09-08T10:11:20.949Z"
   },
   {
    "duration": 26,
    "start_time": "2023-09-08T10:11:20.959Z"
   },
   {
    "duration": 170,
    "start_time": "2023-09-08T10:11:20.988Z"
   },
   {
    "duration": 21,
    "start_time": "2023-09-08T10:11:21.160Z"
   },
   {
    "duration": 151,
    "start_time": "2023-09-08T10:11:21.183Z"
   },
   {
    "duration": 5,
    "start_time": "2023-09-08T10:11:21.336Z"
   },
   {
    "duration": 22,
    "start_time": "2023-09-08T10:11:21.342Z"
   },
   {
    "duration": 42,
    "start_time": "2023-09-08T10:11:21.366Z"
   },
   {
    "duration": 7,
    "start_time": "2023-09-08T10:11:21.413Z"
   },
   {
    "duration": 4,
    "start_time": "2023-09-08T10:11:21.422Z"
   },
   {
    "duration": 304,
    "start_time": "2023-09-08T10:11:21.428Z"
   },
   {
    "duration": 5,
    "start_time": "2023-09-08T10:11:21.734Z"
   },
   {
    "duration": 3013,
    "start_time": "2023-09-08T10:11:21.740Z"
   },
   {
    "duration": 286,
    "start_time": "2023-09-08T10:11:24.754Z"
   },
   {
    "duration": 6,
    "start_time": "2023-09-08T10:11:25.042Z"
   },
   {
    "duration": 35,
    "start_time": "2023-09-08T10:11:25.049Z"
   },
   {
    "duration": 31,
    "start_time": "2023-09-08T10:11:25.086Z"
   },
   {
    "duration": 35,
    "start_time": "2023-09-08T10:11:25.120Z"
   },
   {
    "duration": 20,
    "start_time": "2023-09-08T10:11:25.157Z"
   },
   {
    "duration": 19,
    "start_time": "2023-09-08T10:11:25.179Z"
   },
   {
    "duration": 44,
    "start_time": "2023-09-08T10:11:25.200Z"
   },
   {
    "duration": 75,
    "start_time": "2023-09-08T10:11:25.246Z"
   },
   {
    "duration": 26,
    "start_time": "2023-09-08T10:11:25.322Z"
   },
   {
    "duration": 52,
    "start_time": "2023-09-08T10:11:25.350Z"
   },
   {
    "duration": 29,
    "start_time": "2023-09-08T10:11:25.404Z"
   },
   {
    "duration": 47,
    "start_time": "2023-09-08T10:11:25.434Z"
   },
   {
    "duration": 32,
    "start_time": "2023-09-08T10:11:25.483Z"
   },
   {
    "duration": 17,
    "start_time": "2023-09-08T10:11:25.517Z"
   },
   {
    "duration": 24,
    "start_time": "2023-09-08T10:11:25.536Z"
   },
   {
    "duration": 42,
    "start_time": "2023-09-08T10:11:25.562Z"
   },
   {
    "duration": 114,
    "start_time": "2023-09-08T10:12:40.502Z"
   },
   {
    "duration": 116,
    "start_time": "2023-09-08T10:12:48.902Z"
   },
   {
    "duration": 6,
    "start_time": "2023-09-08T10:12:50.544Z"
   },
   {
    "duration": 102,
    "start_time": "2023-09-08T10:12:51.926Z"
   },
   {
    "duration": 108,
    "start_time": "2023-09-08T10:14:17.507Z"
   },
   {
    "duration": 11,
    "start_time": "2023-09-08T10:14:18.520Z"
   },
   {
    "duration": 101,
    "start_time": "2023-09-08T10:14:19.725Z"
   },
   {
    "duration": 98,
    "start_time": "2023-09-08T10:15:06.516Z"
   },
   {
    "duration": 489,
    "start_time": "2023-09-08T10:15:37.420Z"
   },
   {
    "duration": 16,
    "start_time": "2023-09-08T10:15:40.066Z"
   },
   {
    "duration": 2108,
    "start_time": "2023-09-08T10:15:40.877Z"
   },
   {
    "duration": 10,
    "start_time": "2023-09-08T10:15:42.987Z"
   },
   {
    "duration": 14,
    "start_time": "2023-09-08T10:15:43.740Z"
   },
   {
    "duration": 10,
    "start_time": "2023-09-08T10:15:44.486Z"
   },
   {
    "duration": 5,
    "start_time": "2023-09-08T10:15:46.811Z"
   },
   {
    "duration": 34,
    "start_time": "2023-09-08T10:15:47.482Z"
   },
   {
    "duration": 7,
    "start_time": "2023-09-08T10:15:47.777Z"
   },
   {
    "duration": 11,
    "start_time": "2023-09-08T10:15:48.122Z"
   },
   {
    "duration": 5,
    "start_time": "2023-09-08T10:15:48.380Z"
   },
   {
    "duration": 8,
    "start_time": "2023-09-08T10:15:48.634Z"
   },
   {
    "duration": 9,
    "start_time": "2023-09-08T10:15:48.958Z"
   },
   {
    "duration": 5,
    "start_time": "2023-09-08T10:15:50.521Z"
   },
   {
    "duration": 22,
    "start_time": "2023-09-08T10:15:51.765Z"
   },
   {
    "duration": 5,
    "start_time": "2023-09-08T10:15:52.042Z"
   },
   {
    "duration": 7,
    "start_time": "2023-09-08T10:15:52.395Z"
   },
   {
    "duration": 7,
    "start_time": "2023-09-08T10:15:52.833Z"
   },
   {
    "duration": 140,
    "start_time": "2023-09-08T10:15:53.232Z"
   },
   {
    "duration": 9,
    "start_time": "2023-09-08T10:15:53.822Z"
   },
   {
    "duration": 15,
    "start_time": "2023-09-08T10:15:55.301Z"
   },
   {
    "duration": 177,
    "start_time": "2023-09-08T10:15:57.175Z"
   },
   {
    "duration": 11,
    "start_time": "2023-09-08T10:16:00.162Z"
   },
   {
    "duration": 120,
    "start_time": "2023-09-08T10:16:02.258Z"
   },
   {
    "duration": 5,
    "start_time": "2023-09-08T10:16:03.988Z"
   },
   {
    "duration": 95,
    "start_time": "2023-09-08T10:16:04.725Z"
   },
   {
    "duration": 9,
    "start_time": "2023-09-08T10:16:06.505Z"
   },
   {
    "duration": 96,
    "start_time": "2023-09-08T10:16:07.242Z"
   },
   {
    "duration": 98,
    "start_time": "2023-09-08T10:16:09.996Z"
   },
   {
    "duration": 100,
    "start_time": "2023-09-08T10:17:48.566Z"
   },
   {
    "duration": 8,
    "start_time": "2023-09-08T10:18:38.591Z"
   },
   {
    "duration": 194,
    "start_time": "2023-09-08T10:18:41.959Z"
   },
   {
    "duration": 6,
    "start_time": "2023-09-08T10:18:50.585Z"
   },
   {
    "duration": 112,
    "start_time": "2023-09-08T10:18:51.087Z"
   },
   {
    "duration": 6,
    "start_time": "2023-09-08T10:18:54.706Z"
   },
   {
    "duration": 6,
    "start_time": "2023-09-08T10:18:57.595Z"
   },
   {
    "duration": 5,
    "start_time": "2023-09-08T10:19:01.249Z"
   },
   {
    "duration": 120,
    "start_time": "2023-09-08T10:19:03.592Z"
   },
   {
    "duration": 6,
    "start_time": "2023-09-08T10:19:06.581Z"
   },
   {
    "duration": 121,
    "start_time": "2023-09-08T10:19:06.918Z"
   },
   {
    "duration": 7,
    "start_time": "2023-09-08T10:19:09.188Z"
   },
   {
    "duration": 128,
    "start_time": "2023-09-08T10:19:09.507Z"
   },
   {
    "duration": 6,
    "start_time": "2023-09-08T10:19:11.662Z"
   },
   {
    "duration": 121,
    "start_time": "2023-09-08T10:19:12.015Z"
   },
   {
    "duration": 6,
    "start_time": "2023-09-08T10:19:18.157Z"
   },
   {
    "duration": 154,
    "start_time": "2023-09-08T10:19:18.472Z"
   },
   {
    "duration": 5,
    "start_time": "2023-09-08T10:20:05.541Z"
   },
   {
    "duration": 5,
    "start_time": "2023-09-08T10:20:06.314Z"
   },
   {
    "duration": 5,
    "start_time": "2023-09-08T10:20:06.980Z"
   },
   {
    "duration": 5,
    "start_time": "2023-09-08T10:20:07.614Z"
   },
   {
    "duration": 3,
    "start_time": "2023-09-08T10:20:09.397Z"
   },
   {
    "duration": 170,
    "start_time": "2023-09-08T10:20:11.007Z"
   },
   {
    "duration": 4,
    "start_time": "2023-09-08T10:20:12.150Z"
   },
   {
    "duration": 84,
    "start_time": "2023-09-08T10:22:08.435Z"
   },
   {
    "duration": 135,
    "start_time": "2023-09-08T10:22:27.526Z"
   },
   {
    "duration": 16,
    "start_time": "2023-09-08T10:22:37.381Z"
   },
   {
    "duration": 3136,
    "start_time": "2023-09-08T10:22:42.410Z"
   },
   {
    "duration": 2429,
    "start_time": "2023-09-08T10:23:12.307Z"
   },
   {
    "duration": 2529,
    "start_time": "2023-09-08T10:24:08.827Z"
   },
   {
    "duration": 2334,
    "start_time": "2023-09-08T10:24:13.922Z"
   },
   {
    "duration": 248,
    "start_time": "2023-09-08T10:27:55.017Z"
   },
   {
    "duration": 125,
    "start_time": "2023-09-08T10:28:25.361Z"
   },
   {
    "duration": 163,
    "start_time": "2023-09-08T10:28:28.682Z"
   },
   {
    "duration": 118,
    "start_time": "2023-09-08T10:28:31.503Z"
   },
   {
    "duration": 109,
    "start_time": "2023-09-08T10:28:41.833Z"
   },
   {
    "duration": 5,
    "start_time": "2023-09-08T10:29:49.668Z"
   },
   {
    "duration": 5,
    "start_time": "2023-09-08T10:29:56.852Z"
   },
   {
    "duration": 141,
    "start_time": "2023-09-08T10:32:37.993Z"
   },
   {
    "duration": 139,
    "start_time": "2023-09-08T10:32:45.381Z"
   },
   {
    "duration": 140,
    "start_time": "2023-09-08T10:32:48.050Z"
   },
   {
    "duration": 5,
    "start_time": "2023-09-08T10:32:53.840Z"
   },
   {
    "duration": 5,
    "start_time": "2023-09-08T10:32:58.832Z"
   },
   {
    "duration": 2037,
    "start_time": "2023-09-08T10:42:48.953Z"
   },
   {
    "duration": 4,
    "start_time": "2023-09-08T10:42:59.446Z"
   },
   {
    "duration": 5,
    "start_time": "2023-09-08T10:43:04.015Z"
   },
   {
    "duration": 5,
    "start_time": "2023-09-08T10:43:08.181Z"
   },
   {
    "duration": 136,
    "start_time": "2023-09-08T10:44:22.210Z"
   },
   {
    "duration": 5,
    "start_time": "2023-09-08T10:44:25.560Z"
   },
   {
    "duration": 5,
    "start_time": "2023-09-08T10:44:27.721Z"
   },
   {
    "duration": 4,
    "start_time": "2023-09-08T10:48:26.224Z"
   },
   {
    "duration": 17,
    "start_time": "2023-09-08T10:48:27.531Z"
   },
   {
    "duration": 27,
    "start_time": "2023-09-08T10:50:55.478Z"
   },
   {
    "duration": 5,
    "start_time": "2023-09-08T10:51:29.601Z"
   },
   {
    "duration": 27,
    "start_time": "2023-09-08T10:51:30.401Z"
   },
   {
    "duration": 49,
    "start_time": "2023-09-08T10:52:06.605Z"
   },
   {
    "duration": 833,
    "start_time": "2023-09-08T10:52:12.472Z"
   },
   {
    "duration": 15,
    "start_time": "2023-09-08T10:52:14.626Z"
   },
   {
    "duration": 2246,
    "start_time": "2023-09-08T10:52:15.247Z"
   },
   {
    "duration": 12,
    "start_time": "2023-09-08T10:52:17.495Z"
   },
   {
    "duration": 45,
    "start_time": "2023-09-08T10:52:17.509Z"
   },
   {
    "duration": 11,
    "start_time": "2023-09-08T10:52:17.682Z"
   },
   {
    "duration": 6,
    "start_time": "2023-09-08T10:52:19.076Z"
   },
   {
    "duration": 29,
    "start_time": "2023-09-08T10:52:19.389Z"
   },
   {
    "duration": 6,
    "start_time": "2023-09-08T10:52:19.527Z"
   },
   {
    "duration": 11,
    "start_time": "2023-09-08T10:52:19.678Z"
   },
   {
    "duration": 6,
    "start_time": "2023-09-08T10:52:19.833Z"
   },
   {
    "duration": 10,
    "start_time": "2023-09-08T10:52:20.006Z"
   },
   {
    "duration": 10,
    "start_time": "2023-09-08T10:52:20.174Z"
   },
   {
    "duration": 7,
    "start_time": "2023-09-08T10:52:21.538Z"
   },
   {
    "duration": 34,
    "start_time": "2023-09-08T10:52:22.364Z"
   },
   {
    "duration": 9,
    "start_time": "2023-09-08T10:52:22.572Z"
   },
   {
    "duration": 9,
    "start_time": "2023-09-08T10:52:22.885Z"
   },
   {
    "duration": 7,
    "start_time": "2023-09-08T10:52:23.348Z"
   },
   {
    "duration": 192,
    "start_time": "2023-09-08T10:52:23.790Z"
   },
   {
    "duration": 9,
    "start_time": "2023-09-08T10:52:24.225Z"
   },
   {
    "duration": 16,
    "start_time": "2023-09-08T10:52:25.650Z"
   },
   {
    "duration": 151,
    "start_time": "2023-09-08T10:52:27.342Z"
   },
   {
    "duration": 11,
    "start_time": "2023-09-08T10:52:27.824Z"
   },
   {
    "duration": 118,
    "start_time": "2023-09-08T10:52:28.666Z"
   },
   {
    "duration": 5,
    "start_time": "2023-09-08T10:52:29.112Z"
   },
   {
    "duration": 115,
    "start_time": "2023-09-08T10:52:29.568Z"
   },
   {
    "duration": 9,
    "start_time": "2023-09-08T10:52:30.134Z"
   },
   {
    "duration": 107,
    "start_time": "2023-09-08T10:52:30.693Z"
   },
   {
    "duration": 117,
    "start_time": "2023-09-08T10:52:31.686Z"
   },
   {
    "duration": 102,
    "start_time": "2023-09-08T10:52:32.552Z"
   },
   {
    "duration": 6,
    "start_time": "2023-09-08T10:52:33.018Z"
   },
   {
    "duration": 179,
    "start_time": "2023-09-08T10:52:33.735Z"
   },
   {
    "duration": 7,
    "start_time": "2023-09-08T10:52:36.729Z"
   },
   {
    "duration": 6,
    "start_time": "2023-09-08T10:52:37.920Z"
   },
   {
    "duration": 6,
    "start_time": "2023-09-08T10:52:40.503Z"
   },
   {
    "duration": 5,
    "start_time": "2023-09-08T10:52:41.762Z"
   },
   {
    "duration": 4,
    "start_time": "2023-09-08T10:52:42.763Z"
   },
   {
    "duration": 170,
    "start_time": "2023-09-08T10:52:43.622Z"
   },
   {
    "duration": 5,
    "start_time": "2023-09-08T10:52:45.188Z"
   },
   {
    "duration": 3074,
    "start_time": "2023-09-08T10:52:47.316Z"
   },
   {
    "duration": 188,
    "start_time": "2023-09-08T10:52:50.393Z"
   },
   {
    "duration": 5,
    "start_time": "2023-09-08T10:52:53.105Z"
   },
   {
    "duration": 6,
    "start_time": "2023-09-08T10:52:53.482Z"
   },
   {
    "duration": 5,
    "start_time": "2023-09-08T10:52:55.093Z"
   },
   {
    "duration": 12,
    "start_time": "2023-09-08T10:52:55.659Z"
   },
   {
    "duration": 1632,
    "start_time": "2023-09-08T10:52:57.014Z"
   },
   {
    "duration": 1666,
    "start_time": "2023-09-08T10:53:16.554Z"
   },
   {
    "duration": 14,
    "start_time": "2023-09-08T10:54:07.411Z"
   },
   {
    "duration": 16,
    "start_time": "2023-09-08T10:54:19.619Z"
   },
   {
    "duration": 1980,
    "start_time": "2023-09-08T10:54:23.287Z"
   },
   {
    "duration": 1955,
    "start_time": "2023-09-08T10:55:18.398Z"
   },
   {
    "duration": 1484,
    "start_time": "2023-09-08T10:55:33.581Z"
   },
   {
    "duration": 1905,
    "start_time": "2023-09-08T10:55:54.195Z"
   },
   {
    "duration": 1990,
    "start_time": "2023-09-08T10:56:26.447Z"
   },
   {
    "duration": 1852,
    "start_time": "2023-09-08T10:56:33.421Z"
   },
   {
    "duration": 1869,
    "start_time": "2023-09-08T10:56:37.950Z"
   },
   {
    "duration": 1899,
    "start_time": "2023-09-08T10:57:33.237Z"
   },
   {
    "duration": 6,
    "start_time": "2023-09-08T11:04:48.955Z"
   },
   {
    "duration": 6,
    "start_time": "2023-09-08T11:04:50.790Z"
   },
   {
    "duration": 39,
    "start_time": "2023-09-08T11:04:52.227Z"
   },
   {
    "duration": 9,
    "start_time": "2023-09-08T11:04:55.911Z"
   },
   {
    "duration": 5,
    "start_time": "2023-09-08T11:04:59.096Z"
   },
   {
    "duration": 5,
    "start_time": "2023-09-08T11:05:01.084Z"
   },
   {
    "duration": 7,
    "start_time": "2023-09-08T11:06:13.809Z"
   },
   {
    "duration": 5,
    "start_time": "2023-09-08T11:06:54.730Z"
   },
   {
    "duration": 37,
    "start_time": "2023-09-08T11:06:55.716Z"
   },
   {
    "duration": 9,
    "start_time": "2023-09-08T11:06:56.741Z"
   },
   {
    "duration": 7,
    "start_time": "2023-09-08T11:07:04.273Z"
   },
   {
    "duration": 4,
    "start_time": "2023-09-08T11:07:09.318Z"
   },
   {
    "duration": 4,
    "start_time": "2023-09-08T11:07:10.430Z"
   },
   {
    "duration": 37,
    "start_time": "2023-09-08T11:07:21.292Z"
   },
   {
    "duration": 7,
    "start_time": "2023-09-08T11:07:22.706Z"
   },
   {
    "duration": 5,
    "start_time": "2023-09-08T11:07:23.235Z"
   },
   {
    "duration": 4,
    "start_time": "2023-09-08T11:07:24.199Z"
   },
   {
    "duration": 7,
    "start_time": "2023-09-08T11:13:09.289Z"
   },
   {
    "duration": 4,
    "start_time": "2023-09-08T11:13:11.513Z"
   },
   {
    "duration": 4,
    "start_time": "2023-09-08T11:13:12.280Z"
   },
   {
    "duration": 22,
    "start_time": "2023-09-08T11:13:15.826Z"
   },
   {
    "duration": 10,
    "start_time": "2023-09-08T11:17:33.909Z"
   },
   {
    "duration": 26,
    "start_time": "2023-09-08T11:17:38.018Z"
   },
   {
    "duration": 18,
    "start_time": "2023-09-08T11:18:16.942Z"
   },
   {
    "duration": 22,
    "start_time": "2023-09-08T11:18:26.180Z"
   },
   {
    "duration": 32,
    "start_time": "2023-09-08T11:18:36.882Z"
   },
   {
    "duration": 22,
    "start_time": "2023-09-08T11:19:59.840Z"
   },
   {
    "duration": 231,
    "start_time": "2023-09-08T11:20:06.579Z"
   },
   {
    "duration": 23,
    "start_time": "2023-09-08T11:20:21.297Z"
   },
   {
    "duration": 2113,
    "start_time": "2023-09-08T11:20:23.348Z"
   },
   {
    "duration": 24,
    "start_time": "2023-09-08T11:20:51.604Z"
   },
   {
    "duration": 722,
    "start_time": "2023-09-08T11:20:55.117Z"
   },
   {
    "duration": 352,
    "start_time": "2023-09-08T11:22:40.294Z"
   },
   {
    "duration": 202,
    "start_time": "2023-09-08T11:23:13.401Z"
   },
   {
    "duration": 172,
    "start_time": "2023-09-08T11:23:34.531Z"
   },
   {
    "duration": 145,
    "start_time": "2023-09-08T11:23:46.448Z"
   },
   {
    "duration": 171,
    "start_time": "2023-09-08T11:23:54.315Z"
   },
   {
    "duration": 1220,
    "start_time": "2023-09-09T05:25:35.210Z"
   },
   {
    "duration": 19,
    "start_time": "2023-09-09T05:25:36.433Z"
   },
   {
    "duration": 3204,
    "start_time": "2023-09-09T05:25:36.454Z"
   },
   {
    "duration": 51,
    "start_time": "2023-09-09T05:25:39.660Z"
   },
   {
    "duration": 40,
    "start_time": "2023-09-09T05:25:39.713Z"
   },
   {
    "duration": 55,
    "start_time": "2023-09-09T05:25:39.755Z"
   },
   {
    "duration": 5,
    "start_time": "2023-09-09T05:25:39.812Z"
   },
   {
    "duration": 40,
    "start_time": "2023-09-09T05:25:39.819Z"
   },
   {
    "duration": 7,
    "start_time": "2023-09-09T05:25:39.861Z"
   },
   {
    "duration": 47,
    "start_time": "2023-09-09T05:25:39.870Z"
   },
   {
    "duration": 17,
    "start_time": "2023-09-09T05:25:39.919Z"
   },
   {
    "duration": 74,
    "start_time": "2023-09-09T05:25:39.938Z"
   },
   {
    "duration": 9,
    "start_time": "2023-09-09T05:25:40.014Z"
   },
   {
    "duration": 21,
    "start_time": "2023-09-09T05:25:40.026Z"
   },
   {
    "duration": 81,
    "start_time": "2023-09-09T05:25:40.049Z"
   },
   {
    "duration": 13,
    "start_time": "2023-09-09T05:25:40.131Z"
   },
   {
    "duration": 66,
    "start_time": "2023-09-09T05:25:40.146Z"
   },
   {
    "duration": 25,
    "start_time": "2023-09-09T05:25:40.213Z"
   },
   {
    "duration": 313,
    "start_time": "2023-09-09T05:25:40.240Z"
   },
   {
    "duration": 59,
    "start_time": "2023-09-09T05:25:40.555Z"
   },
   {
    "duration": 15,
    "start_time": "2023-09-09T05:25:40.616Z"
   },
   {
    "duration": 385,
    "start_time": "2023-09-09T05:25:40.633Z"
   },
   {
    "duration": 13,
    "start_time": "2023-09-09T05:25:41.020Z"
   },
   {
    "duration": 291,
    "start_time": "2023-09-09T05:25:41.035Z"
   },
   {
    "duration": 6,
    "start_time": "2023-09-09T05:25:41.328Z"
   },
   {
    "duration": 281,
    "start_time": "2023-09-09T05:25:41.336Z"
   },
   {
    "duration": 9,
    "start_time": "2023-09-09T05:25:41.619Z"
   },
   {
    "duration": 218,
    "start_time": "2023-09-09T05:25:41.630Z"
   },
   {
    "duration": 269,
    "start_time": "2023-09-09T05:25:41.850Z"
   },
   {
    "duration": 209,
    "start_time": "2023-09-09T05:25:42.121Z"
   },
   {
    "duration": 5,
    "start_time": "2023-09-09T05:25:42.332Z"
   },
   {
    "duration": 493,
    "start_time": "2023-09-09T05:25:42.340Z"
   },
   {
    "duration": 6,
    "start_time": "2023-09-09T05:25:42.836Z"
   },
   {
    "duration": 72,
    "start_time": "2023-09-09T05:25:42.844Z"
   },
   {
    "duration": 47,
    "start_time": "2023-09-09T05:25:42.918Z"
   },
   {
    "duration": 110,
    "start_time": "2023-09-09T05:25:42.967Z"
   },
   {
    "duration": 11,
    "start_time": "2023-09-09T05:25:43.079Z"
   },
   {
    "duration": 345,
    "start_time": "2023-09-09T05:25:43.091Z"
   },
   {
    "duration": 4,
    "start_time": "2023-09-09T05:25:43.438Z"
   },
   {
    "duration": 6168,
    "start_time": "2023-09-09T05:25:43.444Z"
   },
   {
    "duration": 306,
    "start_time": "2023-09-09T05:25:49.615Z"
   },
   {
    "duration": 5,
    "start_time": "2023-09-09T05:25:49.923Z"
   },
   {
    "duration": 6,
    "start_time": "2023-09-09T05:25:49.929Z"
   },
   {
    "duration": 3,
    "start_time": "2023-09-09T05:25:49.937Z"
   },
   {
    "duration": 73,
    "start_time": "2023-09-09T05:25:49.942Z"
   },
   {
    "duration": 3999,
    "start_time": "2023-09-09T05:25:50.017Z"
   },
   {
    "duration": 8,
    "start_time": "2023-09-09T05:25:54.018Z"
   },
   {
    "duration": 7,
    "start_time": "2023-09-09T05:25:54.028Z"
   },
   {
    "duration": 103,
    "start_time": "2023-09-09T05:25:54.036Z"
   },
   {
    "duration": 9,
    "start_time": "2023-09-09T05:25:54.141Z"
   },
   {
    "duration": 5,
    "start_time": "2023-09-09T05:25:54.210Z"
   },
   {
    "duration": 17,
    "start_time": "2023-09-09T05:25:54.216Z"
   },
   {
    "duration": 77,
    "start_time": "2023-09-09T05:25:54.234Z"
   },
   {
    "duration": 25,
    "start_time": "2023-09-09T05:25:54.312Z"
   },
   {
    "duration": 394,
    "start_time": "2023-09-09T05:25:54.339Z"
   },
   {
    "duration": 82,
    "start_time": "2023-09-09T05:38:03.692Z"
   },
   {
    "duration": 904,
    "start_time": "2023-09-09T05:38:12.067Z"
   },
   {
    "duration": 17,
    "start_time": "2023-09-09T05:38:12.974Z"
   },
   {
    "duration": 2115,
    "start_time": "2023-09-09T05:38:12.992Z"
   },
   {
    "duration": 11,
    "start_time": "2023-09-09T05:38:15.110Z"
   },
   {
    "duration": 22,
    "start_time": "2023-09-09T05:38:15.123Z"
   },
   {
    "duration": 25,
    "start_time": "2023-09-09T05:38:15.147Z"
   },
   {
    "duration": 5,
    "start_time": "2023-09-09T05:38:15.174Z"
   },
   {
    "duration": 52,
    "start_time": "2023-09-09T05:38:15.181Z"
   },
   {
    "duration": 6,
    "start_time": "2023-09-09T05:38:15.235Z"
   },
   {
    "duration": 19,
    "start_time": "2023-09-09T05:38:15.244Z"
   },
   {
    "duration": 5,
    "start_time": "2023-09-09T05:38:15.265Z"
   },
   {
    "duration": 18,
    "start_time": "2023-09-09T05:38:15.271Z"
   },
   {
    "duration": 18,
    "start_time": "2023-09-09T05:38:15.311Z"
   },
   {
    "duration": 7,
    "start_time": "2023-09-09T05:38:15.331Z"
   },
   {
    "duration": 30,
    "start_time": "2023-09-09T05:38:15.340Z"
   },
   {
    "duration": 6,
    "start_time": "2023-09-09T05:38:15.375Z"
   },
   {
    "duration": 36,
    "start_time": "2023-09-09T05:38:15.383Z"
   },
   {
    "duration": 10,
    "start_time": "2023-09-09T05:38:15.421Z"
   },
   {
    "duration": 179,
    "start_time": "2023-09-09T05:38:15.433Z"
   },
   {
    "duration": 7,
    "start_time": "2023-09-09T05:38:15.614Z"
   },
   {
    "duration": 23,
    "start_time": "2023-09-09T05:38:15.623Z"
   },
   {
    "duration": 163,
    "start_time": "2023-09-09T05:38:15.648Z"
   },
   {
    "duration": 10,
    "start_time": "2023-09-09T05:38:15.813Z"
   },
   {
    "duration": 137,
    "start_time": "2023-09-09T05:38:15.825Z"
   },
   {
    "duration": 6,
    "start_time": "2023-09-09T05:38:15.963Z"
   },
   {
    "duration": 117,
    "start_time": "2023-09-09T05:38:15.971Z"
   },
   {
    "duration": 20,
    "start_time": "2023-09-09T05:38:16.090Z"
   },
   {
    "duration": 120,
    "start_time": "2023-09-09T05:38:16.116Z"
   },
   {
    "duration": 129,
    "start_time": "2023-09-09T05:38:16.238Z"
   },
   {
    "duration": 112,
    "start_time": "2023-09-09T05:38:16.370Z"
   },
   {
    "duration": 6,
    "start_time": "2023-09-09T05:38:16.484Z"
   },
   {
    "duration": 211,
    "start_time": "2023-09-09T05:38:16.491Z"
   },
   {
    "duration": 62,
    "start_time": "2023-09-09T05:38:16.709Z"
   },
   {
    "duration": 5,
    "start_time": "2023-09-09T05:38:16.773Z"
   },
   {
    "duration": 10,
    "start_time": "2023-09-09T05:38:16.780Z"
   },
   {
    "duration": 21,
    "start_time": "2023-09-09T05:38:16.791Z"
   },
   {
    "duration": 5,
    "start_time": "2023-09-09T05:38:16.814Z"
   },
   {
    "duration": 4,
    "start_time": "2023-09-09T05:38:16.820Z"
   },
   {
    "duration": 193,
    "start_time": "2023-09-09T05:38:16.826Z"
   },
   {
    "duration": 5,
    "start_time": "2023-09-09T05:38:17.020Z"
   },
   {
    "duration": 3022,
    "start_time": "2023-09-09T05:38:17.027Z"
   },
   {
    "duration": 165,
    "start_time": "2023-09-09T05:38:20.050Z"
   },
   {
    "duration": 5,
    "start_time": "2023-09-09T05:38:20.217Z"
   },
   {
    "duration": 24,
    "start_time": "2023-09-09T05:38:20.224Z"
   },
   {
    "duration": 32,
    "start_time": "2023-09-09T05:38:20.250Z"
   },
   {
    "duration": 13,
    "start_time": "2023-09-09T05:38:20.284Z"
   },
   {
    "duration": 1873,
    "start_time": "2023-09-09T05:38:20.299Z"
   },
   {
    "duration": 8,
    "start_time": "2023-09-09T05:38:22.175Z"
   },
   {
    "duration": 12,
    "start_time": "2023-09-09T05:38:22.185Z"
   },
   {
    "duration": 53,
    "start_time": "2023-09-09T05:38:22.199Z"
   },
   {
    "duration": 10,
    "start_time": "2023-09-09T05:38:22.254Z"
   },
   {
    "duration": 5,
    "start_time": "2023-09-09T05:38:22.266Z"
   },
   {
    "duration": 14,
    "start_time": "2023-09-09T05:38:22.272Z"
   },
   {
    "duration": 43,
    "start_time": "2023-09-09T05:38:22.288Z"
   },
   {
    "duration": 23,
    "start_time": "2023-09-09T05:38:22.333Z"
   },
   {
    "duration": 239,
    "start_time": "2023-09-09T05:38:22.358Z"
   },
   {
    "duration": 840,
    "start_time": "2023-09-09T05:39:12.975Z"
   },
   {
    "duration": 18,
    "start_time": "2023-09-09T05:39:13.817Z"
   },
   {
    "duration": 2178,
    "start_time": "2023-09-09T05:39:13.837Z"
   },
   {
    "duration": 11,
    "start_time": "2023-09-09T05:39:16.017Z"
   },
   {
    "duration": 14,
    "start_time": "2023-09-09T05:39:16.029Z"
   },
   {
    "duration": 11,
    "start_time": "2023-09-09T05:39:16.045Z"
   },
   {
    "duration": 5,
    "start_time": "2023-09-09T05:39:16.058Z"
   },
   {
    "duration": 63,
    "start_time": "2023-09-09T05:39:16.065Z"
   },
   {
    "duration": 7,
    "start_time": "2023-09-09T05:39:16.131Z"
   },
   {
    "duration": 11,
    "start_time": "2023-09-09T05:39:16.141Z"
   },
   {
    "duration": 5,
    "start_time": "2023-09-09T05:39:16.154Z"
   },
   {
    "duration": 10,
    "start_time": "2023-09-09T05:39:16.160Z"
   },
   {
    "duration": 40,
    "start_time": "2023-09-09T05:39:16.172Z"
   },
   {
    "duration": 8,
    "start_time": "2023-09-09T05:39:16.213Z"
   },
   {
    "duration": 30,
    "start_time": "2023-09-09T05:39:16.222Z"
   },
   {
    "duration": 7,
    "start_time": "2023-09-09T05:39:16.254Z"
   },
   {
    "duration": 11,
    "start_time": "2023-09-09T05:39:16.263Z"
   },
   {
    "duration": 34,
    "start_time": "2023-09-09T05:39:16.277Z"
   },
   {
    "duration": 165,
    "start_time": "2023-09-09T05:39:16.312Z"
   },
   {
    "duration": 8,
    "start_time": "2023-09-09T05:39:16.479Z"
   },
   {
    "duration": 30,
    "start_time": "2023-09-09T05:39:16.489Z"
   },
   {
    "duration": 184,
    "start_time": "2023-09-09T05:39:16.522Z"
   },
   {
    "duration": 11,
    "start_time": "2023-09-09T05:39:16.709Z"
   },
   {
    "duration": 129,
    "start_time": "2023-09-09T05:39:16.722Z"
   },
   {
    "duration": 5,
    "start_time": "2023-09-09T05:39:16.853Z"
   },
   {
    "duration": 122,
    "start_time": "2023-09-09T05:39:16.860Z"
   },
   {
    "duration": 82,
    "start_time": "2023-09-09T05:39:16.984Z"
   },
   {
    "duration": 9,
    "start_time": "2023-09-09T05:39:17.069Z"
   },
   {
    "duration": 74,
    "start_time": "2023-09-09T05:39:17.079Z"
   },
   {
    "duration": 116,
    "start_time": "2023-09-09T05:39:17.155Z"
   },
   {
    "duration": 123,
    "start_time": "2023-09-09T05:39:17.273Z"
   },
   {
    "duration": 121,
    "start_time": "2023-09-09T05:39:17.398Z"
   },
   {
    "duration": 6,
    "start_time": "2023-09-09T05:39:17.520Z"
   },
   {
    "duration": 202,
    "start_time": "2023-09-09T05:39:17.527Z"
   },
   {
    "duration": 5,
    "start_time": "2023-09-09T05:39:17.730Z"
   },
   {
    "duration": 7,
    "start_time": "2023-09-09T05:39:17.737Z"
   },
   {
    "duration": 5,
    "start_time": "2023-09-09T05:39:17.746Z"
   },
   {
    "duration": 5,
    "start_time": "2023-09-09T05:39:17.752Z"
   },
   {
    "duration": 4,
    "start_time": "2023-09-09T05:39:17.758Z"
   },
   {
    "duration": 205,
    "start_time": "2023-09-09T05:39:17.764Z"
   },
   {
    "duration": 5,
    "start_time": "2023-09-09T05:39:17.970Z"
   },
   {
    "duration": 2988,
    "start_time": "2023-09-09T05:39:17.977Z"
   },
   {
    "duration": 176,
    "start_time": "2023-09-09T05:39:20.967Z"
   },
   {
    "duration": 5,
    "start_time": "2023-09-09T05:39:21.144Z"
   },
   {
    "duration": 5,
    "start_time": "2023-09-09T05:39:21.151Z"
   },
   {
    "duration": 23,
    "start_time": "2023-09-09T05:39:21.158Z"
   },
   {
    "duration": 35,
    "start_time": "2023-09-09T05:39:21.183Z"
   },
   {
    "duration": 2010,
    "start_time": "2023-09-09T05:39:21.219Z"
   },
   {
    "duration": 8,
    "start_time": "2023-09-09T05:39:23.230Z"
   },
   {
    "duration": 13,
    "start_time": "2023-09-09T05:39:23.240Z"
   },
   {
    "duration": 55,
    "start_time": "2023-09-09T05:39:23.255Z"
   },
   {
    "duration": 8,
    "start_time": "2023-09-09T05:39:23.312Z"
   },
   {
    "duration": 12,
    "start_time": "2023-09-09T05:39:23.322Z"
   },
   {
    "duration": 22,
    "start_time": "2023-09-09T05:39:23.335Z"
   },
   {
    "duration": 38,
    "start_time": "2023-09-09T05:39:23.359Z"
   },
   {
    "duration": 27,
    "start_time": "2023-09-09T05:39:23.399Z"
   },
   {
    "duration": 188,
    "start_time": "2023-09-09T05:39:23.428Z"
   },
   {
    "duration": 821,
    "start_time": "2023-09-09T05:39:38.368Z"
   },
   {
    "duration": 19,
    "start_time": "2023-09-09T05:39:39.192Z"
   },
   {
    "duration": 2146,
    "start_time": "2023-09-09T05:39:39.213Z"
   },
   {
    "duration": 13,
    "start_time": "2023-09-09T05:39:41.362Z"
   },
   {
    "duration": 13,
    "start_time": "2023-09-09T05:39:41.377Z"
   },
   {
    "duration": 27,
    "start_time": "2023-09-09T05:39:41.392Z"
   },
   {
    "duration": 5,
    "start_time": "2023-09-09T05:39:41.422Z"
   },
   {
    "duration": 30,
    "start_time": "2023-09-09T05:39:41.430Z"
   },
   {
    "duration": 7,
    "start_time": "2023-09-09T05:39:41.462Z"
   },
   {
    "duration": 45,
    "start_time": "2023-09-09T05:39:41.473Z"
   },
   {
    "duration": 5,
    "start_time": "2023-09-09T05:39:41.520Z"
   },
   {
    "duration": 11,
    "start_time": "2023-09-09T05:39:41.526Z"
   },
   {
    "duration": 10,
    "start_time": "2023-09-09T05:39:41.538Z"
   },
   {
    "duration": 6,
    "start_time": "2023-09-09T05:39:41.550Z"
   },
   {
    "duration": 66,
    "start_time": "2023-09-09T05:39:41.558Z"
   },
   {
    "duration": 7,
    "start_time": "2023-09-09T05:39:41.626Z"
   },
   {
    "duration": 10,
    "start_time": "2023-09-09T05:39:41.634Z"
   },
   {
    "duration": 6,
    "start_time": "2023-09-09T05:39:41.646Z"
   },
   {
    "duration": 187,
    "start_time": "2023-09-09T05:39:41.654Z"
   },
   {
    "duration": 8,
    "start_time": "2023-09-09T05:39:41.843Z"
   },
   {
    "duration": 16,
    "start_time": "2023-09-09T05:39:41.852Z"
   },
   {
    "duration": 179,
    "start_time": "2023-09-09T05:39:41.870Z"
   },
   {
    "duration": 12,
    "start_time": "2023-09-09T05:39:42.051Z"
   },
   {
    "duration": 134,
    "start_time": "2023-09-09T05:39:42.064Z"
   },
   {
    "duration": 13,
    "start_time": "2023-09-09T05:39:42.200Z"
   },
   {
    "duration": 123,
    "start_time": "2023-09-09T05:39:42.215Z"
   },
   {
    "duration": 10,
    "start_time": "2023-09-09T05:39:42.340Z"
   },
   {
    "duration": 159,
    "start_time": "2023-09-09T05:39:42.355Z"
   },
   {
    "duration": 161,
    "start_time": "2023-09-09T05:39:42.517Z"
   },
   {
    "duration": 115,
    "start_time": "2023-09-09T05:39:42.679Z"
   },
   {
    "duration": 14,
    "start_time": "2023-09-09T05:39:42.796Z"
   },
   {
    "duration": 210,
    "start_time": "2023-09-09T05:39:42.812Z"
   },
   {
    "duration": 4,
    "start_time": "2023-09-09T05:39:43.024Z"
   },
   {
    "duration": 9,
    "start_time": "2023-09-09T05:39:43.030Z"
   },
   {
    "duration": 7,
    "start_time": "2023-09-09T05:39:43.040Z"
   },
   {
    "duration": 6,
    "start_time": "2023-09-09T05:39:43.049Z"
   },
   {
    "duration": 3,
    "start_time": "2023-09-09T05:39:43.057Z"
   },
   {
    "duration": 206,
    "start_time": "2023-09-09T05:39:43.062Z"
   },
   {
    "duration": 5,
    "start_time": "2023-09-09T05:39:43.269Z"
   },
   {
    "duration": 3251,
    "start_time": "2023-09-09T05:39:43.276Z"
   },
   {
    "duration": 221,
    "start_time": "2023-09-09T05:39:46.535Z"
   },
   {
    "duration": 7,
    "start_time": "2023-09-09T05:39:46.759Z"
   },
   {
    "duration": 6,
    "start_time": "2023-09-09T05:39:46.768Z"
   },
   {
    "duration": 6,
    "start_time": "2023-09-09T05:39:46.776Z"
   },
   {
    "duration": 36,
    "start_time": "2023-09-09T05:39:46.784Z"
   },
   {
    "duration": 2274,
    "start_time": "2023-09-09T05:39:46.822Z"
   },
   {
    "duration": 15,
    "start_time": "2023-09-09T05:39:49.098Z"
   },
   {
    "duration": 19,
    "start_time": "2023-09-09T05:39:49.115Z"
   },
   {
    "duration": 60,
    "start_time": "2023-09-09T05:39:49.136Z"
   },
   {
    "duration": 15,
    "start_time": "2023-09-09T05:39:49.198Z"
   },
   {
    "duration": 17,
    "start_time": "2023-09-09T05:39:49.215Z"
   },
   {
    "duration": 17,
    "start_time": "2023-09-09T05:39:49.234Z"
   },
   {
    "duration": 36,
    "start_time": "2023-09-09T05:39:49.253Z"
   },
   {
    "duration": 32,
    "start_time": "2023-09-09T05:39:49.291Z"
   },
   {
    "duration": 194,
    "start_time": "2023-09-09T05:39:49.326Z"
   },
   {
    "duration": 1202,
    "start_time": "2023-09-09T06:56:48.424Z"
   },
   {
    "duration": 16,
    "start_time": "2023-09-09T06:56:51.457Z"
   },
   {
    "duration": 2075,
    "start_time": "2023-09-09T06:56:52.366Z"
   },
   {
    "duration": 10,
    "start_time": "2023-09-09T06:56:54.443Z"
   },
   {
    "duration": 12,
    "start_time": "2023-09-09T06:56:56.451Z"
   },
   {
    "duration": 10,
    "start_time": "2023-09-09T06:56:57.428Z"
   },
   {
    "duration": 6,
    "start_time": "2023-09-09T06:57:00.860Z"
   },
   {
    "duration": 33,
    "start_time": "2023-09-09T06:57:02.061Z"
   },
   {
    "duration": 6,
    "start_time": "2023-09-09T06:57:02.587Z"
   },
   {
    "duration": 10,
    "start_time": "2023-09-09T06:57:02.957Z"
   },
   {
    "duration": 7,
    "start_time": "2023-09-09T06:57:03.303Z"
   },
   {
    "duration": 9,
    "start_time": "2023-09-09T06:57:04.354Z"
   },
   {
    "duration": 9,
    "start_time": "2023-09-09T06:57:06.750Z"
   },
   {
    "duration": 5,
    "start_time": "2023-09-09T06:57:08.357Z"
   },
   {
    "duration": 24,
    "start_time": "2023-09-09T06:57:11.673Z"
   },
   {
    "duration": 5,
    "start_time": "2023-09-09T06:57:12.111Z"
   },
   {
    "duration": 7,
    "start_time": "2023-09-09T06:57:12.489Z"
   },
   {
    "duration": 7,
    "start_time": "2023-09-09T06:57:12.931Z"
   },
   {
    "duration": 163,
    "start_time": "2023-09-09T06:57:15.261Z"
   },
   {
    "duration": 8,
    "start_time": "2023-09-09T06:57:15.653Z"
   },
   {
    "duration": 17,
    "start_time": "2023-09-09T06:57:18.992Z"
   },
   {
    "duration": 150,
    "start_time": "2023-09-09T06:57:22.567Z"
   },
   {
    "duration": 12,
    "start_time": "2023-09-09T07:01:29.179Z"
   },
   {
    "duration": 113,
    "start_time": "2023-09-09T07:02:11.499Z"
   },
   {
    "duration": 7,
    "start_time": "2023-09-09T07:02:13.101Z"
   },
   {
    "duration": 101,
    "start_time": "2023-09-09T07:02:14.359Z"
   },
   {
    "duration": 5,
    "start_time": "2023-09-09T07:03:03.544Z"
   },
   {
    "duration": 117,
    "start_time": "2023-09-09T07:03:05.079Z"
   },
   {
    "duration": 115,
    "start_time": "2023-09-09T07:03:08.833Z"
   },
   {
    "duration": 6,
    "start_time": "2023-09-09T07:03:10.156Z"
   },
   {
    "duration": 203,
    "start_time": "2023-09-09T07:03:11.206Z"
   },
   {
    "duration": 112,
    "start_time": "2023-09-09T07:03:29.790Z"
   },
   {
    "duration": 6,
    "start_time": "2023-09-09T07:03:30.506Z"
   },
   {
    "duration": 110,
    "start_time": "2023-09-09T07:03:34.129Z"
   },
   {
    "duration": 848,
    "start_time": "2023-09-09T07:04:04.814Z"
   },
   {
    "duration": 17,
    "start_time": "2023-09-09T07:04:05.664Z"
   },
   {
    "duration": 2082,
    "start_time": "2023-09-09T07:04:05.939Z"
   },
   {
    "duration": 10,
    "start_time": "2023-09-09T07:04:08.024Z"
   },
   {
    "duration": 12,
    "start_time": "2023-09-09T07:04:08.035Z"
   },
   {
    "duration": 10,
    "start_time": "2023-09-09T07:04:08.369Z"
   },
   {
    "duration": 5,
    "start_time": "2023-09-09T07:04:11.023Z"
   },
   {
    "duration": 29,
    "start_time": "2023-09-09T07:04:11.652Z"
   },
   {
    "duration": 6,
    "start_time": "2023-09-09T07:04:11.955Z"
   },
   {
    "duration": 11,
    "start_time": "2023-09-09T07:04:12.225Z"
   },
   {
    "duration": 5,
    "start_time": "2023-09-09T07:04:12.441Z"
   },
   {
    "duration": 9,
    "start_time": "2023-09-09T07:04:12.774Z"
   },
   {
    "duration": 9,
    "start_time": "2023-09-09T07:04:13.005Z"
   },
   {
    "duration": 5,
    "start_time": "2023-09-09T07:04:14.225Z"
   },
   {
    "duration": 30,
    "start_time": "2023-09-09T07:04:15.236Z"
   },
   {
    "duration": 5,
    "start_time": "2023-09-09T07:04:15.469Z"
   },
   {
    "duration": 7,
    "start_time": "2023-09-09T07:04:15.714Z"
   },
   {
    "duration": 7,
    "start_time": "2023-09-09T07:04:15.970Z"
   },
   {
    "duration": 149,
    "start_time": "2023-09-09T07:04:16.346Z"
   },
   {
    "duration": 8,
    "start_time": "2023-09-09T07:04:16.755Z"
   },
   {
    "duration": 18,
    "start_time": "2023-09-09T07:04:18.223Z"
   },
   {
    "duration": 204,
    "start_time": "2023-09-09T07:04:20.048Z"
   },
   {
    "duration": 12,
    "start_time": "2023-09-09T07:04:21.046Z"
   },
   {
    "duration": 115,
    "start_time": "2023-09-09T07:04:22.454Z"
   },
   {
    "duration": 8,
    "start_time": "2023-09-09T07:04:29.186Z"
   },
   {
    "duration": 172,
    "start_time": "2023-09-09T07:04:29.694Z"
   },
   {
    "duration": 7,
    "start_time": "2023-09-09T07:04:54.863Z"
   },
   {
    "duration": 117,
    "start_time": "2023-09-09T07:04:55.426Z"
   },
   {
    "duration": 120,
    "start_time": "2023-09-09T07:05:01.517Z"
   },
   {
    "duration": 111,
    "start_time": "2023-09-09T07:05:08.117Z"
   },
   {
    "duration": 7,
    "start_time": "2023-09-09T07:05:09.483Z"
   },
   {
    "duration": 199,
    "start_time": "2023-09-09T07:05:09.949Z"
   },
   {
    "duration": 5,
    "start_time": "2023-09-09T07:05:42.114Z"
   },
   {
    "duration": 7,
    "start_time": "2023-09-09T07:05:42.620Z"
   },
   {
    "duration": 6,
    "start_time": "2023-09-09T07:05:43.132Z"
   },
   {
    "duration": 6,
    "start_time": "2023-09-09T07:05:43.736Z"
   },
   {
    "duration": 3,
    "start_time": "2023-09-09T07:05:45.574Z"
   },
   {
    "duration": 320,
    "start_time": "2023-09-09T07:05:45.852Z"
   },
   {
    "duration": 5,
    "start_time": "2023-09-09T07:05:47.486Z"
   },
   {
    "duration": 127,
    "start_time": "2023-09-09T07:08:55.926Z"
   },
   {
    "duration": 6,
    "start_time": "2023-09-09T07:11:02.993Z"
   },
   {
    "duration": 137,
    "start_time": "2023-09-09T07:11:03.730Z"
   },
   {
    "duration": 772,
    "start_time": "2023-09-09T07:11:39.990Z"
   },
   {
    "duration": 16,
    "start_time": "2023-09-09T07:11:41.548Z"
   },
   {
    "duration": 2044,
    "start_time": "2023-09-09T07:11:42.416Z"
   },
   {
    "duration": 11,
    "start_time": "2023-09-09T07:11:45.605Z"
   },
   {
    "duration": 12,
    "start_time": "2023-09-09T07:11:47.414Z"
   },
   {
    "duration": 10,
    "start_time": "2023-09-09T07:11:48.523Z"
   },
   {
    "duration": 5,
    "start_time": "2023-09-09T07:11:50.985Z"
   },
   {
    "duration": 30,
    "start_time": "2023-09-09T07:11:51.826Z"
   },
   {
    "duration": 7,
    "start_time": "2023-09-09T07:11:52.286Z"
   },
   {
    "duration": 11,
    "start_time": "2023-09-09T07:11:52.469Z"
   },
   {
    "duration": 5,
    "start_time": "2023-09-09T07:11:52.621Z"
   },
   {
    "duration": 9,
    "start_time": "2023-09-09T07:11:52.769Z"
   },
   {
    "duration": 9,
    "start_time": "2023-09-09T07:11:53.095Z"
   },
   {
    "duration": 5,
    "start_time": "2023-09-09T07:11:54.274Z"
   },
   {
    "duration": 23,
    "start_time": "2023-09-09T07:11:55.105Z"
   },
   {
    "duration": 6,
    "start_time": "2023-09-09T07:11:55.265Z"
   },
   {
    "duration": 8,
    "start_time": "2023-09-09T07:11:55.378Z"
   },
   {
    "duration": 7,
    "start_time": "2023-09-09T07:11:55.556Z"
   },
   {
    "duration": 154,
    "start_time": "2023-09-09T07:11:56.129Z"
   },
   {
    "duration": 7,
    "start_time": "2023-09-09T07:11:56.677Z"
   },
   {
    "duration": 14,
    "start_time": "2023-09-09T07:11:58.055Z"
   },
   {
    "duration": 151,
    "start_time": "2023-09-09T07:11:59.687Z"
   },
   {
    "duration": 13,
    "start_time": "2023-09-09T07:12:00.558Z"
   },
   {
    "duration": 112,
    "start_time": "2023-09-09T07:12:01.587Z"
   },
   {
    "duration": 6,
    "start_time": "2023-09-09T07:12:05.409Z"
   },
   {
    "duration": 110,
    "start_time": "2023-09-09T07:12:06.445Z"
   },
   {
    "duration": 132,
    "start_time": "2023-09-09T07:12:15.318Z"
   },
   {
    "duration": 114,
    "start_time": "2023-09-09T07:12:17.690Z"
   },
   {
    "duration": 7,
    "start_time": "2023-09-09T07:12:19.111Z"
   },
   {
    "duration": 111,
    "start_time": "2023-09-09T07:12:19.545Z"
   },
   {
    "duration": 5,
    "start_time": "2023-09-09T07:12:27.067Z"
   },
   {
    "duration": 6,
    "start_time": "2023-09-09T07:12:27.744Z"
   },
   {
    "duration": 6,
    "start_time": "2023-09-09T07:12:28.332Z"
   },
   {
    "duration": 6,
    "start_time": "2023-09-09T07:12:28.871Z"
   },
   {
    "duration": 3,
    "start_time": "2023-09-09T07:12:29.398Z"
   },
   {
    "duration": 428,
    "start_time": "2023-09-09T07:12:29.769Z"
   },
   {
    "duration": 5,
    "start_time": "2023-09-09T07:12:32.292Z"
   },
   {
    "duration": 2979,
    "start_time": "2023-09-09T07:12:37.474Z"
   },
   {
    "duration": 126,
    "start_time": "2023-09-09T07:26:50.066Z"
   },
   {
    "duration": 156,
    "start_time": "2023-09-09T07:27:16.884Z"
   },
   {
    "duration": 5,
    "start_time": "2023-09-09T07:27:17.376Z"
   },
   {
    "duration": 5,
    "start_time": "2023-09-09T07:27:17.768Z"
   },
   {
    "duration": 83,
    "start_time": "2023-09-09T07:29:07.370Z"
   },
   {
    "duration": 14,
    "start_time": "2023-09-09T07:29:15.154Z"
   },
   {
    "duration": 125,
    "start_time": "2023-09-09T07:29:20.405Z"
   },
   {
    "duration": 154,
    "start_time": "2023-09-09T07:30:12.706Z"
   },
   {
    "duration": 169,
    "start_time": "2023-09-09T07:30:20.651Z"
   },
   {
    "duration": 143,
    "start_time": "2023-09-09T07:30:27.869Z"
   },
   {
    "duration": 8,
    "start_time": "2023-09-09T07:33:31.647Z"
   },
   {
    "duration": 7,
    "start_time": "2023-09-09T07:33:37.401Z"
   },
   {
    "duration": 43,
    "start_time": "2023-09-09T07:33:39.320Z"
   },
   {
    "duration": 8,
    "start_time": "2023-09-09T07:33:41.235Z"
   },
   {
    "duration": 5,
    "start_time": "2023-09-09T07:33:45.550Z"
   },
   {
    "duration": 5,
    "start_time": "2023-09-09T07:33:46.669Z"
   },
   {
    "duration": 8,
    "start_time": "2023-09-09T07:36:13.657Z"
   },
   {
    "duration": 25,
    "start_time": "2023-09-09T07:36:15.816Z"
   },
   {
    "duration": 178,
    "start_time": "2023-09-09T07:36:20.655Z"
   },
   {
    "duration": 24,
    "start_time": "2023-09-09T07:36:36.749Z"
   },
   {
    "duration": 7,
    "start_time": "2023-09-09T07:36:39.140Z"
   },
   {
    "duration": 26,
    "start_time": "2023-09-09T07:36:40.300Z"
   },
   {
    "duration": 178,
    "start_time": "2023-09-09T07:36:41.672Z"
   },
   {
    "duration": 241,
    "start_time": "2023-09-09T07:38:11.647Z"
   },
   {
    "duration": 848,
    "start_time": "2023-09-09T07:39:41.522Z"
   },
   {
    "duration": 17,
    "start_time": "2023-09-09T07:39:42.754Z"
   },
   {
    "duration": 2077,
    "start_time": "2023-09-09T07:39:42.992Z"
   },
   {
    "duration": 10,
    "start_time": "2023-09-09T07:39:45.072Z"
   },
   {
    "duration": 29,
    "start_time": "2023-09-09T07:39:45.084Z"
   },
   {
    "duration": 17,
    "start_time": "2023-09-09T07:39:45.115Z"
   },
   {
    "duration": 5,
    "start_time": "2023-09-09T07:39:46.869Z"
   },
   {
    "duration": 28,
    "start_time": "2023-09-09T07:39:47.269Z"
   },
   {
    "duration": 6,
    "start_time": "2023-09-09T07:39:47.735Z"
   },
   {
    "duration": 11,
    "start_time": "2023-09-09T07:39:47.903Z"
   },
   {
    "duration": 5,
    "start_time": "2023-09-09T07:39:48.043Z"
   },
   {
    "duration": 8,
    "start_time": "2023-09-09T07:39:48.191Z"
   },
   {
    "duration": 8,
    "start_time": "2023-09-09T07:39:48.450Z"
   },
   {
    "duration": 5,
    "start_time": "2023-09-09T07:39:49.580Z"
   },
   {
    "duration": 25,
    "start_time": "2023-09-09T07:39:50.259Z"
   },
   {
    "duration": 5,
    "start_time": "2023-09-09T07:39:50.455Z"
   },
   {
    "duration": 8,
    "start_time": "2023-09-09T07:39:50.628Z"
   },
   {
    "duration": 7,
    "start_time": "2023-09-09T07:39:50.810Z"
   },
   {
    "duration": 154,
    "start_time": "2023-09-09T07:39:51.058Z"
   },
   {
    "duration": 9,
    "start_time": "2023-09-09T07:39:51.429Z"
   },
   {
    "duration": 17,
    "start_time": "2023-09-09T07:39:52.336Z"
   },
   {
    "duration": 149,
    "start_time": "2023-09-09T07:39:53.412Z"
   },
   {
    "duration": 11,
    "start_time": "2023-09-09T07:39:53.701Z"
   },
   {
    "duration": 117,
    "start_time": "2023-09-09T07:39:54.930Z"
   },
   {
    "duration": 5,
    "start_time": "2023-09-09T07:39:57.119Z"
   },
   {
    "duration": 108,
    "start_time": "2023-09-09T07:39:58.772Z"
   },
   {
    "duration": 115,
    "start_time": "2023-09-09T07:40:03.322Z"
   },
   {
    "duration": 139,
    "start_time": "2023-09-09T07:40:05.258Z"
   },
   {
    "duration": 7,
    "start_time": "2023-09-09T07:40:06.652Z"
   },
   {
    "duration": 104,
    "start_time": "2023-09-09T07:40:07.168Z"
   },
   {
    "duration": 4,
    "start_time": "2023-09-09T07:40:14.902Z"
   },
   {
    "duration": 7,
    "start_time": "2023-09-09T07:40:15.411Z"
   },
   {
    "duration": 6,
    "start_time": "2023-09-09T07:40:15.915Z"
   },
   {
    "duration": 6,
    "start_time": "2023-09-09T07:40:16.608Z"
   },
   {
    "duration": 3,
    "start_time": "2023-09-09T07:40:18.053Z"
   },
   {
    "duration": 389,
    "start_time": "2023-09-09T07:40:18.058Z"
   },
   {
    "duration": 4,
    "start_time": "2023-09-09T07:40:19.523Z"
   },
   {
    "duration": 2922,
    "start_time": "2023-09-09T07:40:21.056Z"
   },
   {
    "duration": 124,
    "start_time": "2023-09-09T07:40:34.952Z"
   },
   {
    "duration": 148,
    "start_time": "2023-09-09T07:40:57.001Z"
   },
   {
    "duration": 124,
    "start_time": "2023-09-09T07:41:04.424Z"
   },
   {
    "duration": 149,
    "start_time": "2023-09-09T07:41:20.085Z"
   },
   {
    "duration": 5,
    "start_time": "2023-09-09T07:41:20.837Z"
   },
   {
    "duration": 5,
    "start_time": "2023-09-09T07:41:21.226Z"
   },
   {
    "duration": 4,
    "start_time": "2023-09-09T07:41:23.410Z"
   },
   {
    "duration": 12,
    "start_time": "2023-09-09T07:41:27.344Z"
   },
   {
    "duration": 5,
    "start_time": "2023-09-09T07:41:29.321Z"
   },
   {
    "duration": 12,
    "start_time": "2023-09-09T07:41:29.771Z"
   },
   {
    "duration": 138,
    "start_time": "2023-09-09T07:41:29.983Z"
   },
   {
    "duration": 147,
    "start_time": "2023-09-09T07:41:30.393Z"
   },
   {
    "duration": 183,
    "start_time": "2023-09-09T07:41:31.727Z"
   },
   {
    "duration": 144,
    "start_time": "2023-09-09T07:41:36.983Z"
   },
   {
    "duration": 9,
    "start_time": "2023-09-09T07:41:40.048Z"
   },
   {
    "duration": 7,
    "start_time": "2023-09-09T07:41:40.493Z"
   },
   {
    "duration": 40,
    "start_time": "2023-09-09T07:41:40.727Z"
   },
   {
    "duration": 8,
    "start_time": "2023-09-09T07:41:42.261Z"
   },
   {
    "duration": 4,
    "start_time": "2023-09-09T07:41:43.267Z"
   },
   {
    "duration": 4,
    "start_time": "2023-09-09T07:41:45.806Z"
   },
   {
    "duration": 24,
    "start_time": "2023-09-09T07:41:52.280Z"
   },
   {
    "duration": 8,
    "start_time": "2023-09-09T07:41:53.830Z"
   },
   {
    "duration": 96,
    "start_time": "2023-09-09T07:41:54.040Z"
   },
   {
    "duration": 176,
    "start_time": "2023-09-09T07:41:54.436Z"
   },
   {
    "duration": 1451,
    "start_time": "2023-09-09T18:11:41.635Z"
   },
   {
    "duration": 17,
    "start_time": "2023-09-09T18:11:43.089Z"
   },
   {
    "duration": 2094,
    "start_time": "2023-09-09T18:11:43.109Z"
   },
   {
    "duration": 10,
    "start_time": "2023-09-09T18:11:45.206Z"
   },
   {
    "duration": 14,
    "start_time": "2023-09-09T18:11:45.217Z"
   },
   {
    "duration": 12,
    "start_time": "2023-09-09T18:11:45.234Z"
   },
   {
    "duration": 7,
    "start_time": "2023-09-09T18:11:45.248Z"
   },
   {
    "duration": 61,
    "start_time": "2023-09-09T18:11:45.257Z"
   },
   {
    "duration": 8,
    "start_time": "2023-09-09T18:11:45.321Z"
   },
   {
    "duration": 18,
    "start_time": "2023-09-09T18:11:45.332Z"
   },
   {
    "duration": 7,
    "start_time": "2023-09-09T18:11:45.352Z"
   },
   {
    "duration": 12,
    "start_time": "2023-09-09T18:11:45.361Z"
   },
   {
    "duration": 38,
    "start_time": "2023-09-09T18:11:45.376Z"
   },
   {
    "duration": 12,
    "start_time": "2023-09-09T18:11:45.416Z"
   },
   {
    "duration": 41,
    "start_time": "2023-09-09T18:11:45.430Z"
   },
   {
    "duration": 5,
    "start_time": "2023-09-09T18:11:45.473Z"
   },
   {
    "duration": 18,
    "start_time": "2023-09-09T18:11:45.480Z"
   },
   {
    "duration": 10,
    "start_time": "2023-09-09T18:11:45.500Z"
   },
   {
    "duration": 168,
    "start_time": "2023-09-09T18:11:45.512Z"
   },
   {
    "duration": 8,
    "start_time": "2023-09-09T18:11:45.682Z"
   },
   {
    "duration": 26,
    "start_time": "2023-09-09T18:11:45.692Z"
   },
   {
    "duration": 169,
    "start_time": "2023-09-09T18:11:45.720Z"
   },
   {
    "duration": 20,
    "start_time": "2023-09-09T18:11:45.891Z"
   },
   {
    "duration": 140,
    "start_time": "2023-09-09T18:11:45.913Z"
   },
   {
    "duration": 6,
    "start_time": "2023-09-09T18:11:46.056Z"
   },
   {
    "duration": 144,
    "start_time": "2023-09-09T18:11:46.063Z"
   },
   {
    "duration": 134,
    "start_time": "2023-09-09T18:11:46.208Z"
   },
   {
    "duration": 114,
    "start_time": "2023-09-09T18:11:46.346Z"
   },
   {
    "duration": 7,
    "start_time": "2023-09-09T18:11:46.462Z"
   },
   {
    "duration": 129,
    "start_time": "2023-09-09T18:11:46.470Z"
   },
   {
    "duration": 10,
    "start_time": "2023-09-09T18:11:46.601Z"
   },
   {
    "duration": 9,
    "start_time": "2023-09-09T18:11:46.612Z"
   },
   {
    "duration": 6,
    "start_time": "2023-09-09T18:11:46.623Z"
   },
   {
    "duration": 5,
    "start_time": "2023-09-09T18:11:46.631Z"
   },
   {
    "duration": 15,
    "start_time": "2023-09-09T18:11:46.638Z"
   },
   {
    "duration": 396,
    "start_time": "2023-09-09T18:11:46.655Z"
   },
   {
    "duration": 5,
    "start_time": "2023-09-09T18:11:47.052Z"
   },
   {
    "duration": 5234,
    "start_time": "2023-09-09T18:11:47.058Z"
   },
   {
    "duration": 163,
    "start_time": "2023-09-09T18:11:52.294Z"
   },
   {
    "duration": 229,
    "start_time": "2023-09-09T18:11:52.459Z"
   },
   {
    "duration": 7,
    "start_time": "2023-09-09T18:11:52.690Z"
   },
   {
    "duration": 13,
    "start_time": "2023-09-09T18:11:52.711Z"
   },
   {
    "duration": 10,
    "start_time": "2023-09-09T18:11:52.727Z"
   },
   {
    "duration": 28,
    "start_time": "2023-09-09T18:11:52.740Z"
   },
   {
    "duration": 162,
    "start_time": "2023-09-09T18:11:52.771Z"
   },
   {
    "duration": 166,
    "start_time": "2023-09-09T18:11:52.935Z"
   },
   {
    "duration": 181,
    "start_time": "2023-09-09T18:11:53.109Z"
   },
   {
    "duration": 157,
    "start_time": "2023-09-09T18:11:53.291Z"
   },
   {
    "duration": 9,
    "start_time": "2023-09-09T18:11:53.449Z"
   },
   {
    "duration": 13,
    "start_time": "2023-09-09T18:11:53.460Z"
   },
   {
    "duration": 52,
    "start_time": "2023-09-09T18:11:53.475Z"
   },
   {
    "duration": 9,
    "start_time": "2023-09-09T18:11:53.529Z"
   },
   {
    "duration": 4,
    "start_time": "2023-09-09T18:11:53.540Z"
   },
   {
    "duration": 6,
    "start_time": "2023-09-09T18:11:53.546Z"
   },
   {
    "duration": 64,
    "start_time": "2023-09-09T18:11:53.554Z"
   },
   {
    "duration": 9,
    "start_time": "2023-09-09T18:11:53.620Z"
   },
   {
    "duration": 23,
    "start_time": "2023-09-09T18:11:53.631Z"
   },
   {
    "duration": 194,
    "start_time": "2023-09-09T18:11:53.656Z"
   },
   {
    "duration": 1424,
    "start_time": "2023-09-09T18:12:15.927Z"
   },
   {
    "duration": 70,
    "start_time": "2023-09-09T18:12:17.353Z"
   },
   {
    "duration": 4512,
    "start_time": "2023-09-09T18:12:17.425Z"
   },
   {
    "duration": 13,
    "start_time": "2023-09-09T18:12:21.940Z"
   },
   {
    "duration": 15,
    "start_time": "2023-09-09T18:12:22.009Z"
   },
   {
    "duration": 16,
    "start_time": "2023-09-09T18:12:22.026Z"
   },
   {
    "duration": 67,
    "start_time": "2023-09-09T18:12:22.044Z"
   },
   {
    "duration": 96,
    "start_time": "2023-09-09T18:12:22.114Z"
   },
   {
    "duration": 6,
    "start_time": "2023-09-09T18:12:22.212Z"
   },
   {
    "duration": 38,
    "start_time": "2023-09-09T18:12:22.221Z"
   },
   {
    "duration": 50,
    "start_time": "2023-09-09T18:12:22.262Z"
   },
   {
    "duration": 36,
    "start_time": "2023-09-09T18:12:22.314Z"
   },
   {
    "duration": 58,
    "start_time": "2023-09-09T18:12:22.352Z"
   },
   {
    "duration": 7,
    "start_time": "2023-09-09T18:12:22.412Z"
   },
   {
    "duration": 93,
    "start_time": "2023-09-09T18:12:22.421Z"
   },
   {
    "duration": 6,
    "start_time": "2023-09-09T18:12:22.516Z"
   },
   {
    "duration": 23,
    "start_time": "2023-09-09T18:12:22.524Z"
   },
   {
    "duration": 69,
    "start_time": "2023-09-09T18:12:22.549Z"
   },
   {
    "duration": 332,
    "start_time": "2023-09-09T18:12:22.622Z"
   },
   {
    "duration": 59,
    "start_time": "2023-09-09T18:12:22.956Z"
   },
   {
    "duration": 138,
    "start_time": "2023-09-09T18:12:23.017Z"
   },
   {
    "duration": 367,
    "start_time": "2023-09-09T18:12:23.158Z"
   },
   {
    "duration": 12,
    "start_time": "2023-09-09T18:12:23.527Z"
   },
   {
    "duration": 277,
    "start_time": "2023-09-09T18:12:23.541Z"
   },
   {
    "duration": 7,
    "start_time": "2023-09-09T18:12:23.820Z"
   },
   {
    "duration": 227,
    "start_time": "2023-09-09T18:12:23.829Z"
   },
   {
    "duration": 239,
    "start_time": "2023-09-09T18:12:24.109Z"
   },
   {
    "duration": 271,
    "start_time": "2023-09-09T18:12:24.352Z"
   },
   {
    "duration": 6,
    "start_time": "2023-09-09T18:12:24.625Z"
   },
   {
    "duration": 210,
    "start_time": "2023-09-09T18:12:24.633Z"
   },
   {
    "duration": 65,
    "start_time": "2023-09-09T18:12:24.845Z"
   },
   {
    "duration": 7,
    "start_time": "2023-09-09T18:12:24.911Z"
   },
   {
    "duration": 7,
    "start_time": "2023-09-09T18:12:24.919Z"
   },
   {
    "duration": 11,
    "start_time": "2023-09-09T18:12:24.927Z"
   },
   {
    "duration": 70,
    "start_time": "2023-09-09T18:12:24.940Z"
   },
   {
    "duration": 805,
    "start_time": "2023-09-09T18:12:25.011Z"
   },
   {
    "duration": 5,
    "start_time": "2023-09-09T18:12:25.818Z"
   },
   {
    "duration": 6210,
    "start_time": "2023-09-09T18:12:25.824Z"
   },
   {
    "duration": 286,
    "start_time": "2023-09-09T18:12:32.036Z"
   },
   {
    "duration": 404,
    "start_time": "2023-09-09T18:12:32.325Z"
   },
   {
    "duration": 4,
    "start_time": "2023-09-09T18:12:32.731Z"
   },
   {
    "duration": 7,
    "start_time": "2023-09-09T18:12:32.737Z"
   },
   {
    "duration": 65,
    "start_time": "2023-09-09T18:12:32.746Z"
   },
   {
    "duration": 20,
    "start_time": "2023-09-09T18:12:32.813Z"
   },
   {
    "duration": 317,
    "start_time": "2023-09-09T18:12:32.837Z"
   },
   {
    "duration": 300,
    "start_time": "2023-09-09T18:12:33.156Z"
   },
   {
    "duration": 329,
    "start_time": "2023-09-09T18:12:33.510Z"
   },
   {
    "duration": 306,
    "start_time": "2023-09-09T18:12:33.841Z"
   },
   {
    "duration": 62,
    "start_time": "2023-09-09T18:12:34.149Z"
   },
   {
    "duration": 6,
    "start_time": "2023-09-09T18:12:34.213Z"
   },
   {
    "duration": 99,
    "start_time": "2023-09-09T18:12:34.220Z"
   },
   {
    "duration": 8,
    "start_time": "2023-09-09T18:12:34.320Z"
   },
   {
    "duration": 5,
    "start_time": "2023-09-09T18:12:34.330Z"
   },
   {
    "duration": 5,
    "start_time": "2023-09-09T18:12:34.336Z"
   },
   {
    "duration": 88,
    "start_time": "2023-09-09T18:12:34.343Z"
   },
   {
    "duration": 8,
    "start_time": "2023-09-09T18:12:34.433Z"
   },
   {
    "duration": 86,
    "start_time": "2023-09-09T18:12:34.443Z"
   },
   {
    "duration": 382,
    "start_time": "2023-09-09T18:12:34.531Z"
   },
   {
    "duration": 91,
    "start_time": "2023-09-09T18:15:34.404Z"
   }
  ],
  "kernelspec": {
   "display_name": "Python 3 (ipykernel)",
   "language": "python",
   "name": "python3"
  },
  "language_info": {
   "codemirror_mode": {
    "name": "ipython",
    "version": 3
   },
   "file_extension": ".py",
   "mimetype": "text/x-python",
   "name": "python",
   "nbconvert_exporter": "python",
   "pygments_lexer": "ipython3",
   "version": "3.9.5"
  },
  "toc": {
   "base_numbering": 1,
   "nav_menu": {},
   "number_sections": true,
   "sideBar": true,
   "skip_h1_title": true,
   "title_cell": "Table of Contents",
   "title_sidebar": "Contents",
   "toc_cell": false,
   "toc_position": {},
   "toc_section_display": true,
   "toc_window_display": false
  }
 },
 "nbformat": 4,
 "nbformat_minor": 2
}
